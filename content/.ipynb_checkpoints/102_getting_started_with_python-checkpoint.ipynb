{
 "cells": [
  {
   "cell_type": "markdown",
   "id": "24543fbe",
   "metadata": {},
   "source": [
    "# Agenda\n",
    "Over the previous two sessions we covered most of the basics we need before all the basics we need to get started on some more interesting reservoir engineering, production engineering, and geosciences problems. From this point on we will be taking a learn by projects approach. "
   ]
  },
  {
   "cell_type": "markdown",
   "id": "05c751ef",
   "metadata": {},
   "source": [
    "# A Gentle Introduction to Pandas\n",
    "\n",
    "## What is Pandas\n",
    "Pandas is an importable Python package with a data platform and an enourmous number of useful subroutines built in, and it has its own syntax. Pandas is easily the most used package in Python. If you installed the Anaconda data science platform then the pandas does not need to be installed as it already is. To use it, it must be imported, and recall that it is imported like so:\n",
    "\n",
    "import pandas \n",
    "\n",
    "Recall that we can import and assign an alias in one line like so:\n",
    "\n",
    "import pandas as pd\n",
    "\n",
    "Pandas is supposed to mean a panel of data. Pandas is as to a spreadsheet as one can get under Python, but its much more powerful and complicated than a spreadsheet.\n",
    "\n",
    "The scope of use of Pandas is enormous and can cover many hours and many hundreds of lines of text if we dedicated ourselves solely toward learning about Pandas. I dont see much utility in that. I think Pandas has to be absorbed in small doses, and this is the first dose. \n",
    "\n",
    "\n",
    "## Pandas Series and DataFrames\n",
    "\n",
    "There are two building blocks in Pandas, the series, and the dataframe. In Pandas a column of data is called a series.a collection of one or more series is called a dataframe. A series can be only one data type, an integer, a float, a logical True or False, a datetime, a timedelta, a string, or a category. It is not possible to have a column in a dataframe with more than one data type, but each column can be any data type. \n",
    "\n",
    "On first examination a series looks like a simple list of values, see below."
   ]
  },
  {
   "cell_type": "code",
   "execution_count": null,
   "id": "a323243f",
   "metadata": {},
   "outputs": [],
   "source": [
    "'''\n",
    "We need to build the kernel and populate it with data\n",
    "''' \n",
    "\n",
    "import pandas as pd\n",
    "\n",
    "# Now use pandas to import the file. Note the naming convention and the pandas alias of pd for pandas\n",
    "\n",
    "wells_df = pd.read_csv('Marten_Hills_meta.csv')"
   ]
  },
  {
   "cell_type": "code",
   "execution_count": null,
   "id": "7fe0a73e",
   "metadata": {},
   "outputs": [],
   "source": [
    "# Now lets look at the names of the columns using the pandas columns command\n",
    "\n",
    "cols = wells_df.columns\n",
    "print(cols)\n"
   ]
  },
  {
   "cell_type": "code",
   "execution_count": null,
   "id": "4f1c3498",
   "metadata": {},
   "outputs": [],
   "source": [
    "import pandas as pd\n",
    "\n",
    "# Recall that any string must be encased by quotes or tick marks, and that each value is delineated with a comma\n",
    "\n",
    "zone_series = pd.Series(['Wabamun', 'Clearwater', 'McMurray', 'Paleozoic', 'Wabiskaw', 'Unspecified',\n",
    " 'Mannville', 'Nisku', 'Grand Rapids', 'Keg River', 'Graminia', 'Devonian',\n",
    " 'Wabiskaw-McMurray', 'Joli Fou', 'Banff', 'Ireton'])\n",
    "\n",
    "zone_list = ['Wabamun', 'Clearwater', 'McMurray', 'Paleozoic', 'Wabiskaw', 'Unspecified',\n",
    " 'Mannville', 'Nisku', 'Grand Rapids', 'Keg River', 'Graminia', 'Devonian',\n",
    " 'Wabiskaw-McMurray', 'Joli Fou', 'Banff', 'Ireton']"
   ]
  },
  {
   "cell_type": "markdown",
   "id": "52a88158",
   "metadata": {},
   "source": [
    "\n",
    "But a Series is very different than a list in that every value in a Series has an index that follows it on every operation whereas a list has no persistent index, see below. \n",
    "    \n",
    "    \n",
    "    "
   ]
  },
  {
   "cell_type": "code",
   "execution_count": 2,
   "id": "eddcc6c5",
   "metadata": {},
   "outputs": [
    {
     "ename": "NameError",
     "evalue": "name 'zone_series' is not defined",
     "output_type": "error",
     "traceback": [
      "\u001b[1;31m---------------------------------------------------------------------------\u001b[0m",
      "\u001b[1;31mNameError\u001b[0m                                 Traceback (most recent call last)",
      "\u001b[1;32m~\\AppData\\Local\\Temp/ipykernel_20092/722870624.py\u001b[0m in \u001b[0;36m<module>\u001b[1;34m\u001b[0m\n\u001b[0;32m      1\u001b[0m \u001b[1;31m# In the eyes of Python a series looks like this:\u001b[0m\u001b[1;33m\u001b[0m\u001b[1;33m\u001b[0m\u001b[1;33m\u001b[0m\u001b[0m\n\u001b[0;32m      2\u001b[0m \u001b[1;33m\u001b[0m\u001b[0m\n\u001b[1;32m----> 3\u001b[1;33m \u001b[0mprint\u001b[0m\u001b[1;33m(\u001b[0m\u001b[1;34m'This is an unsorted Series:'\u001b[0m\u001b[1;33m,\u001b[0m \u001b[0mzone_series\u001b[0m\u001b[1;33m)\u001b[0m\u001b[1;33m\u001b[0m\u001b[1;33m\u001b[0m\u001b[0m\n\u001b[0m\u001b[0;32m      4\u001b[0m \u001b[1;33m\u001b[0m\u001b[0m\n\u001b[0;32m      5\u001b[0m \u001b[1;31m# note the index\u001b[0m\u001b[1;33m\u001b[0m\u001b[1;33m\u001b[0m\u001b[1;33m\u001b[0m\u001b[0m\n",
      "\u001b[1;31mNameError\u001b[0m: name 'zone_series' is not defined"
     ]
    }
   ],
   "source": [
    "# In the eyes of Python a series looks like this:\n",
    "\n",
    "print('This is an unsorted Series:', zone_series)\n",
    "\n",
    "# note the index \n",
    "\n",
    "print()\n",
    "print('This is a sorted Series:\\n', zone_series.sort_values())\n",
    "\n",
    "# Note the index of each value is preserved. Now lets look at a list\n",
    "\n",
    "\n"
   ]
  },
  {
   "cell_type": "code",
   "execution_count": 3,
   "id": "dde9e1e7",
   "metadata": {},
   "outputs": [
    {
     "ename": "NameError",
     "evalue": "name 'zone_list' is not defined",
     "output_type": "error",
     "traceback": [
      "\u001b[1;31m---------------------------------------------------------------------------\u001b[0m",
      "\u001b[1;31mNameError\u001b[0m                                 Traceback (most recent call last)",
      "\u001b[1;32m~\\AppData\\Local\\Temp/ipykernel_20092/2482798302.py\u001b[0m in \u001b[0;36m<module>\u001b[1;34m\u001b[0m\n\u001b[0;32m      1\u001b[0m \u001b[1;31m# In the eyes of Python a list looks like this:\u001b[0m\u001b[1;33m\u001b[0m\u001b[1;33m\u001b[0m\u001b[1;33m\u001b[0m\u001b[0m\n\u001b[0;32m      2\u001b[0m \u001b[1;33m\u001b[0m\u001b[0m\n\u001b[1;32m----> 3\u001b[1;33m \u001b[0mprint\u001b[0m\u001b[1;33m(\u001b[0m\u001b[1;34m'This is an unsorted List:\\n'\u001b[0m\u001b[1;33m,\u001b[0m \u001b[0mzone_list\u001b[0m\u001b[1;33m)\u001b[0m\u001b[1;33m\u001b[0m\u001b[1;33m\u001b[0m\u001b[0m\n\u001b[0m\u001b[0;32m      4\u001b[0m \u001b[1;33m\u001b[0m\u001b[0m\n\u001b[0;32m      5\u001b[0m \u001b[1;31m# note the index\u001b[0m\u001b[1;33m\u001b[0m\u001b[1;33m\u001b[0m\u001b[1;33m\u001b[0m\u001b[0m\n",
      "\u001b[1;31mNameError\u001b[0m: name 'zone_list' is not defined"
     ]
    }
   ],
   "source": [
    "print(wells_df['Formation'].unique())"
   ]
  },
  {
   "cell_type": "code",
   "execution_count": 4,
   "id": "204bb224",
   "metadata": {},
   "outputs": [
    {
     "ename": "NameError",
     "evalue": "name 'zone_list' is not defined",
     "output_type": "error",
     "traceback": [
      "\u001b[1;31m---------------------------------------------------------------------------\u001b[0m",
      "\u001b[1;31mNameError\u001b[0m                                 Traceback (most recent call last)",
      "\u001b[1;32m~\\AppData\\Local\\Temp/ipykernel_20092/2482798302.py\u001b[0m in \u001b[0;36m<module>\u001b[1;34m\u001b[0m\n\u001b[0;32m      1\u001b[0m \u001b[1;31m# In the eyes of Python a list looks like this:\u001b[0m\u001b[1;33m\u001b[0m\u001b[1;33m\u001b[0m\u001b[1;33m\u001b[0m\u001b[0m\n\u001b[0;32m      2\u001b[0m \u001b[1;33m\u001b[0m\u001b[0m\n\u001b[1;32m----> 3\u001b[1;33m \u001b[0mprint\u001b[0m\u001b[1;33m(\u001b[0m\u001b[1;34m'This is an unsorted List:\\n'\u001b[0m\u001b[1;33m,\u001b[0m \u001b[0mzone_list\u001b[0m\u001b[1;33m)\u001b[0m\u001b[1;33m\u001b[0m\u001b[1;33m\u001b[0m\u001b[0m\n\u001b[0m\u001b[0;32m      4\u001b[0m \u001b[1;33m\u001b[0m\u001b[0m\n\u001b[0;32m      5\u001b[0m \u001b[1;31m# note the index\u001b[0m\u001b[1;33m\u001b[0m\u001b[1;33m\u001b[0m\u001b[1;33m\u001b[0m\u001b[0m\n",
      "\u001b[1;31mNameError\u001b[0m: name 'zone_list' is not defined"
     ]
    }
   ],
   "source": [
    "# In the eyes of Python a list looks like this:\n",
    "\n",
    "print('This is an unsorted List:\\n', zone_list)\n",
    "\n",
    "# note the index \n",
    "\n",
    "zone_list.sort()\n",
    "print()\n",
    "print('This is a sorted List:\\n', zone_list)\n",
    "\n",
    "# Note that a list has no index"
   ]
  },
  {
   "cell_type": "code",
   "execution_count": null,
   "id": "4ff57526",
   "metadata": {},
   "outputs": [],
   "source": [
    "## Loading a Pandas DataFrame\n",
    "\n",
    "There are a number of ways to load a Pandas dataframe,  but we will look at only one technique right now and that using a csv or excel spreadsheet to load a dataframe. \n",
    "\n",
    "The syntax is simple:\n",
    "\n",
    "df = read_csv( *filename* ) for a csv or df = read_excel( *filename*, sheetname= *Sheet1* ) for excel. The difference with excel is that you must also state a tab name.  \n",
    "\n",
    "There are control phrase that we can use to dictate how the data is loaded and these can be found here:\n",
    "\n",
    "https://pandas.pydata.org/docs/reference/api/pandas.read_csv.html\n",
    "\n",
    "Among the most useful are `skiprows= XX` for skipping rows of data, `sep= YY` for specifying a space or tab as a delimiter where `YY` is a string enclosed by quotes or ticks."
   ]
  },
  {
   "cell_type": "code",
   "execution_count": null,
   "id": "551d0f33",
   "metadata": {},
   "outputs": [],
   "source": [
    "## Pandas Columns Indexing\n",
    "\n",
    "Recall that Pandas is a collection of one or more Series or columns of data. There are several ways to specify or index a column of data in Pandas but for the time being I will use only one. A column of data in a dataframe can be indexed using the name of the column as a string enclosed in quotes or ticks and enclosed in square brackets like so:\n",
    "\n",
    "wells_df[*column_name*] \n",
    "\n",
    "There is a rule for naming a column in Pandas: the first character should not be a number (integer or float). You can force the column name to be a number but it ruins indexing and causes issues.\n",
    "\n",
    "\n",
    "There are tips for naming columns: use snake case: `snake_case`. Snake case "
   ]
  },
  {
   "cell_type": "code",
   "execution_count": null,
   "id": "cf635bc9",
   "metadata": {},
   "outputs": [],
   "source": [
    "### First steps when loading data\n",
    "\n",
    "Its helpful to make a list of the dataframe column names for easy reference. The columns command (a command because it does not have brackets behind it whereas a method does. More on this later)  "
   ]
  }
 ],
 "metadata": {
  "kernelspec": {
   "display_name": "Python 3 (ipykernel)",
   "language": "python",
   "name": "python3"
  },
  "language_info": {
   "codemirror_mode": {
    "name": "ipython",
    "version": 3
   },
   "file_extension": ".py",
   "mimetype": "text/x-python",
   "name": "python",
   "nbconvert_exporter": "python",
   "pygments_lexer": "ipython3",
   "version": "3.8.8"
  }
 },
 "nbformat": 4,
 "nbformat_minor": 5
}
