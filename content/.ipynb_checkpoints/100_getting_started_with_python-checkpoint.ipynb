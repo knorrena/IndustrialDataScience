{
 "cells": [
  {
   "cell_type": "markdown",
   "id": "eda99573",
   "metadata": {},
   "source": [
    "[Home](https://knorrena.github.io/IndustrialDataScience/)  \n",
    "[Teaching](https://knorrena.github.io/IndustrialDataScience/content/2-Teaching.html)\n",
    "\n",
    "\n",
    "# Welcome to Python for Oil and Gas!\n",
    "\n",
    "Python is a popular general purpose and cross-platform programming language which is widely used in many development areas. It features a less demanding syntax to make rapid development easier for the programmer. As a result, it has been adopted as the language of choice for many projects in data analysis, mobile development, and academia.\n",
    "\n",
    "You are viewing this content in a GitHub Repository. Github is used to store files for communal access by teams, it manages changes to code, and offers a place to host Python code. \n",
    "\n",
    "There are alot of commercial softwares available for managing large data volumes and creating visualizations, but they all have limitations that Python gets around. For example, excel is limited to 1.5 million rows of data.\n",
    "\n",
    "There are countless beginner guides for starting with Python, what to download, and how write a \"Hello World\" script. So why write another one? I hope that the approach I take is different. I take a projects approach to teaching Python, and I explain every step, the why, the what, and the how. I hope you enjoy it, and most importantly, I hope that I can help you expand your geosciences and engineering skills, and increase your marketability. \n",
    "\n",
    "I use MS Windows. I dont know how to use a Mac, so all the entries and cookbooks will be from a Windows perspective. I dont use clean data. I use dirty, direct from industry datafiles when I can. \n",
    "\n",
    "Also, almost all of the cookbooks are written in Markdown language and hosted on GitHUb and there are limitiations. Markdown is a very low level minimalistic language. Pictures are difficult to post and there is no way to get fancy. THis is good. It means we wont have many distractions. \n",
    "\n",
    "## Python as a Programming Language\n",
    "\n",
    "All of our course material will use Python 3.8 or higher. There are older versions of Python, notably 2.7 and the syntax used here is not compatible with Python 2.7. If you go out to the web and seek guidance on how to solve a particular problem, you might find some Python 2.7 code. The easiest tell is the classic print statement. Python 2.7 doesn't require open and closed braces, whereas Pyhton 3.8 does.\n",
    "\n",
    "Python is an **interpreted** programming language. In a **compiled** programming language such as C++, Fortran, or Java, source code is written and then sent to a compiler. The compiler translates the source code into machine code, which gives instructions to the computer hardware. The entire translation process is completed *before* the program is run. An executable (often a `.exe` file) is created, which can be run many times without re-translating the source code.\n",
    "\n",
    "In an **interpreted** language, the source code is instead sent to the interpreter, which reads a few lines of source code and then executes them. This process continues, with the interpreter alternating between reading and executing code until the source code ends.\n",
    "\n",
    "\n",
    "# Getting Started With Python\n",
    "\n",
    "Programming hasn't really changed much over the years. To program you still have to write code and execute it. What has changed is how to write and execute code. \n",
    "\n",
    "The leading Python programming environment is Anaconda, and we will be using it in all our work. Anaconda make money by selling licenses to various versions and support for Python. The free version is the Individual version. It has all the same functionality of the other versions, but no support. Download the individual from [here]((https://www.anaconda.com/products/individual) and install it. Anaconda Individual is big, and it takes a while to download. \n",
    "\n",
    "After installing Anaconda you will have access to a new folder under the Windows button called Anaconda 3 (64-bit) , or Anaconda 3 (32-bit) depending on which version of Windows is on your computer. Inside that folder are the following programs:\n",
    "\n",
    "- Anaconda Navigator: According to Anaconda, Anaconda Navigator is a desktop GUI that comes with Anaconda Individual Edition. It makes it easy to launch applications and manage packages and environments without using command-line commands. We will use it occasionally to install Python packages that make performing certain tasks easier.\n",
    "\n",
    "- Anaconda PowerShell Prompt: The PowerShell prompt gives command line prompt access to Python under Windows PowerShell. I dont understand how PowerShell is different than any other command line prompt window. I have never use it. \n",
    "\n",
    "- Anaconda Prompt: The Anaconda Prompt gives command line prompt access to Python. I use Anaconda Prompt to install Python packages that are not available through Anaconda Navigator. \n",
    "\n",
    "- Jupyter Notebook: Jupyter Notebooks are a very powerful way to build and run Python code. This Cookbook is written as a Jupyter Notebook. What makes Jupyter Notebooks so powerful is that they are launched under a web browser and it is possble to create interactive notebooks that can be saved as a website and shared. Jupyter Notebooks can be more difficult to write scripts because there are very limited tools for finding errors and debugging. Clicking the Jupyter Notebook app opens a command line prompt that manages how the Jupyter Notebook is managed in your web browser, that in turn automatically opens your web browser. If you close the command line prompt, the Jupyter Notebook will stop functioning on your browser. We will cover more detailed steps later on.\n",
    "\n",
    "- Spyder: Spyder is a Python developer environment. Spyder is a standalone app for writing Python scripts. It is an excellent tool for writing code, debugging code, but it does not generate interactive graphics. We will occasionally use Spyder.\n",
    "\n",
    "### Alternative Integrated Development Environments (Visual Code, PyCharm, etc)\n",
    "There are alternatives to Jupyter and Spyder. Although these alternatives are feature rich coding environments, I have that Between Jupyter and Spyder after several years of writing code, I have found that Juyter and Spyder fill all my needs.\n",
    "\n",
    "\n",
    "### Jupyter Notebooks\n",
    "These notes are written in a Jupyter notebook. Within the Jupyter notebook format, the user can combine HTML, Markdown (text), Python code, and many other technologies and languages. Within the same document, Python code, formatted text, Javascript, the R statistical language, Ruby code, GitHub terminal commands, and many other technologies exist in separate cells, and can communicate with each other. \n",
    "\n",
    "#### Benefits of Jupyter Notebooks\n",
    "<ul>\n",
    "    <li> Multiple technologies combined into one format </li>\n",
    "    <li> No local installation needed (unless you use Anaconda) </li>\n",
    "    <li> Easy to share code with others </li>\n",
    "    <li> Used by more and more projects and companies each month </li>\n",
    "    <li> Convenient format for exploring and sharing ideas </li>\n",
    "    <li> Relatively easy to create interactive visuals </li>\n",
    "</ul>\n",
    "\n",
    "#### Shortcomings of Jupyter Notebooks\n",
    "<ul>\n",
    "    <li> Hard to develop large projects with multiple users contributing </li>\n",
    "    <li> No code correction feature </li>\n",
    "    <li> Hard to test code </li>\n",
    "    <li> You cant see what  </li>\n",
    "</ul>\n",
    "\n",
    "In this course, I'll mainly use Jupyter notebooks as a teaching tool. In my own research and development work, I've used Jupyter to try out ideas, to create interactive educational tools, and to communicate ideas to other researchers. \n",
    "\n",
    "If you want to use another method of Python development, that is completely fine with me. It generally best practice to have at least tried all three types of Python development listed above. Once you find one that you are comfortable with, you can use that as your main development tool and then use the others as necessary.\n",
    "\n",
    "\n",
    "# A First Jupyter Notebook\n",
    "\n",
    "Click the start button, then click on the Jupyter Notebook app. A command line window will open, then your web browser. The new tab the command line prompt opens is a file browser. It allows you to access existing notebooks (file extension of a notebook is .ipynb), or create a new Python Script. \n",
    "\n",
    "Start a new Python script by selecting the drop down menu in the top right hand corner labelled New. Select Notebook: Python 3.\n",
    "\n",
    "Its almost compulsory to type in the following:"
   ]
  },
  {
   "cell_type": "code",
   "execution_count": null,
   "id": "7177bb14",
   "metadata": {
    "scrolled": true
   },
   "outputs": [],
   "source": [
    "print('Hello World')"
   ]
  },
  {
   "cell_type": "markdown",
   "id": "ba73cfe0",
   "metadata": {},
   "source": [
    "## Types of Errors in Programming\n",
    "After years of practice you may get to the level of expertise where your code does not generate errors. Until then its useful to understand the types of errors you might experience and how to debug or fix them. \n",
    "\n",
    "\n",
    "### Syntax Errors\n",
    "Python, like any programming language has very strict rules for how a program or series of commands can be written. A syntax error occurs when the rules of the Python scripting language are broken. See the example below. \n",
    "\n",
    "Some neat features about the error message are the line the error occurs and the point in the line where the error occurs. Also, syntax errors only occur when the author incorrectly instructs Python. For example,  you would generate a syntax error if you are told to put your elbow in your ear. If the error message mentions SyntaxError, you know that the problem has to do with syntax: the structure of the code, the punctuation, etc. Programs with syntax errors don’t execute even one line. Note that the first phrase 'Ernie and Bert are friends' is not printed.\n"
   ]
  },
  {
   "cell_type": "code",
   "execution_count": 2,
   "id": "38217772",
   "metadata": {},
   "outputs": [
    {
     "ename": "SyntaxError",
     "evalue": "Missing parentheses in call to 'print'. Did you mean print('Grouch has no friends')? (Temp/ipykernel_28780/460157858.py, line 6)",
     "output_type": "error",
     "traceback": [
      "\u001b[1;36m  File \u001b[1;32m\"C:\\Users\\karln\\AppData\\Local\\Temp/ipykernel_28780/460157858.py\"\u001b[1;36m, line \u001b[1;32m6\u001b[0m\n\u001b[1;33m    print 'Grouch has no friends'\u001b[0m\n\u001b[1;37m          ^\u001b[0m\n\u001b[1;31mSyntaxError\u001b[0m\u001b[1;31m:\u001b[0m Missing parentheses in call to 'print'. Did you mean print('Grouch has no friends')?\n"
     ]
    }
   ],
   "source": [
    "# An example of a syntax error. \n",
    "# The print command in Python needs open and closed braces. The first line has them, but the second \n",
    "# does not and generates a syntax error\n",
    "\n",
    "print('Ernie and Bert are friends')\n",
    "print 'Grouch has no friends'"
   ]
  },
  {
   "cell_type": "markdown",
   "id": "fc5548b1",
   "metadata": {},
   "source": [
    "### Runtime Errors\n",
    "If the program runs partway and then crashes, you know the problem is a runtime error.\n",
    "\n",
    "A program with a runtime error is one that passed  Python’s syntax checks, and started to execute; however, during the execution of one of the statements in the program, an error occurred that caused Python to stop executing the program and display an error message. Runtime errors are also called exceptions because they usually indicate that something exceptional (and bad) has happened.\n",
    "\n",
    "Here are some examples of common runtime errors you are sure to encounter:\n",
    "\n",
    "- Misspelled or incorrectly capitalized variable and function names\n",
    "- Attempts to perform operations (such as math operations) on data of the wrong type (3.14 - Ernie)\n",
    "- Dividing by zero\n",
    "\n",
    "See the example below. Note that the error message tells us where the error occured and the error is a name error because we declare Ernie as a variable, but not ernie. "
   ]
  },
  {
   "cell_type": "code",
   "execution_count": 6,
   "id": "7b028e7c",
   "metadata": {},
   "outputs": [
    {
     "name": "stdout",
     "output_type": "stream",
     "text": [
      "The value of Ernie is: 12\n"
     ]
    },
    {
     "ename": "NameError",
     "evalue": "name 'ernie' is not defined",
     "output_type": "error",
     "traceback": [
      "\u001b[1;31m---------------------------------------------------------------------------\u001b[0m",
      "\u001b[1;31mNameError\u001b[0m                                 Traceback (most recent call last)",
      "\u001b[1;32m~\\AppData\\Local\\Temp/ipykernel_28780/2959522235.py\u001b[0m in \u001b[0;36m<module>\u001b[1;34m\u001b[0m\n\u001b[0;32m      1\u001b[0m \u001b[0mErnie\u001b[0m \u001b[1;33m=\u001b[0m \u001b[1;36m2\u001b[0m \u001b[1;33m+\u001b[0m \u001b[1;36m10\u001b[0m\u001b[1;33m\u001b[0m\u001b[1;33m\u001b[0m\u001b[0m\n\u001b[0;32m      2\u001b[0m \u001b[0mprint\u001b[0m\u001b[1;33m(\u001b[0m\u001b[1;34m'The value of Ernie is:'\u001b[0m\u001b[1;33m,\u001b[0m \u001b[0mErnie\u001b[0m\u001b[1;33m)\u001b[0m\u001b[1;33m\u001b[0m\u001b[1;33m\u001b[0m\u001b[0m\n\u001b[1;32m----> 3\u001b[1;33m \u001b[0mBert\u001b[0m \u001b[1;33m=\u001b[0m \u001b[0mernie\u001b[0m \u001b[1;33m*\u001b[0m \u001b[1;36m2\u001b[0m\u001b[1;33m\u001b[0m\u001b[1;33m\u001b[0m\u001b[0m\n\u001b[0m",
      "\u001b[1;31mNameError\u001b[0m: name 'ernie' is not defined"
     ]
    }
   ],
   "source": [
    "Ernie = 2 + 10\n",
    "print('The value of Ernie is:', Ernie)\n",
    "Bert = ernie * 2 "
   ]
  },
  {
   "cell_type": "markdown",
   "id": "56a70b3e",
   "metadata": {},
   "source": [
    "### Semantic Errors\n",
    "Semantic errors are hard to find. Semantic errors occur when the script has no syntax or  is when the program runs without any problems, but it doesn't do what you expect it to do. Instead, it will do exactly what you *told* it to do. To correct these errors, you often have to trace the problem backwards from the program output to the source of the error.\n",
    "\n",
    "In the example below we mistakenly divide by 100 instead of multiply by 100 to get percent full on a tank."
   ]
  },
  {
   "cell_type": "code",
   "execution_count": 8,
   "id": "0bdde81c",
   "metadata": {},
   "outputs": [
    {
     "name": "stdout",
     "output_type": "stream",
     "text": [
      "The tank level on oil battery 2 is: 0.00875\n"
     ]
    }
   ],
   "source": [
    "percent = 875/1000/100\n",
    "print('The tank level on oil battery 2 is:', percent)"
   ]
  },
  {
   "cell_type": "markdown",
   "id": "94ba0467",
   "metadata": {},
   "source": [
    "## Debugging\n",
    "\n",
    "**Bugs** are problems in your code. These lead to syntax, runtime, and semantic errors. Debugging is the process of seeking out the sources of the errors and fixing them. In a way, debugging is detective work. \n",
    "\n",
    "**Debugging** is the process of finding and correcting all three types of errors.\n",
    "\n",
    "I have no good words for the process of debugging. Its the hardest part of Python, but I have a few tips.\n",
    "\n",
    "- Use the print command. Use it often, and include the line number to trap which line is causing issues.\n",
    "Example:`print('evaluating line 490')`\n",
    "\n",
    "- Use Spyder to develop nasty complicated code and move it to Jupyter later. In Spyder you can view the full full arrays and other features of the code\n",
    "\n",
    "- Take a walk. \n",
    "\n",
    "- Use Stackoverflow (https://stackoverflow.com/) "
   ]
  },
  {
   "cell_type": "markdown",
   "id": "29603b67",
   "metadata": {},
   "source": [
    "## Python Data Types\n",
    "\n",
    "Variables in Python have a **value** and a **type**. Values can be changed by operations, but only if the type and operation are compatible. We can call on Python to tell us what the data type is on a variable by calling the type function:"
   ]
  },
  {
   "cell_type": "code",
   "execution_count": 13,
   "id": "7623b7ab",
   "metadata": {},
   "outputs": [
    {
     "name": "stdout",
     "output_type": "stream",
     "text": [
      "2 is a: <class 'int'>\n",
      "3.14 is a: <class 'float'>\n",
      "ernie is a: <class 'str'>\n",
      "True is a: <class 'bool'>\n"
     ]
    }
   ],
   "source": [
    "print('2 is a:',type(2))\n",
    "print('3.14 is a:',type(3.14))\n",
    "print('ernie is a:', type('ernie'))\n",
    "print('True is a:', type(True))"
   ]
  },
  {
   "cell_type": "markdown",
   "id": "022d858c",
   "metadata": {},
   "source": [
    "Integers, floats, and string are the most common variable type along with dates. As a reservoir, explotiation, or production engineer, you will be working with dates a lot. There are also logic data types like True and False. "
   ]
  },
  {
   "cell_type": "markdown",
   "id": "132224b2",
   "metadata": {},
   "source": [
    "## Math Operators\n",
    "\n",
    "In Python, the `*` symbol is used for multiplication. The other mathematical symbols are found in the following list.\n",
    "\n",
    "|Key|Mathematical Operation in Python|\n",
    "|---|:--|\n",
    "|`*`|Multiplication|\n",
    "|`/`|Division|\n",
    "|`+`|Addition|\n",
    "|`-`|Subtraction|\n",
    "|`**`|Exponent|\n",
    "|`%`|Modulo|\n",
    "\n",
    "\n",
    "### Order of Mathematical Operations\n",
    "\n",
    "Mathematical order of operations in Python is the same as anywhere else: Brackets (or Parentheses), Exponents, Division, Multiplication, Addition, and Subtraction. Python does these operations in exactly the same order.\n",
    "\n",
    "### Math Operators on Strings\n",
    "\n",
    "Strings are a special type of datatype in Python and it is possible to add strings but not subtract strings. "
   ]
  },
  {
   "cell_type": "code",
   "execution_count": 19,
   "id": "5ec11176",
   "metadata": {},
   "outputs": [
    {
     "name": "stdout",
     "output_type": "stream",
     "text": [
      "Ernie is friends with Bert\n"
     ]
    },
    {
     "ename": "TypeError",
     "evalue": "unsupported operand type(s) for -: 'str' and 'str'",
     "output_type": "error",
     "traceback": [
      "\u001b[1;31m---------------------------------------------------------------------------\u001b[0m",
      "\u001b[1;31mTypeError\u001b[0m                                 Traceback (most recent call last)",
      "\u001b[1;32m~\\AppData\\Local\\Temp/ipykernel_28780/187430197.py\u001b[0m in \u001b[0;36m<module>\u001b[1;34m\u001b[0m\n\u001b[0;32m      5\u001b[0m \u001b[0mprint\u001b[0m\u001b[1;33m(\u001b[0m\u001b[0mfriends\u001b[0m\u001b[1;33m)\u001b[0m\u001b[1;33m\u001b[0m\u001b[1;33m\u001b[0m\u001b[0m\n\u001b[0;32m      6\u001b[0m \u001b[1;33m\u001b[0m\u001b[0m\n\u001b[1;32m----> 7\u001b[1;33m \u001b[0mprint\u001b[0m\u001b[1;33m(\u001b[0m\u001b[0mfriends\u001b[0m \u001b[1;33m-\u001b[0m \u001b[0mperson1\u001b[0m\u001b[1;33m)\u001b[0m\u001b[1;33m\u001b[0m\u001b[1;33m\u001b[0m\u001b[0m\n\u001b[0m",
      "\u001b[1;31mTypeError\u001b[0m: unsupported operand type(s) for -: 'str' and 'str'"
     ]
    }
   ],
   "source": [
    "person1 = 'Ernie'\n",
    "person2 = 'Bert'\n",
    "\n",
    "friends = person1 + ' is friends with '+ person2\n",
    "print(friends)\n",
    "\n",
    "print(friends - person1)"
   ]
  },
  {
   "cell_type": "markdown",
   "id": "afe8e152",
   "metadata": {},
   "source": [
    "## Variables, Statements, and Expressions\n",
    "\n",
    "Programming would be very nearly impossible if we relied solely on single-line code for every task. Therefore, we can define our own **variables**. In Python, we give our variables a name and a value in the same line. This also implicitly determines the variable's type.\n",
    "\n",
    "Python is a **dynamically typed** language a variables value and type can be re-assigned over and over. See below:"
   ]
  },
  {
   "cell_type": "code",
   "execution_count": 26,
   "id": "5b081883",
   "metadata": {},
   "outputs": [
    {
     "name": "stdout",
     "output_type": "stream",
     "text": [
      "Person1 is a: <class 'str'>\n",
      "Person2 is a: <class 'str'>\n",
      "Ernie is friends with Bert\n",
      "Person1 is a: <class 'float'>\n",
      "Person2 is a: <class 'float'>\n",
      "3.14 is friends with 2.72\n",
      "5.86\n"
     ]
    }
   ],
   "source": [
    "person1 = 'Ernie'\n",
    "person2 = 'Bert'\n",
    "\n",
    "print('Person1 is a:', type(person1))\n",
    "print('Person2 is a:', type(person2))\n",
    "\n",
    "friends = person1 + ' is friends with '+ person2\n",
    "print(friends)\n",
    "\n",
    "person1 = 3.14\n",
    "person2 = 2.72\n",
    "\n",
    "print('Person1 is a:', type(person1))\n",
    "print('Person2 is a:', type(person2))\n",
    "\n",
    "# and we can convert to and fro on the fly with str( )\n",
    "friends = str(person1) + ' is friends with '+ str(person2)\n",
    "print(friends)\n",
    "\n",
    "friends = person1 + person2\n",
    "print(friends)\n"
   ]
  },
  {
   "cell_type": "markdown",
   "id": "155d9134",
   "metadata": {},
   "source": [
    "### Variable Naming Conventions\n",
    "\n",
    "There are a few conventions to follow when naming variables. First, the variable name may not begin with a number. Also, never name a variable using a reserved keyword. These keywords are, specifically, the names of either built-in or external functions. Reserved words are known commands like print and so on. \n",
    "\n",
    "According to the [Python Style Guide (PEP8)](https://www.python.org/dev/peps/pep-0008/), variable names that begin with an underscore `_` are used to signal to other programmers that the variable is for internal use (known as 'private' data in other languages). \n",
    "\n",
    "In general, avoid using the lower-case `l`, lower- or upper-case `o`, or upper-case `I` to name variables to prevent confusion and to make for easier debugging\n",
    "\n",
    "Best practices for naming variables are outlined in PEP8 and in Jeff Knupp's book *Writing Idiomatic Python*. They are listed as follows.\n",
    "\n",
    "* Use all capital letters to declare a constant variable. \n",
    "Example: `TWO_PI = 2*math.pi`\n",
    "* Join lower-case words with underscores to declare variables. \n",
    "Example: `number_of_times_python_has_saved_my_life = 0`\n",
    "\n",
    "* It is helpful to name variables to reflect the variable type\n",
    "Example: `friends_str`\n",
    "\n",
    "Python is case-sensitive. This means that `b` and `B` are two different (and extremely vague) variable names.\n",
    "\n",
    "More conventions will follow as we learn more about functions and classes in the upcoming lessons."
   ]
  },
  {
   "cell_type": "markdown",
   "id": "e6416716",
   "metadata": {},
   "source": [
    "## Comments and Commenting Code\n",
    "\n",
    "Comments are used for two main reasons: readability and maintainability. Including well-written, concise comments in your code gives anyone who reads your code the opportunity to see what the code is supposed to do. You can use comments to explain a particularly complicated section of code, to remind the reader of the flow of your program, or to justify certain choices you made when writing the code. \n",
    "\n",
    "It can take less than minutes to remember what you wrote, why you wrote it, and what it does. It is in your best interest to comment the crap out of your code. Comment not just for yourself, but for others. \n",
    "\n",
    "Inline comments are added using the hashtag symbol `#`. Anything appearing after the `#` will not be evaluated by Python. Larger more involved comments should be enclosing between the triple quotation marks `''' '''` or `\"\"\" \"\"\"`."
   ]
  },
  {
   "cell_type": "code",
   "execution_count": null,
   "id": "814f57ea",
   "metadata": {},
   "outputs": [],
   "source": [
    "# This is a comment\n",
    "\n",
    "'''\n",
    "This is for large body comments\n",
    "\n",
    "'''"
   ]
  },
  {
   "cell_type": "markdown",
   "id": "c1376dfb",
   "metadata": {},
   "source": [
    "## Python's Built-in Functions and Packages\n",
    "\n",
    "Python has some native functionality called the *standard library*. These functions can be used without importing any external packages. Each of these functions takes an input, which we will refer to as an **argument**, and returns an output. The main built-in functions we will use in this course are:\n",
    "\n",
    "|Python Function|Purpose|\n",
    "|---|---|\n",
    "|print()|Print out the argument|\n",
    "|input()|Query the user for input in the console and <br>either print it or assign it to a string variable|\n",
    "|int()|Convert the argument to integer|\n",
    "|float()|Convert the argument to float|\n",
    "|str()|Convert the argument to string|\n",
    "|round()|Round the argument to the nearest integer|\n",
    "\n",
    "All functionalty beyond the functions listed above are assembled from larger scripts called Packages. Packages are imported to add functionality to code without having to develop the code yourself. Anyone can write a package, and many folks do.\n",
    "\n",
    "Here are a few of the most popular packages:\n",
    "\n",
    "- **Pandas:** Pandas is as close as you can get to a Python spreadsheet. It is an indispensible package. \n",
    "- **Matplotlib:** A standard visualization package for charts and graphs. \n",
    "- **Seaborn:** An extension to matplotlib that makes everything prettier.\n",
    "- **Plotly:** A visualization toolkit for interactive graphics. Extremely powerful. \n",
    "- **Numpy:** For arrays and array computation of data of a single type. Can be 1D to nD arrays.\n",
    "- **ScikitLearn:** Machine Learning tools\n",
    "- **Datetime:** For handling timestamped data\n",
    "\n",
    "\n",
    "\n"
   ]
  },
  {
   "cell_type": "markdown",
   "id": "ec77a633",
   "metadata": {},
   "source": [
    "## A First Example\n",
    "\n",
    "For our first example we will plot a simple map of some well locations. The Field is Martin Hills. Here is our workflow:\n",
    "\n",
    "1. import necesarry packages\n",
    "2. import the data sourced from a comma seperated vlaues file (csv file)\n",
    "3. view some of the to verify and observe the content\n",
    "4. plot a matplotlib map of the surface locations\n",
    "5. plot a seaborn map of the surface locations \n",
    "6. plot a plotly map of the locations\n",
    "\n",
    "You may get an error when you try to import a Python package like the one shown below:\n",
    "\n",
    "---------------------------------------------------------------------------\n",
    "ModuleNotFoundError                       Traceback (most recent call last)\n",
    "~\\AppData\\Local\\Temp/ipykernel_1948/300009229.py in <module>\n",
    "----> 1 import pandas\n",
    "\n",
    "ModuleNotFoundError: No module named 'pandas'"
   ]
  },
  {
   "cell_type": "code",
   "execution_count": 37,
   "id": "8eff846e",
   "metadata": {},
   "outputs": [
    {
     "data": {
      "text/plain": [
       "Index(['UWI', 'Well Type (Simple)', 'Field', 'Pool', 'Formation',\n",
       "       'Status (Detailed)', 'Status (Simple)', 'Total Depth (TD)',\n",
       "       'Total Vertical Depth (TVD)', 'Surface Longitude', 'Surface Latitude',\n",
       "       'Estimated LLR (Well)'],\n",
       "      dtype='object')"
      ]
     },
     "metadata": {},
     "output_type": "display_data"
    }
   ],
   "source": [
    "'''\n",
    "Use Pandas to import the csv as a spreadsheet and reference the data by columns and rows\n",
    "\n",
    "Pandas calls these data volumes dataframes. A dataframe can hold integers in a columns, a string in another.\n",
    "\n",
    "Note also that we can import a package and give it an alias at the same time. This makes for more efficient code.\n",
    "\n",
    "''' \n",
    "\n",
    "import pandas as pd\n",
    "\n",
    "# Now use pandas to import the file. Note the naming convention and the pandas alias of pd for pandas\n",
    "\n",
    "wells_df = pd.read_csv('Marten_Hills_meta.csv')\n",
    "\n",
    "# Now lets look at the names of the columns using the pandas columns command\n",
    "\n",
    "cols = wells_df.columns\n",
    "display(cols)"
   ]
  },
  {
   "cell_type": "code",
   "execution_count": 58,
   "id": "f01ee474",
   "metadata": {},
   "outputs": [
    {
     "data": {
      "image/png": "[encoded data removed]",
      "text/plain": [
       "<Figure size 432x288 with 1 Axes>"
      ]
     },
     "metadata": {
      "needs_background": "light"
     },
     "output_type": "display_data"
    }
   ],
   "source": [
    "'''\n",
    "Make note of the coordinate columns named 'Surface Longitude', 'Surface Latitude'\n",
    "\n",
    "Also note that we set the units as square to prevent \n",
    "\n",
    "'''\n",
    "\n",
    "import matplotlib.pyplot as plt\n",
    "\n",
    "plt.scatter(x=wells_df['Surface Longitude'], y=wells_df['Surface Latitude'])\n",
    "plt.title('Marten Hills Well Locations')\n",
    "plt.xlabel('Longitude')\n",
    "plt.ylabel('Latitude')\n",
    "plt.axis('equal')\n",
    "plt.show()"
   ]
  },
  {
   "cell_type": "code",
   "execution_count": 59,
   "id": "5afb2969",
   "metadata": {},
   "outputs": [
    {
     "data": {
      "image/png": "[encoded data removed]",
      "text/plain": [
       "<Figure size 432x288 with 1 Axes>"
      ]
     },
     "metadata": {
      "needs_background": "light"
     },
     "output_type": "display_data"
    }
   ],
   "source": [
    "'''\n",
    "Seaborn is a wrapper around matplotlib. It uses a different, gentler interface. You can use any matplotlib command \n",
    "in seaborn\n",
    "\n",
    "We have already imported matplot lib so we do not have to repeat it, we just layer on seaborn to the kernel\n",
    "\n",
    "'''\n",
    "\n",
    "import seaborn as sns\n",
    "\n",
    "sns.scatterplot(data=wells_df, x='Surface Longitude', y='Surface Latitude').set(title='Marten Hills Well Locations')\n",
    "plt.axis('equal')\n",
    "plt.show()"
   ]
  },
  {
   "cell_type": "code",
   "execution_count": 69,
   "id": "5655109e",
   "metadata": {},
   "outputs": [
    {
     "data": {
      "application/vnd.plotly.v1+json": {
       "config": {
        "plotlyServerURL": "https://plot.ly"
       },
       "data": [
        {
         "customdata": [
          [
           "100112607323W400"
          ],
          [
           "100093107324W400"
          ],
          [
           "100113207324W400"
          ],
          [
           "100113207324W402"
          ],
          [
           "100113207324W403"
          ],
          [
           "100011607325W400"
          ],
          [
           "100011607325W402"
          ],
          [
           "100011607325W403"
          ],
          [
           "100011607325W404"
          ],
          [
           "100122207325W400"
          ],
          [
           "100122207325W402"
          ],
          [
           "100122207325W403"
          ],
          [
           "100153107325W400"
          ],
          [
           "100153107325W402"
          ],
          [
           "100053407325W400"
          ],
          [
           "100053407325W402"
          ],
          [
           "102053407325W400"
          ],
          [
           "102053407325W402"
          ],
          [
           "100153407325W400"
          ],
          [
           "100083507325W400"
          ],
          [
           "100083507325W402"
          ],
          [
           "102083507325W400"
          ],
          [
           "102083507325W402"
          ],
          [
           "100113507326W400"
          ],
          [
           "100012607301W500"
          ],
          [
           "100083607301W500"
          ],
          [
           "100083607301W502"
          ],
          [
           "100150607423W400"
          ],
          [
           "100150607423W402"
          ],
          [
           "102150607423W400"
          ],
          [
           "102150607423W402"
          ],
          [
           "100150707423W400"
          ],
          [
           "100150707423W402"
          ],
          [
           "102150707423W400"
          ],
          [
           "100121807423W400"
          ],
          [
           "100121807423W402"
          ],
          [
           "100132107423W400"
          ],
          [
           "100112807423W400"
          ],
          [
           "100112807423W402"
          ],
          [
           "100122907423W400"
          ],
          [
           "100122907423W402"
          ],
          [
           "100122907423W403"
          ],
          [
           "100133007423W403"
          ],
          [
           "100103107423W402"
          ],
          [
           "100103107423W403"
          ],
          [
           "102103107423W400"
          ],
          [
           "102103107423W402"
          ],
          [
           "100123207423W400"
          ],
          [
           "100123207423W402"
          ],
          [
           "102123207423W400"
          ],
          [
           "100113307423W400"
          ],
          [
           "100110107424W400"
          ],
          [
           "100110107424W402"
          ],
          [
           "100110107424W403"
          ],
          [
           "100090407424W403"
          ],
          [
           "100090407424W404"
          ],
          [
           "102090407424W400"
          ],
          [
           "102090407424W402"
          ],
          [
           "102090407424W403"
          ],
          [
           "102090407424W404"
          ],
          [
           "100120607424W400"
          ],
          [
           "100120607424W402"
          ],
          [
           "100120607424W403"
          ],
          [
           "100120607424W404"
          ],
          [
           "100100907424W402"
          ],
          [
           "102100907424W404"
          ],
          [
           "102100907424W405"
          ],
          [
           "102100907424W406"
          ],
          [
           "100091107424W400"
          ],
          [
           "102091107424W400"
          ],
          [
           "100101307424W400"
          ],
          [
           "100101307424W402"
          ],
          [
           "100071407424W400"
          ],
          [
           "100121607424W400"
          ],
          [
           "100121607424W402"
          ],
          [
           "102121607424W400"
          ],
          [
           "100162007424W400"
          ],
          [
           "100162107424W400"
          ],
          [
           "100062207424W400"
          ],
          [
           "100092207424W400"
          ],
          [
           "100042307424W400"
          ],
          [
           "100042307424W402"
          ],
          [
           "100042407424W400"
          ],
          [
           "100042507424W400"
          ],
          [
           "100152507424W400"
          ],
          [
           "100152507424W402"
          ],
          [
           "100042607424W400"
          ],
          [
           "100062707424W400"
          ],
          [
           "100102807424W400"
          ],
          [
           "100092907424W400"
          ],
          [
           "100162907424W400"
          ],
          [
           "100013007424W400"
          ],
          [
           "100013007424W402"
          ],
          [
           "100013007424W403"
          ],
          [
           "100103207424W400"
          ],
          [
           "100103207424W402"
          ],
          [
           "100103207424W403"
          ],
          [
           "100143207424W400"
          ],
          [
           "100143207424W402"
          ],
          [
           "102143207424W400"
          ],
          [
           "102143207424W402"
          ],
          [
           "102143207424W403"
          ],
          [
           "100073307424W400"
          ],
          [
           "100103407424W400"
          ],
          [
           "100103407424W402"
          ],
          [
           "102103407424W400"
          ],
          [
           "100033507424W400"
          ],
          [
           "100033507424W402"
          ],
          [
           "100033507424W403"
          ],
          [
           "102033507424W400"
          ],
          [
           "100103607424W400"
          ],
          [
           "100103607424W402"
          ],
          [
           "100130407425W400"
          ],
          [
           "100130407425W402"
          ],
          [
           "100110507425W402"
          ],
          [
           "100020607425W400"
          ],
          [
           "100020607425W402"
          ],
          [
           "100020607425W403"
          ],
          [
           "100020807425W402"
          ],
          [
           "100050907425W400"
          ],
          [
           "100050907425W402"
          ],
          [
           "100081707425W400"
          ],
          [
           "100161807425W403"
          ],
          [
           "102161807425W400"
          ],
          [
           "102161807425W402"
          ],
          [
           "103161807425W400"
          ],
          [
           "100112907425W402"
          ],
          [
           "102112907425W400"
          ],
          [
           "102112907425W402"
          ],
          [
           "100023007425W400"
          ],
          [
           "100023007425W402"
          ],
          [
           "100113007425W400"
          ],
          [
           "100133107425W400"
          ],
          [
           "100063207425W403"
          ],
          [
           "100063207425W404"
          ],
          [
           "100143207425W400"
          ],
          [
           "100070207426W400"
          ],
          [
           "100070207426W402"
          ],
          [
           "102070207426W400"
          ],
          [
           "100040507426W402"
          ],
          [
           "100091107426W400"
          ],
          [
           "100091107426W402"
          ],
          [
           "100121207426W400"
          ],
          [
           "100121207426W402"
          ],
          [
           "100021307426W403"
          ],
          [
           "100061907426W400"
          ],
          [
           "100132007426W400"
          ],
          [
           "100162507426W400"
          ],
          [
           "100122707426W405"
          ],
          [
           "100122707426W407"
          ],
          [
           "100122707426W408"
          ],
          [
           "100103607426W400"
          ],
          [
           "100163607426W400"
          ],
          [
           "100160307401W500"
          ],
          [
           "100121007401W503"
          ],
          [
           "100111307401W500"
          ],
          [
           "100072407401W500"
          ],
          [
           "100140507402W500"
          ],
          [
           "100140507402W502"
          ],
          [
           "100121207402W500"
          ],
          [
           "100131607402W500"
          ],
          [
           "100131607402W502"
          ],
          [
           "100131607402W503"
          ],
          [
           "100121907402W500"
          ],
          [
           "100061307403W502"
          ],
          [
           "100061307403W503"
          ],
          [
           "100112707403W500"
          ],
          [
           "100153307403W500"
          ],
          [
           "100033007522W400"
          ],
          [
           "100033007522W402"
          ],
          [
           "100033007522W403"
          ],
          [
           "100153407522W400"
          ],
          [
           "100053507522W400"
          ],
          [
           "100020507523W400"
          ],
          [
           "100020507523W402"
          ],
          [
           "100040507523W400"
          ],
          [
           "100040507523W402"
          ],
          [
           "100050607523W400"
          ],
          [
           "100050707523W400"
          ],
          [
           "100070807523W400"
          ],
          [
           "102030907523W400"
          ],
          [
           "100141407523W400"
          ],
          [
           "100111807523W400"
          ],
          [
           "100111807523W402"
          ],
          [
           "100041907523W400"
          ],
          [
           "100112507523W400"
          ],
          [
           "100112507523W402"
          ],
          [
           "100032607523W400"
          ],
          [
           "100032607523W402"
          ],
          [
           "100082707523W400"
          ],
          [
           "100082707523W402"
          ],
          [
           "100082807523W400"
          ],
          [
           "100082807523W402"
          ],
          [
           "100093207523W403"
          ],
          [
           "100063507523W400"
          ],
          [
           "100063507523W402"
          ],
          [
           "100070107524W402"
          ],
          [
           "100070207524W400"
          ],
          [
           "100070307524W400"
          ],
          [
           "102070307524W400"
          ],
          [
           "100060407524W402"
          ],
          [
           "100110707524W400"
          ],
          [
           "100100807524W400"
          ],
          [
           "100100807524W402"
          ],
          [
           "100120807524W400"
          ],
          [
           "100120807524W402"
          ],
          [
           "100101007524W400"
          ],
          [
           "100061107524W400"
          ],
          [
           "100121207524W400"
          ],
          [
           "100101307524W400"
          ],
          [
           "100091407524W400"
          ],
          [
           "100121507524W400"
          ],
          [
           "100091607524W400"
          ],
          [
           "100121607524W400"
          ],
          [
           "100121607524W402"
          ],
          [
           "100041907524W400"
          ],
          [
           "100041907524W402"
          ],
          [
           "100082107524W400"
          ],
          [
           "100072207524W400"
          ],
          [
           "100142207524W403"
          ],
          [
           "100012407524W400"
          ],
          [
           "100112607524W400"
          ],
          [
           "100112607524W402"
          ],
          [
           "100142607524W400"
          ],
          [
           "100052707524W400"
          ],
          [
           "100052707524W402"
          ],
          [
           "100052707524W403"
          ],
          [
           "100053207524W402"
          ],
          [
           "100163407524W400"
          ],
          [
           "100163407524W402"
          ],
          [
           "100063507524W402"
          ],
          [
           "100073507524W400"
          ],
          [
           "100113607524W400"
          ],
          [
           "100113607524W402"
          ],
          [
           "102113607524W400"
          ],
          [
           "100130407525W402"
          ],
          [
           "100050507525W400"
          ],
          [
           "100090507525W400"
          ],
          [
           "100070607525W400"
          ],
          [
           "100070607525W403"
          ],
          [
           "100160607525W400"
          ],
          [
           "100090707525W400"
          ],
          [
           "100050807525W400"
          ],
          [
           "100100807525W400"
          ],
          [
           "102100807525W400"
          ],
          [
           "100021707525W400"
          ],
          [
           "100061707525W400"
          ],
          [
           "100101707525W400"
          ],
          [
           "100101707525W402"
          ],
          [
           "100101707525W403"
          ],
          [
           "100051807525W400"
          ],
          [
           "100011907525W400"
          ],
          [
           "100011907525W402"
          ],
          [
           "100101907525W400"
          ],
          [
           "100042007525W400"
          ],
          [
           "100122007525W400"
          ],
          [
           "100062107525W400"
          ],
          [
           "100112207525W400"
          ],
          [
           "100052707525W400"
          ],
          [
           "100122707525W400"
          ],
          [
           "100162707525W400"
          ],
          [
           "100162707525W402"
          ],
          [
           "100162707525W403"
          ],
          [
           "100032807525W400"
          ],
          [
           "100082807525W400"
          ],
          [
           "100082807525W402"
          ],
          [
           "100082807525W403"
          ],
          [
           "100033007525W400"
          ],
          [
           "100083007525W400"
          ],
          [
           "100093107525W400"
          ],
          [
           "100093107525W402"
          ],
          [
           "100113207525W400"
          ],
          [
           "102113207525W402"
          ],
          [
           "100093407525W403"
          ],
          [
           "100103507525W400"
          ],
          [
           "100103507525W402"
          ],
          [
           "100082007526W400"
          ],
          [
           "100062107526W400"
          ],
          [
           "100062107526W402"
          ],
          [
           "100112107526W400"
          ],
          [
           "100032607526W400"
          ],
          [
           "102102607526W400"
          ],
          [
           "100132607526W400"
          ],
          [
           "100062707526W400"
          ],
          [
           "100082707526W400"
          ],
          [
           "100072807526W400"
          ],
          [
           "100072807526W402"
          ],
          [
           "100102807526W400"
          ],
          [
           "100102807526W402"
          ],
          [
           "100082907526W400"
          ],
          [
           "100063307526W400"
          ],
          [
           "102063307526W400"
          ],
          [
           "103063307526W400"
          ],
          [
           "100083307526W402"
          ],
          [
           "100053507526W400"
          ],
          [
           "100053507526W402"
          ],
          [
           "100050307501W500"
          ],
          [
           "100080307501W500"
          ],
          [
           "100080307501W502"
          ],
          [
           "100080307501W503"
          ],
          [
           "100070407501W500"
          ],
          [
           "100090407501W500"
          ],
          [
           "100090407501W503"
          ],
          [
           "100070507501W500"
          ],
          [
           "100080707501W500"
          ],
          [
           "102080707501W500"
          ],
          [
           "102070807501W502"
          ],
          [
           "102010907501W500"
          ],
          [
           "100151507501W500"
          ],
          [
           "100161507501W500"
          ],
          [
           "100161507501W502"
          ],
          [
           "100161507501W503"
          ],
          [
           "100161607501W500"
          ],
          [
           "100091707501W500"
          ],
          [
           "100111807501W500"
          ],
          [
           "100111807501W502"
          ],
          [
           "100141807501W500"
          ],
          [
           "100071907501W500"
          ],
          [
           "100081907501W500"
          ],
          [
           "100081907501W502"
          ],
          [
           "100081907501W503"
          ],
          [
           "100081907501W504"
          ],
          [
           "100111907501W503"
          ],
          [
           "100052007501W502"
          ],
          [
           "100052007501W503"
          ],
          [
           "100062007501W500"
          ],
          [
           "100062007501W502"
          ],
          [
           "100032107501W500"
          ],
          [
           "100032107501W502"
          ],
          [
           "100032107501W503"
          ],
          [
           "102032107501W500"
          ],
          [
           "100072207501W500"
          ],
          [
           "100072207501W502"
          ],
          [
           "100072207501W503"
          ],
          [
           "100072207501W504"
          ],
          [
           "102072207501W500"
          ],
          [
           "100062307501W500"
          ],
          [
           "100082407501W500"
          ],
          [
           "100142607501W500"
          ],
          [
           "102082807501W500"
          ],
          [
           "100142907501W500"
          ],
          [
           "102043007501W500"
          ],
          [
           "100063207501W500"
          ],
          [
           "100053307501W500"
          ],
          [
           "100053507501W500"
          ],
          [
           "100083607501W500"
          ],
          [
           "100060107502W502"
          ],
          [
           "100151307502W500"
          ],
          [
           "102101507502W500"
          ],
          [
           "102101507502W502"
          ],
          [
           "100102307502W500"
          ],
          [
           "100022507502W500"
          ],
          [
           "100022507502W502"
          ],
          [
           "100100407503W500"
          ],
          [
           "100100407503W502"
          ],
          [
           "100083007503W500"
          ],
          [
           "100073207503W503"
          ],
          [
           "100073207503W504"
          ],
          [
           "100110407622W400"
          ],
          [
           "100030507622W400"
          ],
          [
           "102030507622W400"
          ],
          [
           "100160507622W400"
          ],
          [
           "100160507622W402"
          ],
          [
           "100030907622W400"
          ],
          [
           "100030907622W402"
          ],
          [
           "100151607622W400"
          ],
          [
           "100151607622W402"
          ],
          [
           "100022107622W403"
          ],
          [
           "100072107622W400"
          ],
          [
           "100072107622W402"
          ],
          [
           "100072107622W403"
          ],
          [
           "100060107623W400"
          ],
          [
           "100120207623W400"
          ],
          [
           "100070407623W400"
          ],
          [
           "100070407623W402"
          ],
          [
           "100090507623W400"
          ],
          [
           "100070707623W400"
          ],
          [
           "100070707623W402"
          ],
          [
           "100100707623W400"
          ],
          [
           "100120807623W400"
          ],
          [
           "100120807623W402"
          ],
          [
           "100130907623W400"
          ],
          [
           "100130907623W402"
          ],
          [
           "100130907623W403"
          ],
          [
           "100031007623W402"
          ],
          [
           "100031007623W403"
          ],
          [
           "100131107623W400"
          ],
          [
           "100151607623W403"
          ],
          [
           "100151607623W404"
          ],
          [
           "100161707623W400"
          ],
          [
           "100161707623W402"
          ],
          [
           "100012007623W400"
          ],
          [
           "100012007623W402"
          ],
          [
           "100022107623W400"
          ],
          [
           "100032107623W400"
          ],
          [
           "100032107623W402"
          ],
          [
           "100042107623W402"
          ],
          [
           "100042107623W403"
          ],
          [
           "100030107624W400"
          ],
          [
           "100100107624W400"
          ],
          [
           "100120107624W400"
          ],
          [
           "100120107624W402"
          ],
          [
           "100060207624W400"
          ],
          [
           "100060907624W400"
          ],
          [
           "100061107624W400"
          ],
          [
           "100061107624W402"
          ],
          [
           "100071207624W402"
          ],
          [
           "100071207624W403"
          ],
          [
           "100061407624W400"
          ],
          [
           "100072107624W402"
          ],
          [
           "100072107624W403"
          ],
          [
           "100072107624W404"
          ],
          [
           "100162807624W400"
          ],
          [
           "100162807624W402"
          ],
          [
           "100162807624W403"
          ],
          [
           "100022907624W400"
          ],
          [
           "100132907624W400"
          ],
          [
           "100132907624W402"
          ],
          [
           "100070207625W400"
          ],
          [
           "100070207625W402"
          ],
          [
           "100070507625W400"
          ],
          [
           "100070507625W402"
          ],
          [
           "102070507625W400"
          ],
          [
           "100030607625W400"
          ],
          [
           "100060707625W400"
          ],
          [
           "100100807625W400"
          ],
          [
           "102100807625W400"
          ],
          [
           "100110807625W400"
          ],
          [
           "102110807625W400"
          ],
          [
           "100120907625W400"
          ],
          [
           "102120907625W400"
          ],
          [
           "100111207625W403"
          ],
          [
           "100111207625W404"
          ],
          [
           "100111307625W400"
          ],
          [
           "100111307625W402"
          ],
          [
           "100061407625W400"
          ],
          [
           "100061407625W402"
          ],
          [
           "100061407625W403"
          ],
          [
           "100071407625W400"
          ],
          [
           "100101707625W402"
          ],
          [
           "100111707625W400"
          ],
          [
           "100111707625W402"
          ],
          [
           "100101807625W400"
          ],
          [
           "102101807625W400"
          ],
          [
           "102101807625W402"
          ],
          [
           "100061907625W400"
          ],
          [
           "100111907625W402"
          ],
          [
           "100122007625W402"
          ],
          [
           "100112107625W400"
          ],
          [
           "100112107625W402"
          ],
          [
           "102112107625W400"
          ],
          [
           "102112107625W402"
          ],
          [
           "103112107625W402"
          ],
          [
           "103112107625W403"
          ],
          [
           "104112107625W400"
          ],
          [
           "100072207625W400"
          ],
          [
           "100032307625W400"
          ],
          [
           "100072307625W402"
          ],
          [
           "100052407625W400"
          ],
          [
           "100052407625W402"
          ],
          [
           "100043007625W400"
          ],
          [
           "100143007625W400"
          ],
          [
           "100143007625W402"
          ],
          [
           "100013107625W400"
          ],
          [
           "100013107625W402"
          ],
          [
           "100050107626W400"
          ],
          [
           "100050107626W402"
          ],
          [
           "100070207626W400"
          ],
          [
           "100070207626W403"
          ],
          [
           "100070207626W404"
          ],
          [
           "102070207626W400"
          ],
          [
           "100050307626W400"
          ],
          [
           "100050307626W402"
          ],
          [
           "102050307626W400"
          ],
          [
           "102050307626W402"
          ],
          [
           "100080407626W400"
          ],
          [
           "100080407626W402"
          ],
          [
           "100080407626W403"
          ],
          [
           "102080407626W400"
          ],
          [
           "102080407626W402"
          ],
          [
           "100070907626W400"
          ],
          [
           "100070907626W402"
          ],
          [
           "102070907626W400"
          ],
          [
           "102070907626W402"
          ],
          [
           "100031007626W400"
          ],
          [
           "100031007626W402"
          ],
          [
           "100031107626W400"
          ],
          [
           "100031107626W402"
          ],
          [
           "100061207626W400"
          ],
          [
           "100061207626W402"
          ],
          [
           "102061207626W400"
          ],
          [
           "100101307626W400"
          ],
          [
           "102101307626W400"
          ],
          [
           "100051407626W400"
          ],
          [
           "102051407626W400"
          ],
          [
           "100101407626W400"
          ],
          [
           "100101407626W402"
          ],
          [
           "100141407626W400"
          ],
          [
           "100101507626W400"
          ],
          [
           "100101507626W402"
          ],
          [
           "100101607626W400"
          ],
          [
           "100072107626W400"
          ],
          [
           "100072107626W402"
          ],
          [
           "100072207626W400"
          ],
          [
           "100112207626W400"
          ],
          [
           "100072307626W400"
          ],
          [
           "100102307626W400"
          ],
          [
           "100102307626W402"
          ],
          [
           "100102407626W400"
          ],
          [
           "102102407626W400"
          ],
          [
           "100122407626W400"
          ],
          [
           "100072507626W402"
          ],
          [
           "100102607626W400"
          ],
          [
           "102102607626W400"
          ],
          [
           "104102607626W400"
          ],
          [
           "100142707626W400"
          ],
          [
           "100082807626W400"
          ],
          [
           "100082807626W402"
          ],
          [
           "100063307626W403"
          ],
          [
           "100033407626W400"
          ],
          [
           "102033407626W400"
          ],
          [
           "100013507626W400"
          ],
          [
           "100033607626W400"
          ],
          [
           "100070207601W505"
          ],
          [
           "100140707601W500"
          ],
          [
           "100140707601W502"
          ],
          [
           "100101007601W502"
          ],
          [
           "100041107601W502"
          ],
          [
           "100041107601W503"
          ],
          [
           "100041107601W504"
          ],
          [
           "100041807601W500"
          ],
          [
           "100041807601W502"
          ],
          [
           "100041807601W503"
          ],
          [
           "100023207601W500"
          ],
          [
           "100023207601W502"
          ],
          [
           "100023207601W503"
          ],
          [
           "100023207601W504"
          ],
          [
           "100063607601W504"
          ],
          [
           "100150707602W500"
          ],
          [
           "100140907602W500"
          ],
          [
           "100140907602W502"
          ],
          [
           "100111007602W500"
          ],
          [
           "100111007602W503"
          ],
          [
           "102111007602W500"
          ],
          [
           "102111007602W502"
          ],
          [
           "100121207602W500"
          ],
          [
           "100121207602W502"
          ],
          [
           "100121207602W503"
          ],
          [
           "100011307602W500"
          ],
          [
           "100121507602W500"
          ],
          [
           "100121507602W502"
          ],
          [
           "100121507602W503"
          ],
          [
           "102121507602W500"
          ],
          [
           "102121507602W502"
          ],
          [
           "100141607602W500"
          ],
          [
           "102141607602W500"
          ],
          [
           "102141607602W502"
          ],
          [
           "103141607602W500"
          ],
          [
           "103141607602W502"
          ],
          [
           "100061707602W500"
          ],
          [
           "100061707602W502"
          ],
          [
           "102061707602W500"
          ],
          [
           "102061707602W502"
          ],
          [
           "100061807602W500"
          ],
          [
           "100061807602W502"
          ],
          [
           "100151907602W500"
          ],
          [
           "100151907602W502"
          ],
          [
           "100151907602W503"
          ],
          [
           "100062007602W500"
          ],
          [
           "100062007602W502"
          ],
          [
           "100062107602W500"
          ],
          [
           "100072107602W502"
          ],
          [
           "100072107602W503"
          ],
          [
           "102072107602W500"
          ],
          [
           "102072107602W502"
          ],
          [
           "100102107602W500"
          ],
          [
           "100102107602W502"
          ],
          [
           "100062207602W502"
          ],
          [
           "102062207602W500"
          ],
          [
           "100053007602W500"
          ],
          [
           "100063007602W500"
          ],
          [
           "100123107602W500"
          ],
          [
           "100123107602W502"
          ],
          [
           "100093207602W500"
          ],
          [
           "100043407602W502"
          ],
          [
           "100101307603W500"
          ],
          [
           "100151507603W500"
          ],
          [
           "100151507603W502"
          ],
          [
           "100151507603W503"
          ],
          [
           "100101807603W500"
          ],
          [
           "100101807603W502"
          ],
          [
           "100012107603W502"
          ],
          [
           "100112107603W500"
          ],
          [
           "100102207603W500"
          ],
          [
           "100102207603W502"
          ],
          [
           "100102207603W503"
          ],
          [
           "102102207603W500"
          ],
          [
           "100152207603W500"
          ],
          [
           "100092307603W500"
          ],
          [
           "100112407603W502"
          ],
          [
           "100042507603W502"
          ],
          [
           "100152607603W502"
          ],
          [
           "100152607603W503"
          ],
          [
           "100072707603W500"
          ],
          [
           "100072707603W502"
          ],
          [
           "100072707603W503"
          ],
          [
           "100132707603W500"
          ],
          [
           "100092807603W500"
          ],
          [
           "100092807603W502"
          ],
          [
           "100063007603W502"
          ],
          [
           "102063007603W500"
          ],
          [
           "100133107603W500"
          ],
          [
           "100013307603W500"
          ],
          [
           "100013307603W502"
          ],
          [
           "100053507603W503"
          ],
          [
           "100063607603W500"
          ],
          [
           "100121307604W500"
          ],
          [
           "100121307604W502"
          ],
          [
           "100071407604W500"
          ],
          [
           "100092307604W503"
          ],
          [
           "100092307604W504"
          ],
          [
           "102092307604W500"
          ],
          [
           "102092307604W502"
          ],
          [
           "100122407604W500"
          ],
          [
           "100122407604W502"
          ],
          [
           "100042507604W500"
          ],
          [
           "100012607604W502"
          ],
          [
           "100012607604W503"
          ],
          [
           "100140607724W403"
          ],
          [
           "100140607724W404"
          ],
          [
           "100070707724W400"
          ],
          [
           "100070707724W402"
          ],
          [
           "100141807724W400"
          ],
          [
           "100141807724W402"
          ],
          [
           "100141807724W403"
          ],
          [
           "100141807724W404"
          ],
          [
           "100141807724W405"
          ],
          [
           "100060607725W400"
          ],
          [
           "100050707725W403"
          ],
          [
           "100101007725W400"
          ],
          [
           "100051107725W400"
          ],
          [
           "1W0121607725W400"
          ],
          [
           "100031907725W400"
          ],
          [
           "100121907725W400"
          ],
          [
           "100121907725W402"
          ],
          [
           "100072007725W400"
          ],
          [
           "100072007725W402"
          ],
          [
           "100012407725W400"
          ],
          [
           "100012407725W402"
          ],
          [
           "100012407725W403"
          ],
          [
           "100092607725W400"
          ],
          [
           "100112607725W400"
          ],
          [
           "100112707725W400"
          ],
          [
           "100052807725W400"
          ],
          [
           "100082807725W400"
          ],
          [
           "100102807725W400"
          ],
          [
           "100112807725W400"
          ],
          [
           "100162807725W400"
          ],
          [
           "100092907725W400"
          ],
          [
           "100083307725W400"
          ],
          [
           "100163307725W400"
          ],
          [
           "100013407725W400"
          ],
          [
           "102013407725W400"
          ],
          [
           "103013407725W400"
          ],
          [
           "104013407725W400"
          ],
          [
           "100023407725W400"
          ],
          [
           "100063407725W400"
          ],
          [
           "102073407725W400"
          ],
          [
           "103073407725W400"
          ],
          [
           "100083407725W400"
          ],
          [
           "102083407725W400"
          ],
          [
           "100093407725W400"
          ],
          [
           "102093407725W400"
          ],
          [
           "103093407725W400"
          ],
          [
           "104093407725W400"
          ],
          [
           "100103407725W400"
          ],
          [
           "100143407725W400"
          ],
          [
           "100153407725W400"
          ],
          [
           "102153407725W400"
          ],
          [
           "100163407725W400"
          ],
          [
           "102163407725W400"
          ],
          [
           "100013507725W400"
          ],
          [
           "102013507725W400"
          ],
          [
           "103013507725W400"
          ],
          [
           "104013507725W400"
          ],
          [
           "100023507725W400"
          ],
          [
           "102023507725W400"
          ],
          [
           "100033507725W400"
          ],
          [
           "102033507725W400"
          ],
          [
           "100043507725W400"
          ],
          [
           "102043507725W400"
          ],
          [
           "103043507725W400"
          ],
          [
           "100053507725W400"
          ],
          [
           "102053507725W400"
          ],
          [
           "103053507725W400"
          ],
          [
           "102063507725W400"
          ],
          [
           "100073507725W400"
          ],
          [
           "100083507725W400"
          ],
          [
           "102083507725W400"
          ],
          [
           "100093507725W400"
          ],
          [
           "102093507725W400"
          ],
          [
           "103093507725W400"
          ],
          [
           "104093507725W400"
          ],
          [
           "100103507725W400"
          ],
          [
           "102103507725W400"
          ],
          [
           "100113507725W400"
          ],
          [
           "102113507725W400"
          ],
          [
           "103113507725W400"
          ],
          [
           "100123507725W400"
          ],
          [
           "102123507725W400"
          ],
          [
           "103123507725W400"
          ],
          [
           "102133507725W400"
          ],
          [
           "100143507725W400"
          ],
          [
           "103143507725W400"
          ],
          [
           "102153507725W400"
          ],
          [
           "100163507725W400"
          ],
          [
           "102163507725W400"
          ],
          [
           "100143607725W400"
          ],
          [
           "100153607725W400"
          ],
          [
           "100153607725W402"
          ],
          [
           "100160807726W400"
          ],
          [
           "100160807726W402"
          ],
          [
           "102160807726W400"
          ],
          [
           "102160807726W402"
          ],
          [
           "100060907726W400"
          ],
          [
           "100151407726W400"
          ],
          [
           "100151407726W402"
          ],
          [
           "100151507726W402"
          ],
          [
           "100151507726W404"
          ],
          [
           "102151507726W400"
          ],
          [
           "102151507726W402"
          ],
          [
           "100011707726W400"
          ],
          [
           "100011707726W402"
          ],
          [
           "100011707726W403"
          ],
          [
           "102102107726W400"
          ],
          [
           "100072207726W400"
          ],
          [
           "100092407726W400"
          ],
          [
           "100092407726W402"
          ],
          [
           "100102407726W402"
          ],
          [
           "100102407726W403"
          ],
          [
           "100012507726W400"
          ],
          [
           "100012507726W402"
          ],
          [
           "100042607726W400"
          ],
          [
           "100042607726W402"
          ],
          [
           "100042607726W403"
          ],
          [
           "102062707726W400"
          ],
          [
           "100103407726W400"
          ],
          [
           "100103407726W402"
          ],
          [
           "102113407726W400"
          ],
          [
           "102113407726W402"
          ],
          [
           "100123507726W400"
          ],
          [
           "100070507701W503"
          ],
          [
           "100161407701W502"
          ],
          [
           "100161407701W504"
          ],
          [
           "100030207702W500"
          ],
          [
           "100070307702W500"
          ],
          [
           "100040407702W500"
          ],
          [
           "100100507702W502"
          ],
          [
           "100030607702W500"
          ],
          [
           "100030607702W502"
          ],
          [
           "100010707702W500"
          ],
          [
           "100010707702W502"
          ],
          [
           "100130807702W500"
          ],
          [
           "100040907702W500"
          ],
          [
           "100101007702W500"
          ],
          [
           "102051107702W500"
          ],
          [
           "100090107703W500"
          ],
          [
           "100010307703W500"
          ],
          [
           "100100307703W500"
          ],
          [
           "100080407703W503"
          ],
          [
           "100080407703W504"
          ],
          [
           "100100807703W500"
          ],
          [
           "100071207703W500"
          ],
          [
           "100081607703W500"
          ],
          [
           "100081607703W502"
          ],
          [
           "100061207826W400"
          ],
          [
           "100061207826W402"
          ],
          [
           "100151707826W400"
          ],
          [
           "100151707826W402"
          ],
          [
           "100163507826W400"
          ],
          [
           "100103607826W400"
          ],
          [
           "100123607826W400"
          ],
          [
           "100143607826W400"
          ],
          [
           "100163607826W400"
          ],
          [
           "100013507526W400"
          ],
          [
           "100012807725W400"
          ],
          [
           "100022807725W400"
          ],
          [
           "100072807725W400"
          ],
          [
           "102082807725W400"
          ],
          [
           "103092807725W400"
          ],
          [
           "103102807725W400"
          ],
          [
           "103152807725W400"
          ],
          [
           "105162807725W400"
          ],
          [
           "100103507826W400"
          ],
          [
           "100082707526W402"
          ],
          [
           "100012307325W400"
          ],
          [
           "100043007324W400"
          ],
          [
           "100092807826W400"
          ],
          [
           "100012307325W404"
          ],
          [
           "100012307325W403"
          ],
          [
           "100012307325W402"
          ],
          [
           "100043007324W404"
          ],
          [
           "100043007324W403"
          ],
          [
           "100043007324W402"
          ],
          [
           "100071907501W502"
          ],
          [
           "1AA093207725W400"
          ],
          [
           "1AA151207826W400"
          ],
          [
           "1AA121407826W400"
          ],
          [
           "102140707601W500"
          ],
          [
           "100081207504W500"
          ],
          [
           "103121607424W400"
          ],
          [
           "100131607424W400"
          ],
          [
           "100032007424W400"
          ],
          [
           "100142107424W400"
          ],
          [
           "100131707425W400"
          ],
          [
           "100023507425W400"
          ],
          [
           "100012507325W400"
          ],
          [
           "100023007324W400"
          ],
          [
           "100142107424W404"
          ],
          [
           "100142107424W403"
          ],
          [
           "100142107424W402"
          ],
          [
           "100131607424W404"
          ],
          [
           "100131607424W403"
          ],
          [
           "100131607424W402"
          ],
          [
           "103121607424W404"
          ],
          [
           "103121607424W403"
          ],
          [
           "103121607424W402"
          ],
          [
           "102023007324W400"
          ],
          [
           "100031907324W400"
          ],
          [
           "100032707526W400"
          ],
          [
           "100160707525W400"
          ],
          [
           "100042007425W400"
          ],
          [
           "100111007525W400"
          ],
          [
           "100113207425W400"
          ],
          [
           "100111707625W403"
          ],
          [
           "100083607425W405"
          ],
          [
           "100083607425W404"
          ],
          [
           "100083607425W403"
          ],
          [
           "100083607425W402"
          ],
          [
           "100131707425W404"
          ],
          [
           "100131707425W403"
          ],
          [
           "100131707425W402"
          ],
          [
           "100032007424W404"
          ],
          [
           "100032007424W403"
          ],
          [
           "100032007424W402"
          ],
          [
           "100012507325W404"
          ],
          [
           "100012507325W403"
          ],
          [
           "100012507325W402"
          ],
          [
           "102033007324W405"
          ],
          [
           "102033007324W404"
          ],
          [
           "102033007324W403"
          ],
          [
           "102033007324W402"
          ],
          [
           "100033007324W404"
          ],
          [
           "100033007324W403"
          ],
          [
           "100033007324W402"
          ],
          [
           "100023007324W404"
          ],
          [
           "100023007324W403"
          ],
          [
           "100023007324W402"
          ],
          [
           "100123007425W400"
          ],
          [
           "100032707526W403"
          ],
          [
           "100042707526W402"
          ],
          [
           "102050507525W400"
          ],
          [
           "100101007525W409"
          ],
          [
           "100091007525W408"
          ],
          [
           "100101007525W407"
          ],
          [
           "100091007525W406"
          ],
          [
           "100091007525W405"
          ],
          [
           "100091007525W404"
          ],
          [
           "100101007525W403"
          ],
          [
           "100071007525W402"
          ],
          [
           "100160707525W408"
          ],
          [
           "100160707525W407"
          ],
          [
           "100160707525W406"
          ],
          [
           "100160707525W405"
          ],
          [
           "102090707525W404"
          ],
          [
           "102090707525W403"
          ],
          [
           "100160707525W402"
          ],
          [
           "102143207425W408"
          ],
          [
           "100113207425W407"
          ],
          [
           "102143207425W406"
          ],
          [
           "102143207425W405"
          ],
          [
           "102143207425W404"
          ],
          [
           "102143207425W403"
          ],
          [
           "102143207425W402"
          ],
          [
           "102113007425W407"
          ],
          [
           "100123007425W406"
          ],
          [
           "100123007425W405"
          ],
          [
           "100123007425W404"
          ],
          [
           "100123007425W403"
          ],
          [
           "100123007425W402"
          ],
          [
           "1W0123207425W400"
          ],
          [
           "102103207425W400"
          ],
          [
           "100150707525W400"
          ],
          [
           "103023007324W400"
          ],
          [
           "102012507325W400"
          ],
          [
           "100022507325W400"
          ],
          [
           "102032507325W400"
          ],
          [
           "100032507325W400"
          ],
          [
           "100042207325W400"
          ],
          [
           "100032607325W400"
          ],
          [
           "102032607325W400"
          ],
          [
           "100042607325W400"
          ],
          [
           "100010507525W400"
          ],
          [
           "100161807525W400"
          ],
          [
           "100150707525W408"
          ],
          [
           "100150707525W407"
          ],
          [
           "100150707525W406"
          ],
          [
           "100150707525W405"
          ],
          [
           "100150707525W404"
          ],
          [
           "100150707525W403"
          ],
          [
           "100150707525W402"
          ],
          [
           "1W0123207425W408"
          ],
          [
           "1W0123207425W407"
          ],
          [
           "1W0123207425W406"
          ],
          [
           "1W0123207425W405"
          ],
          [
           "1W0123207425W404"
          ],
          [
           "1W0123207425W403"
          ],
          [
           "1W0123207425W402"
          ],
          [
           "100123007425W408"
          ],
          [
           "100151807525W400"
          ],
          [
           "100013607425W400"
          ],
          [
           "102042007425W400"
          ],
          [
           "100052007425W400"
          ],
          [
           "100162107526W400"
          ],
          [
           "102080507525W409"
          ],
          [
           "102080507525W408"
          ],
          [
           "102080507525W407"
          ],
          [
           "102080507525W406"
          ],
          [
           "102080507525W405"
          ],
          [
           "102080507525W404"
          ],
          [
           "102080507525W403"
          ],
          [
           "100080607525W402"
          ],
          [
           "102103207425W408"
          ],
          [
           "102103207425W407"
          ],
          [
           "102103207425W406"
          ],
          [
           "100093207425W405"
          ],
          [
           "102103207425W404"
          ],
          [
           "102103207425W403"
          ],
          [
           "102103207425W402"
          ],
          [
           "100132207526W400"
          ],
          [
           "102052707526W400"
          ],
          [
           "100161407325W400"
          ],
          [
           "102161407325W400"
          ],
          [
           "100091407325W400"
          ],
          [
           "100013507325W400"
          ],
          [
           "100161807525W408"
          ],
          [
           "100161807525W407"
          ],
          [
           "100161807525W406"
          ],
          [
           "100161807525W405"
          ],
          [
           "100161807525W404"
          ],
          [
           "100161807525W403"
          ],
          [
           "100161807525W402"
          ],
          [
           "100042607325W404"
          ],
          [
           "100042607325W403"
          ],
          [
           "100042607325W402"
          ],
          [
           "102032607325W405"
          ],
          [
           "102032607325W404"
          ],
          [
           "102032607325W403"
          ],
          [
           "102032607325W402"
          ],
          [
           "100142307325W404"
          ],
          [
           "100032607325W403"
          ],
          [
           "100032607325W402"
          ],
          [
           "100133207324W400"
          ],
          [
           "102133207324W400"
          ],
          [
           "103133207324W400"
          ],
          [
           "100143207324W400"
          ],
          [
           "102143207324W400"
          ],
          [
           "103143207324W400"
          ],
          [
           "104143207324W400"
          ],
          [
           "100153207324W400"
          ],
          [
           "100102707325W400"
          ],
          [
           "100163007424W400"
          ],
          [
           "100153007424W400"
          ],
          [
           "102083207501W500"
          ],
          [
           "103083207501W500"
          ],
          [
           "100051607424W400"
          ],
          [
           "102091107526W400"
          ],
          [
           "100091107526W400"
          ],
          [
           "100101507603W500"
          ],
          [
           "100151807525W408"
          ],
          [
           "100151807525W407"
          ],
          [
           "100151807525W406"
          ],
          [
           "100151807525W405"
          ],
          [
           "100151807525W404"
          ],
          [
           "100151807525W403"
          ],
          [
           "100151807525W402"
          ],
          [
           "100013607425W408"
          ],
          [
           "100013607425W407"
          ],
          [
           "100013607425W406"
          ],
          [
           "100013607425W405"
          ],
          [
           "100013607425W404"
          ],
          [
           "100013607425W403"
          ],
          [
           "100013607425W402"
          ],
          [
           "102042007425W404"
          ],
          [
           "102042007425W403"
          ],
          [
           "102042007425W402"
          ],
          [
           "100042007425W406"
          ],
          [
           "100042007425W405"
          ],
          [
           "100042007425W404"
          ],
          [
           "100042007425W403"
          ],
          [
           "100042007425W402"
          ],
          [
           "100022507325W406"
          ],
          [
           "100022507325W405"
          ],
          [
           "100022507325W404"
          ],
          [
           "100022507325W403"
          ],
          [
           "100022507325W402"
          ],
          [
           "102012507325W406"
          ],
          [
           "102012507325W405"
          ],
          [
           "102012507325W404"
          ],
          [
           "102012507325W403"
          ],
          [
           "102012507325W402"
          ],
          [
           "100042207325W404"
          ],
          [
           "100042207325W403"
          ],
          [
           "100042207325W402"
          ],
          [
           "100132007425W400"
          ],
          [
           "102132007425W400"
          ],
          [
           "100151007525W400"
          ]
         ],
         "hovertemplate": "Surface Longitude=%{x}<br>Surface Latitude=%{y}<br>UWI=%{customdata[0]}<extra></extra>",
         "legendgroup": "",
         "marker": {
          "color": "#636efa",
          "symbol": "circle"
         },
         "mode": "markers",
         "name": "",
         "showlegend": false,
         "type": "scattergl",
         "x": [
          -113.43127,
          -113.679664,
          -113.665375,
          -113.665375,
          -113.665375,
          -113.776619,
          -113.776619,
          -113.776619,
          -113.776619,
          -113.769683,
          -113.769683,
          -113.769683,
          -113.836738,
          -113.836738,
          -113.769758,
          -113.769758,
          -113.769879,
          -113.769879,
          -113.757386,
          -113.727944,
          -113.727944,
          -113.728179,
          -113.728179,
          -113.893575,
          -114.029075,
          -114.002119,
          -114.002119,
          -113.530654,
          -113.530654,
          -113.531138,
          -113.531138,
          -113.527713,
          -113.527713,
          -113.529724,
          -113.547812,
          -113.547812,
          -113.488696,
          -113.482195,
          -113.482195,
          -113.518126,
          -113.518126,
          -113.518126,
          -113.540624,
          -113.529006,
          -113.529006,
          -113.529111,
          -113.529111,
          -113.518377,
          -113.518377,
          -113.518385,
          -113.484696,
          -113.560929,
          -113.560929,
          -113.560929,
          -113.62395,
          -113.62395,
          -113.624203,
          -113.624203,
          -113.624203,
          -113.624203,
          -113.694497,
          -113.694497,
          -113.694497,
          -113.694497,
          -113.629435,
          -113.630888,
          -113.630888,
          -113.630888,
          -113.575762,
          -113.578146,
          -113.554676,
          -113.554676,
          -113.581137,
          -113.64377,
          -113.64377,
          -113.643776,
          -113.652669,
          -113.62393,
          -113.612298,
          -113.601055,
          -113.593758,
          -113.593758,
          -113.566076,
          -113.566795,
          -113.553712,
          -113.553712,
          -113.593409,
          -113.613808,
          -113.630992,
          -113.651067,
          -113.652685,
          -113.67585,
          -113.67585,
          -113.67585,
          -113.656992,
          -113.656992,
          -113.656992,
          -113.661147,
          -113.661147,
          -113.661581,
          -113.661581,
          -113.661581,
          -113.631536,
          -113.607534,
          -113.607534,
          -113.605669,
          -113.586357,
          -113.586357,
          -113.586357,
          -113.586069,
          -113.552338,
          -113.552338,
          -113.800777,
          -113.800777,
          -113.817499,
          -113.83671,
          -113.83671,
          -113.83671,
          -113.811549,
          -113.797425,
          -113.797425,
          -113.803957,
          -113.832169,
          -113.832256,
          -113.832256,
          -113.831971,
          -113.817327,
          -113.818328,
          -113.818328,
          -113.83465,
          -113.83465,
          -113.846163,
          -113.846206,
          -113.819236,
          -113.819236,
          -113.817921,
          -113.888178,
          -113.888178,
          -113.890107,
          -113.974778,
          -113.887802,
          -113.887802,
          -113.872923,
          -113.872923,
          -113.861849,
          -113.99791,
          -113.978224,
          -113.859017,
          -113.925011,
          -113.925011,
          -113.925011,
          -113.863594,
          -113.864424,
          -114.058417,
          -114.078712,
          -114.01982,
          -114.009862,
          -114.274393,
          -114.274393,
          -114.178103,
          -114.253848,
          -114.253848,
          -114.253848,
          -114.303257,
          -114.324156,
          -114.324156,
          -114.37544,
          -114.397749,
          -113.414451,
          -113.414451,
          -113.414451,
          -113.327993,
          -113.313077,
          -113.532451,
          -113.532451,
          -113.545151,
          -113.545151,
          -113.570529,
          -113.571452,
          -113.540218,
          -113.516313,
          -113.462212,
          -113.569729,
          -113.569729,
          -113.5705,
          -113.438349,
          -113.438349,
          -113.464604,
          -113.464604,
          -113.478227,
          -113.478227,
          -113.50437,
          -113.50437,
          -113.525714,
          -113.460588,
          -113.460588,
          -113.583734,
          -113.612191,
          -113.639134,
          -113.639252,
          -113.670461,
          -113.722934,
          -113.691786,
          -113.691786,
          -113.704996,
          -113.704996,
          -113.639035,
          -113.615751,
          -113.601994,
          -113.588598,
          -113.607863,
          -113.65113,
          -113.655836,
          -113.679862,
          -113.679862,
          -113.726811,
          -113.726811,
          -113.655344,
          -113.63772,
          -113.645996,
          -113.581893,
          -113.617408,
          -113.617408,
          -113.621853,
          -113.652725,
          -113.652725,
          -113.652725,
          -113.705637,
          -113.633789,
          -113.633789,
          -113.6156,
          -113.60987,
          -113.591475,
          -113.591475,
          -113.59086,
          -113.830135,
          -113.857028,
          -113.842565,
          -113.872212,
          -113.872212,
          -113.867681,
          -113.866185,
          -113.85412,
          -113.844618,
          -113.84533,
          -113.845192,
          -113.854714,
          -113.843373,
          -113.843373,
          -113.843373,
          -113.880114,
          -113.864769,
          -113.864769,
          -113.863826,
          -113.854926,
          -113.854918,
          -113.825741,
          -113.80002,
          -113.804664,
          -113.804349,
          -113.78801,
          -113.78801,
          -113.78801,
          -113.81504,
          -113.814727,
          -113.814727,
          -113.814727,
          -113.864436,
          -113.865389,
          -113.866473,
          -113.866473,
          -113.851617,
          -113.851508,
          -113.786818,
          -113.770755,
          -113.770755,
          -113.995881,
          -113.978447,
          -113.978447,
          -113.980999,
          -113.933905,
          -113.925516,
          -113.933874,
          -113.96118,
          -113.945841,
          -113.976786,
          -113.976786,
          -113.975894,
          -113.975894,
          -113.993629,
          -113.98168,
          -113.981642,
          -113.981637,
          -113.970184,
          -113.933867,
          -113.933867,
          -114.076798,
          -114.053845,
          -114.053845,
          -114.053845,
          -114.089039,
          -114.084674,
          -114.084674,
          -114.116396,
          -114.136098,
          -114.134596,
          -114.11452,
          -114.085218,
          -114.061248,
          -114.059682,
          -114.059682,
          -114.059682,
          -114.082706,
          -114.110172,
          -114.145753,
          -114.145753,
          -114.145337,
          -114.13767,
          -114.136067,
          -114.136067,
          -114.136067,
          -114.136067,
          -114.146096,
          -114.125079,
          -114.125079,
          -114.121734,
          -114.121734,
          -114.098267,
          -114.098267,
          -114.098267,
          -114.097,
          -114.061289,
          -114.061289,
          -114.061289,
          -114.061289,
          -114.062859,
          -114.042664,
          -114.007734,
          -114.044495,
          -114.083442,
          -114.119561,
          -114.153212,
          -114.121143,
          -114.105157,
          -114.049988,
          -114.004105,
          -114.174503,
          -114.165287,
          -114.216007,
          -114.216007,
          -114.190234,
          -114.164063,
          -114.164063,
          -114.397238,
          -114.397238,
          -114.443331,
          -114.427085,
          -114.427085,
          -113.359526,
          -113.383395,
          -113.38436,
          -113.369934,
          -113.369934,
          -113.360129,
          -113.360129,
          -113.35596,
          -113.35596,
          -113.352518,
          -113.352983,
          -113.352983,
          -113.352983,
          -113.434722,
          -113.470226,
          -113.506354,
          -113.506354,
          -113.528015,
          -113.558887,
          -113.558887,
          -113.559225,
          -113.546631,
          -113.546631,
          -113.519928,
          -113.519928,
          -113.519928,
          -113.487906,
          -113.487906,
          -113.46957,
          -113.511503,
          -113.511503,
          -113.529702,
          -113.529702,
          -113.530925,
          -113.530925,
          -113.509888,
          -113.518192,
          -113.518192,
          -113.518761,
          -113.518761,
          -113.596247,
          -113.586415,
          -113.601635,
          -113.601635,
          -113.61748,
          -113.67141,
          -113.618625,
          -113.618625,
          -113.589373,
          -113.589373,
          -113.619883,
          -113.664934,
          -113.664934,
          -113.664934,
          -113.657373,
          -113.657373,
          -113.657373,
          -113.68711,
          -113.702857,
          -113.702857,
          -113.767773,
          -113.767773,
          -113.845233,
          -113.845233,
          -113.845514,
          -113.883424,
          -113.879424,
          -113.848925,
          -113.844073,
          -113.851616,
          -113.853186,
          -113.831863,
          -113.831705,
          -113.745538,
          -113.745538,
          -113.749196,
          -113.749196,
          -113.773989,
          -113.773989,
          -113.773989,
          -113.768265,
          -113.845723,
          -113.850423,
          -113.850423,
          -113.870506,
          -113.869644,
          -113.869644,
          -113.877973,
          -113.877852,
          -113.859388,
          -113.827381,
          -113.827381,
          -113.827211,
          -113.827211,
          -113.827149,
          -113.827149,
          -113.833638,
          -113.791466,
          -113.774563,
          -113.767503,
          -113.752017,
          -113.752017,
          -113.883417,
          -113.876737,
          -113.876737,
          -113.86481,
          -113.86481,
          -113.907795,
          -113.907795,
          -113.92106,
          -113.92106,
          -113.92106,
          -113.921022,
          -113.958546,
          -113.958546,
          -113.958471,
          -113.958471,
          -113.969138,
          -113.969138,
          -113.969138,
          -113.969422,
          -113.969422,
          -113.974641,
          -113.974641,
          -113.974644,
          -113.974644,
          -113.954305,
          -113.954305,
          -113.929713,
          -113.929713,
          -113.902554,
          -113.902554,
          -113.902432,
          -113.896989,
          -113.897013,
          -113.935633,
          -113.93388,
          -113.923586,
          -113.923586,
          -113.930103,
          -113.948695,
          -113.948695,
          -113.974619,
          -113.974618,
          -113.974618,
          -113.948502,
          -113.955436,
          -113.921148,
          -113.922381,
          -113.922381,
          -113.896989,
          -113.897443,
          -113.907595,
          -113.896987,
          -113.922898,
          -113.922984,
          -113.922993,
          -113.954869,
          -113.970815,
          -113.970815,
          -113.980461,
          -113.957089,
          -113.954844,
          -113.911574,
          -113.911575,
          -114.035569,
          -114.14735,
          -114.14735,
          -114.059333,
          -114.052641,
          -114.052641,
          -114.052641,
          -114.153881,
          -114.153881,
          -114.153881,
          -114.117718,
          -114.117718,
          -114.117718,
          -114.117718,
          -114.014789,
          -114.29737,
          -114.251931,
          -114.251931,
          -114.224806,
          -114.224806,
          -114.22526,
          -114.22526,
          -114.181849,
          -114.181849,
          -114.181849,
          -114.161942,
          -114.230133,
          -114.230133,
          -114.230133,
          -114.230365,
          -114.230365,
          -114.250845,
          -114.250807,
          -114.250807,
          -114.250537,
          -114.250537,
          -114.273372,
          -114.273372,
          -114.273552,
          -114.273552,
          -114.299609,
          -114.299609,
          -114.297914,
          -114.297914,
          -114.297914,
          -114.277641,
          -114.277641,
          -114.248678,
          -114.246657,
          -114.246657,
          -114.246273,
          -114.246273,
          -114.241531,
          -114.241531,
          -114.221987,
          -114.222152,
          -114.311326,
          -114.300556,
          -114.306005,
          -114.306005,
          -114.262371,
          -114.229124,
          -114.320841,
          -114.373442,
          -114.373442,
          -114.373442,
          -114.447656,
          -114.447656,
          -114.395531,
          -114.403659,
          -114.37231,
          -114.37231,
          -114.37231,
          -114.375256,
          -114.371857,
          -114.342912,
          -114.326616,
          -114.333425,
          -114.349976,
          -114.349976,
          -114.372135,
          -114.372135,
          -114.372135,
          -114.385363,
          -114.395646,
          -114.395646,
          -114.455173,
          -114.454871,
          -114.461736,
          -114.395778,
          -114.395778,
          -114.357738,
          -114.329557,
          -114.490886,
          -114.490886,
          -114.500887,
          -114.498807,
          -114.498807,
          -114.498207,
          -114.498207,
          -114.49134,
          -114.49134,
          -114.486763,
          -114.498923,
          -114.498923,
          -113.722595,
          -113.722595,
          -113.711858,
          -113.711858,
          -113.722848,
          -113.722848,
          -113.722848,
          -113.722848,
          -113.722848,
          -113.875708,
          -113.87626,
          -113.790524,
          -113.777199,
          -113.835279,
          -113.879236,
          -113.884035,
          -113.884035,
          -113.846271,
          -113.846271,
          -113.741609,
          -113.741609,
          -113.741609,
          -113.765241,
          -113.777767,
          -113.798707,
          -113.831838,
          -113.815975,
          -113.822034,
          -113.828891,
          -113.814883,
          -113.83863,
          -113.813924,
          -113.813884,
          -113.793749,
          -113.793749,
          -113.793749,
          -113.793749,
          -113.793829,
          -113.800494,
          -113.793749,
          -113.793829,
          -113.793749,
          -113.793749,
          -113.792584,
          -113.792584,
          -113.792664,
          -113.792584,
          -113.792743,
          -113.800575,
          -113.792743,
          -113.792743,
          -113.792584,
          -113.792584,
          -113.767398,
          -113.767396,
          -113.767954,
          -113.767716,
          -113.768209,
          -113.768432,
          -113.777222,
          -113.777222,
          -113.777142,
          -113.777222,
          -113.777222,
          -113.777222,
          -113.777221,
          -113.777301,
          -113.777222,
          -113.76867,
          -113.767396,
          -113.767396,
          -113.766272,
          -113.766178,
          -113.766159,
          -113.766364,
          -113.766643,
          -113.766737,
          -113.777067,
          -113.776828,
          -113.77659,
          -113.777306,
          -113.777544,
          -113.777783,
          -113.778499,
          -113.778022,
          -113.77826,
          -113.766756,
          -113.766551,
          -113.766457,
          -113.75124,
          -113.740622,
          -113.740622,
          -113.992575,
          -113.992575,
          -113.995909,
          -113.995909,
          -113.978299,
          -113.923019,
          -113.923019,
          -113.94915,
          -113.94915,
          -113.947066,
          -113.947066,
          -113.996691,
          -113.996691,
          -113.996691,
          -113.971534,
          -113.948739,
          -113.887416,
          -113.887416,
          -113.896723,
          -113.896723,
          -113.892258,
          -113.892258,
          -113.934772,
          -113.934772,
          -113.934772,
          -113.955665,
          -113.946028,
          -113.946028,
          -113.955082,
          -113.955082,
          -113.938475,
          -114.117987,
          -114.031157,
          -114.031157,
          -114.197976,
          -114.215413,
          -114.255782,
          -114.268354,
          -114.303037,
          -114.303037,
          -114.291142,
          -114.291142,
          -114.285777,
          -114.259585,
          -114.221179,
          -114.206015,
          -114.317063,
          -114.369716,
          -114.372346,
          -114.39482,
          -114.39482,
          -114.427434,
          -114.321617,
          -114.393679,
          -114.393679,
          -113.900624,
          -113.900624,
          -114.00048,
          -114.00048,
          -113.916524,
          -113.897127,
          -113.909717,
          -113.903381,
          -113.892694,
          -113.919482,
          -113.815949,
          -113.815959,
          -113.815988,
          -113.815978,
          -113.814864,
          -113.814855,
          -113.814893,
          -113.814883,
          -113.922829,
          -113.945841,
          -113.699589,
          -113.699589,
          -113.96959,
          -113.699589,
          -113.699589,
          -113.699589,
          -113.699589,
          -113.699589,
          -113.699589,
          -114.13767,
          -113.836596,
          -113.896212,
          -113.938544,
          -114.146862,
          -114.470239,
          -113.617887,
          -113.617729,
          -113.663905,
          -113.663751,
          -113.856214,
          -113.736473,
          -113.699598,
          -113.686503,
          -113.663751,
          -113.663751,
          -113.663751,
          -113.617729,
          -113.617729,
          -113.617729,
          -113.617887,
          -113.617887,
          -113.617887,
          -113.686503,
          -113.686503,
          -113.933963,
          -113.867886,
          -113.856348,
          -113.759899,
          -113.817237,
          -113.850423,
          -113.736473,
          -113.736473,
          -113.736473,
          -113.736473,
          -113.856214,
          -113.856214,
          -113.856214,
          -113.663905,
          -113.663905,
          -113.663905,
          -113.699598,
          -113.699598,
          -113.699598,
          -113.686503,
          -113.686503,
          -113.686503,
          -113.686503,
          -113.686503,
          -113.686503,
          -113.686503,
          -113.686503,
          -113.686503,
          -113.686503,
          -113.817364,
          -113.933963,
          -113.933963,
          -113.872217,
          -113.759899,
          -113.759899,
          -113.759899,
          -113.759899,
          -113.759899,
          -113.759899,
          -113.759899,
          -113.759899,
          -113.867886,
          -113.867886,
          -113.867886,
          -113.867886,
          -113.867886,
          -113.867886,
          -113.867886,
          -113.817237,
          -113.817237,
          -113.817237,
          -113.817237,
          -113.817237,
          -113.817237,
          -113.817237,
          -113.817364,
          -113.817364,
          -113.817364,
          -113.817364,
          -113.817364,
          -113.817364,
          -113.817492,
          -113.817116,
          -113.868022,
          -113.686499,
          -113.710247,
          -113.710404,
          -113.710562,
          -113.710719,
          -113.742403,
          -113.741931,
          -113.742088,
          -113.742246,
          -113.87222,
          -113.866362,
          -113.868022,
          -113.868022,
          -113.868022,
          -113.868022,
          -113.868022,
          -113.868022,
          -113.868022,
          -113.817492,
          -113.817492,
          -113.817492,
          -113.817492,
          -113.817492,
          -113.817492,
          -113.817492,
          -113.817364,
          -113.866521,
          -113.73661,
          -113.856227,
          -113.856239,
          -114.000943,
          -113.872217,
          -113.872217,
          -113.872217,
          -113.872217,
          -113.872217,
          -113.872217,
          -113.872217,
          -113.872217,
          -113.817116,
          -113.817116,
          -113.817116,
          -113.817116,
          -113.817116,
          -113.817116,
          -113.817116,
          -113.933957,
          -113.933954,
          -113.70083,
          -113.700827,
          -113.700824,
          -113.696025,
          -113.866362,
          -113.866362,
          -113.866362,
          -113.866362,
          -113.866362,
          -113.866362,
          -113.866362,
          -113.742246,
          -113.742246,
          -113.742246,
          -113.742088,
          -113.742088,
          -113.742088,
          -113.742088,
          -113.741931,
          -113.741931,
          -113.741931,
          -113.663235,
          -113.663239,
          -113.663082,
          -113.663077,
          -113.662919,
          -113.662924,
          -113.662762,
          -113.662766,
          -113.758797,
          -113.682386,
          -113.682385,
          -114.138926,
          -114.138926,
          -113.61749,
          -113.945618,
          -113.917835,
          -114.342831,
          -113.866521,
          -113.866521,
          -113.866521,
          -113.866521,
          -113.866521,
          -113.866521,
          -113.866521,
          -113.73661,
          -113.73661,
          -113.73661,
          -113.73661,
          -113.73661,
          -113.73661,
          -113.73661,
          -113.856227,
          -113.856227,
          -113.856227,
          -113.856348,
          -113.856348,
          -113.856348,
          -113.856348,
          -113.856348,
          -113.710404,
          -113.710404,
          -113.710404,
          -113.710404,
          -113.710404,
          -113.710247,
          -113.710247,
          -113.710247,
          -113.710247,
          -113.710247,
          -113.742403,
          -113.742403,
          -113.742403,
          -113.855945,
          -113.855945,
          -113.761178
         ],
         "xaxis": "x",
         "y": [
          55.352564,
          55.369891,
          55.366968,
          55.366968,
          55.366968,
          55.318591,
          55.318591,
          55.318591,
          55.318591,
          55.337387,
          55.337387,
          55.337387,
          55.373365,
          55.373365,
          55.363911,
          55.363911,
          55.363864,
          55.363864,
          55.370396,
          55.365779,
          55.365779,
          55.365791,
          55.365791,
          55.367838,
          55.347729,
          55.365919,
          55.365919,
          55.386959,
          55.386959,
          55.386169,
          55.386169,
          55.4016,
          55.4016,
          55.401425,
          55.41154,
          55.41154,
          55.428244,
          55.441485,
          55.441485,
          55.442294,
          55.442294,
          55.442294,
          55.443412,
          55.455363,
          55.455363,
          55.455388,
          55.455388,
          55.453621,
          55.453621,
          55.452596,
          55.453736,
          55.382149,
          55.382149,
          55.382149,
          55.38341,
          55.38341,
          55.383394,
          55.383394,
          55.383394,
          55.383394,
          55.382792,
          55.382792,
          55.382792,
          55.382792,
          55.397964,
          55.397722,
          55.397722,
          55.397722,
          55.397908,
          55.397893,
          55.411706,
          55.411706,
          55.408087,
          55.412178,
          55.412178,
          55.411435,
          55.428909,
          55.430057,
          55.423005,
          55.424709,
          55.420545,
          55.420545,
          55.419352,
          55.433987,
          55.443491,
          55.443491,
          55.434103,
          55.436434,
          55.440587,
          55.439851,
          55.443359,
          55.434087,
          55.434087,
          55.434087,
          55.455556,
          55.455556,
          55.455556,
          55.457935,
          55.457935,
          55.457935,
          55.457935,
          55.457935,
          55.451926,
          55.455423,
          55.455423,
          55.455441,
          55.448542,
          55.448542,
          55.448542,
          55.448542,
          55.453888,
          55.453888,
          55.386319,
          55.386319,
          55.383019,
          55.3767,
          55.3767,
          55.3767,
          55.390998,
          55.395109,
          55.395109,
          55.406429,
          55.416269,
          55.416512,
          55.416512,
          55.416412,
          55.440918,
          55.44257,
          55.44257,
          55.43446,
          55.43446,
          55.44248,
          55.458183,
          55.451298,
          55.451298,
          55.457462,
          55.379515,
          55.379515,
          55.37938,
          55.375161,
          55.396903,
          55.396903,
          55.398977,
          55.398977,
          55.403438,
          55.421824,
          55.430432,
          55.44275,
          55.442021,
          55.442021,
          55.442021,
          55.456155,
          55.453908,
          55.387592,
          55.398166,
          55.412993,
          55.421944,
          55.385838,
          55.385838,
          55.396996,
          55.415028,
          55.415028,
          55.415028,
          55.426868,
          55.408075,
          55.408075,
          55.440175,
          55.460546,
          55.522184,
          55.522184,
          55.522184,
          55.545264,
          55.540655,
          55.463822,
          55.463822,
          55.464112,
          55.464112,
          55.465896,
          55.481534,
          55.479664,
          55.478539,
          55.501667,
          55.497642,
          55.497642,
          55.50775,
          55.526333,
          55.526333,
          55.520935,
          55.520935,
          55.524986,
          55.524986,
          55.523446,
          55.523446,
          55.542413,
          55.540466,
          55.540466,
          55.465155,
          55.466152,
          55.466332,
          55.466205,
          55.466447,
          55.484095,
          55.484035,
          55.484035,
          55.483819,
          55.483819,
          55.484259,
          55.48251,
          55.484425,
          55.497252,
          55.49756,
          55.497446,
          55.497432,
          55.497295,
          55.497295,
          55.506563,
          55.506563,
          55.51033,
          55.509932,
          55.516559,
          55.507332,
          55.526608,
          55.526608,
          55.533448,
          55.524717,
          55.524717,
          55.524717,
          55.54044,
          55.546327,
          55.546327,
          55.540646,
          55.54073,
          55.54114,
          55.54114,
          55.54293,
          55.475037,
          55.465797,
          55.47327,
          55.4654,
          55.4654,
          55.471833,
          55.484671,
          55.478403,
          55.484444,
          55.484444,
          55.491852,
          55.493662,
          55.499943,
          55.499943,
          55.499943,
          55.492678,
          55.505088,
          55.505088,
          55.515784,
          55.508041,
          55.51481,
          55.509915,
          55.513531,
          55.524768,
          55.529721,
          55.531501,
          55.531501,
          55.531501,
          55.525701,
          55.525704,
          55.525704,
          55.525704,
          55.526124,
          55.526134,
          55.542024,
          55.542024,
          55.542611,
          55.542746,
          55.54208,
          55.540984,
          55.540984,
          55.511864,
          55.511872,
          55.511872,
          55.513854,
          55.522855,
          55.527146,
          55.528158,
          55.522327,
          55.522363,
          55.525701,
          55.525701,
          55.526412,
          55.526412,
          55.525333,
          55.538961,
          55.538833,
          55.538081,
          55.539681,
          55.539098,
          55.539098,
          55.466498,
          55.466916,
          55.466916,
          55.466916,
          55.466859,
          55.470751,
          55.470751,
          55.467353,
          55.481217,
          55.481623,
          55.480795,
          55.478081,
          55.50219,
          55.502328,
          55.502328,
          55.502328,
          55.501311,
          55.499896,
          55.500998,
          55.500998,
          55.501757,
          55.509687,
          55.509687,
          55.509687,
          55.509687,
          55.509687,
          55.513883,
          55.511486,
          55.511486,
          55.509709,
          55.509709,
          55.507876,
          55.507876,
          55.507876,
          55.507924,
          55.511148,
          55.511148,
          55.511148,
          55.511148,
          55.511024,
          55.510293,
          55.511886,
          55.533545,
          55.523579,
          55.530696,
          55.520183,
          55.539049,
          55.537948,
          55.53904,
          55.539099,
          55.465466,
          55.502803,
          55.501158,
          55.501158,
          55.513411,
          55.52243,
          55.52243,
          55.470626,
          55.470626,
          55.523192,
          55.539606,
          55.539606,
          55.556843,
          55.550704,
          55.549698,
          55.560662,
          55.560662,
          55.565522,
          55.565522,
          55.588792,
          55.588792,
          55.59494,
          55.596171,
          55.596171,
          55.596171,
          55.552398,
          55.556051,
          55.55538,
          55.55538,
          55.556601,
          55.568019,
          55.568019,
          55.571685,
          55.571326,
          55.571326,
          55.574361,
          55.574361,
          55.574361,
          55.560879,
          55.560879,
          55.575489,
          55.588971,
          55.588971,
          55.589606,
          55.589606,
          55.594598,
          55.594598,
          55.594642,
          55.594592,
          55.594592,
          55.594751,
          55.594751,
          55.548714,
          55.557231,
          55.557052,
          55.557052,
          55.553014,
          55.56933,
          55.56735,
          55.56735,
          55.566295,
          55.566295,
          55.581846,
          55.596904,
          55.596904,
          55.596904,
          55.618709,
          55.618709,
          55.618709,
          55.606489,
          55.619225,
          55.619225,
          55.552958,
          55.552958,
          55.553644,
          55.553644,
          55.553506,
          55.553417,
          55.566276,
          55.57184,
          55.573689,
          55.571699,
          55.57139,
          55.57177,
          55.571769,
          55.569961,
          55.569961,
          55.584926,
          55.584926,
          55.582732,
          55.582732,
          55.582732,
          55.582552,
          55.58633,
          55.585908,
          55.585908,
          55.587059,
          55.586109,
          55.586109,
          55.59717,
          55.596867,
          55.599394,
          55.599797,
          55.599797,
          55.599655,
          55.599655,
          55.599527,
          55.599527,
          55.599407,
          55.595393,
          55.595183,
          55.595463,
          55.596745,
          55.596745,
          55.609961,
          55.619148,
          55.619148,
          55.624065,
          55.624065,
          55.554708,
          55.554708,
          55.553875,
          55.553875,
          55.553875,
          55.553783,
          55.554265,
          55.554265,
          55.554421,
          55.554421,
          55.554262,
          55.554262,
          55.554262,
          55.554361,
          55.554361,
          55.566957,
          55.566957,
          55.566778,
          55.566778,
          55.566455,
          55.566455,
          55.565891,
          55.565891,
          55.568138,
          55.568138,
          55.568213,
          55.586352,
          55.586034,
          55.583026,
          55.583751,
          55.58645,
          55.58645,
          55.591448,
          55.586397,
          55.586397,
          55.586621,
          55.597309,
          55.597309,
          55.598969,
          55.60101,
          55.597196,
          55.600898,
          55.600898,
          55.601169,
          55.601392,
          55.600442,
          55.611835,
          55.615532,
          55.615608,
          55.615942,
          55.619471,
          55.611481,
          55.611481,
          55.626704,
          55.622478,
          55.622179,
          55.622086,
          55.622041,
          55.55408,
          55.574607,
          55.574607,
          55.572251,
          55.563068,
          55.563068,
          55.563068,
          55.580483,
          55.580483,
          55.580483,
          55.622263,
          55.622263,
          55.622263,
          55.622263,
          55.628138,
          55.574233,
          55.577322,
          55.577322,
          55.572616,
          55.572616,
          55.572407,
          55.572407,
          55.57152,
          55.57152,
          55.57152,
          55.57777,
          55.587906,
          55.587906,
          55.587906,
          55.587759,
          55.587759,
          55.589134,
          55.589267,
          55.589267,
          55.589198,
          55.589198,
          55.582998,
          55.582998,
          55.582827,
          55.582827,
          55.584682,
          55.584682,
          55.603698,
          55.603698,
          55.603698,
          55.598611,
          55.598611,
          55.597909,
          55.597863,
          55.597863,
          55.597874,
          55.597874,
          55.601912,
          55.601912,
          55.597693,
          55.597899,
          55.611681,
          55.612167,
          55.630966,
          55.630966,
          55.62846,
          55.623986,
          55.587523,
          55.590552,
          55.590552,
          55.590552,
          55.586859,
          55.586859,
          55.595165,
          55.60121,
          55.602922,
          55.602922,
          55.602922,
          55.600843,
          55.603115,
          55.601803,
          55.601108,
          55.609098,
          55.61828,
          55.61828,
          55.612076,
          55.612076,
          55.612076,
          55.618233,
          55.614875,
          55.614875,
          55.612556,
          55.612548,
          55.632679,
          55.624197,
          55.624197,
          55.626972,
          55.62706,
          55.58592,
          55.58592,
          55.582032,
          55.601438,
          55.601438,
          55.602076,
          55.602076,
          55.601244,
          55.601244,
          55.609408,
          55.609444,
          55.609444,
          55.646542,
          55.646542,
          55.65607,
          55.65607,
          55.672756,
          55.672756,
          55.672756,
          55.672756,
          55.672756,
          55.641455,
          55.654712,
          55.659754,
          55.655216,
          55.67065,
          55.680014,
          55.688784,
          55.688784,
          55.683782,
          55.683782,
          55.684164,
          55.684164,
          55.684164,
          55.706111,
          55.705577,
          55.702689,
          55.697724,
          55.698198,
          55.70236,
          55.703554,
          55.70568,
          55.704369,
          55.712069,
          55.721028,
          55.712433,
          55.712029,
          55.711894,
          55.712298,
          55.712837,
          55.713939,
          55.712163,
          55.711759,
          55.712702,
          55.712568,
          55.719594,
          55.719459,
          55.719325,
          55.719729,
          55.718921,
          55.719695,
          55.719055,
          55.71919,
          55.719998,
          55.719864,
          55.713403,
          55.713268,
          55.713134,
          55.713134,
          55.713134,
          55.713135,
          55.711977,
          55.711842,
          55.712785,
          55.712381,
          55.712516,
          55.712246,
          55.712651,
          55.711707,
          55.712112,
          55.713135,
          55.713672,
          55.713537,
          55.719371,
          55.719247,
          55.719105,
          55.719495,
          55.719867,
          55.719991,
          55.719992,
          55.719992,
          55.719992,
          55.719993,
          55.719993,
          55.719993,
          55.719993,
          55.719993,
          55.719993,
          55.720133,
          55.719743,
          55.719619,
          55.719178,
          55.722066,
          55.722066,
          55.661923,
          55.661923,
          55.664585,
          55.664585,
          55.654802,
          55.678294,
          55.678294,
          55.677783,
          55.677783,
          55.67646,
          55.67646,
          55.666174,
          55.666174,
          55.666174,
          55.689941,
          55.684637,
          55.687502,
          55.687502,
          55.687661,
          55.687661,
          55.696424,
          55.696424,
          55.696028,
          55.696028,
          55.696028,
          55.698621,
          55.717266,
          55.717266,
          55.717367,
          55.717367,
          55.717771,
          55.642962,
          55.676459,
          55.676459,
          55.637844,
          55.641875,
          55.638362,
          55.645778,
          55.637861,
          55.637861,
          55.653118,
          55.653118,
          55.664502,
          55.653286,
          55.659511,
          55.65519,
          55.645544,
          55.638317,
          55.643796,
          55.642469,
          55.642469,
          55.659923,
          55.655521,
          55.67097,
          55.67097,
          55.742476,
          55.742476,
          55.765278,
          55.765278,
          55.807476,
          55.805416,
          55.804696,
          55.806729,
          55.808109,
          55.539183,
          55.69792,
          55.698054,
          55.698458,
          55.698324,
          55.705532,
          55.705397,
          55.705936,
          55.705801,
          55.804493,
          55.522363,
          55.327814,
          55.327725,
          55.79106,
          55.327814,
          55.327814,
          55.327814,
          55.327725,
          55.327725,
          55.327725,
          55.509687,
          55.717008,
          55.750126,
          55.759625,
          55.575668,
          55.481159,
          55.412318,
          55.41232,
          55.433784,
          55.433805,
          55.419656,
          55.448647,
          55.328264,
          55.330392,
          55.433805,
          55.433805,
          55.433805,
          55.41232,
          55.41232,
          55.41232,
          55.412318,
          55.412318,
          55.412318,
          55.330482,
          55.330302,
          55.52274,
          55.471759,
          55.419508,
          55.487085,
          55.440058,
          55.585908,
          55.448647,
          55.448647,
          55.448647,
          55.448647,
          55.419656,
          55.419656,
          55.419656,
          55.433829,
          55.433829,
          55.433829,
          55.328264,
          55.328264,
          55.328264,
          55.330302,
          55.330302,
          55.330302,
          55.330302,
          55.330482,
          55.330482,
          55.330482,
          55.330392,
          55.330392,
          55.330392,
          55.440066,
          55.52274,
          55.52274,
          55.465271,
          55.487085,
          55.487085,
          55.487085,
          55.487085,
          55.487085,
          55.487085,
          55.487085,
          55.487085,
          55.471759,
          55.471759,
          55.471759,
          55.471759,
          55.471759,
          55.471759,
          55.471759,
          55.440058,
          55.440058,
          55.440058,
          55.440058,
          55.440058,
          55.440058,
          55.440058,
          55.440066,
          55.440066,
          55.440066,
          55.440066,
          55.440066,
          55.440066,
          55.440075,
          55.440049,
          55.471714,
          55.330212,
          55.329416,
          55.328168,
          55.328168,
          55.328168,
          55.326679,
          55.326679,
          55.326679,
          55.326679,
          55.465234,
          55.484667,
          55.471714,
          55.471714,
          55.471714,
          55.471714,
          55.471714,
          55.471714,
          55.471714,
          55.440075,
          55.440075,
          55.440075,
          55.440075,
          55.440075,
          55.440075,
          55.440075,
          55.440066,
          55.484667,
          55.448691,
          55.419745,
          55.419047,
          55.515365,
          55.465271,
          55.465271,
          55.465271,
          55.465271,
          55.465271,
          55.465271,
          55.465271,
          55.465271,
          55.440049,
          55.440049,
          55.440049,
          55.440049,
          55.440049,
          55.440049,
          55.440049,
          55.521177,
          55.521177,
          55.324506,
          55.324372,
          55.324237,
          55.357261,
          55.484667,
          55.484667,
          55.484667,
          55.484667,
          55.484667,
          55.484667,
          55.484667,
          55.326679,
          55.326679,
          55.326679,
          55.326679,
          55.326679,
          55.326679,
          55.326679,
          55.326679,
          55.326679,
          55.326679,
          55.353664,
          55.353664,
          55.353664,
          55.353664,
          55.353664,
          55.353664,
          55.353664,
          55.353664,
          55.371727,
          55.430165,
          55.429902,
          55.539286,
          55.539286,
          55.412321,
          55.48513,
          55.484807,
          55.590311,
          55.484667,
          55.484667,
          55.484667,
          55.484667,
          55.484667,
          55.484667,
          55.484667,
          55.448691,
          55.448691,
          55.448691,
          55.448691,
          55.448691,
          55.448691,
          55.448691,
          55.419745,
          55.419745,
          55.419745,
          55.419508,
          55.419508,
          55.419508,
          55.419508,
          55.419508,
          55.329412,
          55.329412,
          55.329412,
          55.329412,
          55.329412,
          55.329416,
          55.329416,
          55.329416,
          55.329416,
          55.329416,
          55.326679,
          55.326679,
          55.326679,
          55.426275,
          55.426275,
          55.488046
         ],
         "yaxis": "y"
        }
       ],
       "layout": {
        "legend": {
         "tracegroupgap": 0
        },
        "template": {
         "data": {
          "bar": [
           {
            "error_x": {
             "color": "#2a3f5f"
            },
            "error_y": {
             "color": "#2a3f5f"
            },
            "marker": {
             "line": {
              "color": "#E5ECF6",
              "width": 0.5
             },
             "pattern": {
              "fillmode": "overlay",
              "size": 10,
              "solidity": 0.2
             }
            },
            "type": "bar"
           }
          ],
          "barpolar": [
           {
            "marker": {
             "line": {
              "color": "#E5ECF6",
              "width": 0.5
             },
             "pattern": {
              "fillmode": "overlay",
              "size": 10,
              "solidity": 0.2
             }
            },
            "type": "barpolar"
           }
          ],
          "carpet": [
           {
            "aaxis": {
             "endlinecolor": "#2a3f5f",
             "gridcolor": "white",
             "linecolor": "white",
             "minorgridcolor": "white",
             "startlinecolor": "#2a3f5f"
            },
            "baxis": {
             "endlinecolor": "#2a3f5f",
             "gridcolor": "white",
             "linecolor": "white",
             "minorgridcolor": "white",
             "startlinecolor": "#2a3f5f"
            },
            "type": "carpet"
           }
          ],
          "choropleth": [
           {
            "colorbar": {
             "outlinewidth": 0,
             "ticks": ""
            },
            "type": "choropleth"
           }
          ],
          "contour": [
           {
            "colorbar": {
             "outlinewidth": 0,
             "ticks": ""
            },
            "colorscale": [
             [
              0,
              "#0d0887"
             ],
             [
              0.1111111111111111,
              "#46039f"
             ],
             [
              0.2222222222222222,
              "#7201a8"
             ],
             [
              0.3333333333333333,
              "#9c179e"
             ],
             [
              0.4444444444444444,
              "#bd3786"
             ],
             [
              0.5555555555555556,
              "#d8576b"
             ],
             [
              0.6666666666666666,
              "#ed7953"
             ],
             [
              0.7777777777777778,
              "#fb9f3a"
             ],
             [
              0.8888888888888888,
              "#fdca26"
             ],
             [
              1,
              "#f0f921"
             ]
            ],
            "type": "contour"
           }
          ],
          "contourcarpet": [
           {
            "colorbar": {
             "outlinewidth": 0,
             "ticks": ""
            },
            "type": "contourcarpet"
           }
          ],
          "heatmap": [
           {
            "colorbar": {
             "outlinewidth": 0,
             "ticks": ""
            },
            "colorscale": [
             [
              0,
              "#0d0887"
             ],
             [
              0.1111111111111111,
              "#46039f"
             ],
             [
              0.2222222222222222,
              "#7201a8"
             ],
             [
              0.3333333333333333,
              "#9c179e"
             ],
             [
              0.4444444444444444,
              "#bd3786"
             ],
             [
              0.5555555555555556,
              "#d8576b"
             ],
             [
              0.6666666666666666,
              "#ed7953"
             ],
             [
              0.7777777777777778,
              "#fb9f3a"
             ],
             [
              0.8888888888888888,
              "#fdca26"
             ],
             [
              1,
              "#f0f921"
             ]
            ],
            "type": "heatmap"
           }
          ],
          "heatmapgl": [
           {
            "colorbar": {
             "outlinewidth": 0,
             "ticks": ""
            },
            "colorscale": [
             [
              0,
              "#0d0887"
             ],
             [
              0.1111111111111111,
              "#46039f"
             ],
             [
              0.2222222222222222,
              "#7201a8"
             ],
             [
              0.3333333333333333,
              "#9c179e"
             ],
             [
              0.4444444444444444,
              "#bd3786"
             ],
             [
              0.5555555555555556,
              "#d8576b"
             ],
             [
              0.6666666666666666,
              "#ed7953"
             ],
             [
              0.7777777777777778,
              "#fb9f3a"
             ],
             [
              0.8888888888888888,
              "#fdca26"
             ],
             [
              1,
              "#f0f921"
             ]
            ],
            "type": "heatmapgl"
           }
          ],
          "histogram": [
           {
            "marker": {
             "pattern": {
              "fillmode": "overlay",
              "size": 10,
              "solidity": 0.2
             }
            },
            "type": "histogram"
           }
          ],
          "histogram2d": [
           {
            "colorbar": {
             "outlinewidth": 0,
             "ticks": ""
            },
            "colorscale": [
             [
              0,
              "#0d0887"
             ],
             [
              0.1111111111111111,
              "#46039f"
             ],
             [
              0.2222222222222222,
              "#7201a8"
             ],
             [
              0.3333333333333333,
              "#9c179e"
             ],
             [
              0.4444444444444444,
              "#bd3786"
             ],
             [
              0.5555555555555556,
              "#d8576b"
             ],
             [
              0.6666666666666666,
              "#ed7953"
             ],
             [
              0.7777777777777778,
              "#fb9f3a"
             ],
             [
              0.8888888888888888,
              "#fdca26"
             ],
             [
              1,
              "#f0f921"
             ]
            ],
            "type": "histogram2d"
           }
          ],
          "histogram2dcontour": [
           {
            "colorbar": {
             "outlinewidth": 0,
             "ticks": ""
            },
            "colorscale": [
             [
              0,
              "#0d0887"
             ],
             [
              0.1111111111111111,
              "#46039f"
             ],
             [
              0.2222222222222222,
              "#7201a8"
             ],
             [
              0.3333333333333333,
              "#9c179e"
             ],
             [
              0.4444444444444444,
              "#bd3786"
             ],
             [
              0.5555555555555556,
              "#d8576b"
             ],
             [
              0.6666666666666666,
              "#ed7953"
             ],
             [
              0.7777777777777778,
              "#fb9f3a"
             ],
             [
              0.8888888888888888,
              "#fdca26"
             ],
             [
              1,
              "#f0f921"
             ]
            ],
            "type": "histogram2dcontour"
           }
          ],
          "mesh3d": [
           {
            "colorbar": {
             "outlinewidth": 0,
             "ticks": ""
            },
            "type": "mesh3d"
           }
          ],
          "parcoords": [
           {
            "line": {
             "colorbar": {
              "outlinewidth": 0,
              "ticks": ""
             }
            },
            "type": "parcoords"
           }
          ],
          "pie": [
           {
            "automargin": true,
            "type": "pie"
           }
          ],
          "scatter": [
           {
            "marker": {
             "colorbar": {
              "outlinewidth": 0,
              "ticks": ""
             }
            },
            "type": "scatter"
           }
          ],
          "scatter3d": [
           {
            "line": {
             "colorbar": {
              "outlinewidth": 0,
              "ticks": ""
             }
            },
            "marker": {
             "colorbar": {
              "outlinewidth": 0,
              "ticks": ""
             }
            },
            "type": "scatter3d"
           }
          ],
          "scattercarpet": [
           {
            "marker": {
             "colorbar": {
              "outlinewidth": 0,
              "ticks": ""
             }
            },
            "type": "scattercarpet"
           }
          ],
          "scattergeo": [
           {
            "marker": {
             "colorbar": {
              "outlinewidth": 0,
              "ticks": ""
             }
            },
            "type": "scattergeo"
           }
          ],
          "scattergl": [
           {
            "marker": {
             "colorbar": {
              "outlinewidth": 0,
              "ticks": ""
             }
            },
            "type": "scattergl"
           }
          ],
          "scattermapbox": [
           {
            "marker": {
             "colorbar": {
              "outlinewidth": 0,
              "ticks": ""
             }
            },
            "type": "scattermapbox"
           }
          ],
          "scatterpolar": [
           {
            "marker": {
             "colorbar": {
              "outlinewidth": 0,
              "ticks": ""
             }
            },
            "type": "scatterpolar"
           }
          ],
          "scatterpolargl": [
           {
            "marker": {
             "colorbar": {
              "outlinewidth": 0,
              "ticks": ""
             }
            },
            "type": "scatterpolargl"
           }
          ],
          "scatterternary": [
           {
            "marker": {
             "colorbar": {
              "outlinewidth": 0,
              "ticks": ""
             }
            },
            "type": "scatterternary"
           }
          ],
          "surface": [
           {
            "colorbar": {
             "outlinewidth": 0,
             "ticks": ""
            },
            "colorscale": [
             [
              0,
              "#0d0887"
             ],
             [
              0.1111111111111111,
              "#46039f"
             ],
             [
              0.2222222222222222,
              "#7201a8"
             ],
             [
              0.3333333333333333,
              "#9c179e"
             ],
             [
              0.4444444444444444,
              "#bd3786"
             ],
             [
              0.5555555555555556,
              "#d8576b"
             ],
             [
              0.6666666666666666,
              "#ed7953"
             ],
             [
              0.7777777777777778,
              "#fb9f3a"
             ],
             [
              0.8888888888888888,
              "#fdca26"
             ],
             [
              1,
              "#f0f921"
             ]
            ],
            "type": "surface"
           }
          ],
          "table": [
           {
            "cells": {
             "fill": {
              "color": "#EBF0F8"
             },
             "line": {
              "color": "white"
             }
            },
            "header": {
             "fill": {
              "color": "#C8D4E3"
             },
             "line": {
              "color": "white"
             }
            },
            "type": "table"
           }
          ]
         },
         "layout": {
          "annotationdefaults": {
           "arrowcolor": "#2a3f5f",
           "arrowhead": 0,
           "arrowwidth": 1
          },
          "autotypenumbers": "strict",
          "coloraxis": {
           "colorbar": {
            "outlinewidth": 0,
            "ticks": ""
           }
          },
          "colorscale": {
           "diverging": [
            [
             0,
             "#8e0152"
            ],
            [
             0.1,
             "#c51b7d"
            ],
            [
             0.2,
             "#de77ae"
            ],
            [
             0.3,
             "#f1b6da"
            ],
            [
             0.4,
             "#fde0ef"
            ],
            [
             0.5,
             "#f7f7f7"
            ],
            [
             0.6,
             "#e6f5d0"
            ],
            [
             0.7,
             "#b8e186"
            ],
            [
             0.8,
             "#7fbc41"
            ],
            [
             0.9,
             "#4d9221"
            ],
            [
             1,
             "#276419"
            ]
           ],
           "sequential": [
            [
             0,
             "#0d0887"
            ],
            [
             0.1111111111111111,
             "#46039f"
            ],
            [
             0.2222222222222222,
             "#7201a8"
            ],
            [
             0.3333333333333333,
             "#9c179e"
            ],
            [
             0.4444444444444444,
             "#bd3786"
            ],
            [
             0.5555555555555556,
             "#d8576b"
            ],
            [
             0.6666666666666666,
             "#ed7953"
            ],
            [
             0.7777777777777778,
             "#fb9f3a"
            ],
            [
             0.8888888888888888,
             "#fdca26"
            ],
            [
             1,
             "#f0f921"
            ]
           ],
           "sequentialminus": [
            [
             0,
             "#0d0887"
            ],
            [
             0.1111111111111111,
             "#46039f"
            ],
            [
             0.2222222222222222,
             "#7201a8"
            ],
            [
             0.3333333333333333,
             "#9c179e"
            ],
            [
             0.4444444444444444,
             "#bd3786"
            ],
            [
             0.5555555555555556,
             "#d8576b"
            ],
            [
             0.6666666666666666,
             "#ed7953"
            ],
            [
             0.7777777777777778,
             "#fb9f3a"
            ],
            [
             0.8888888888888888,
             "#fdca26"
            ],
            [
             1,
             "#f0f921"
            ]
           ]
          },
          "colorway": [
           "#636efa",
           "#EF553B",
           "#00cc96",
           "#ab63fa",
           "#FFA15A",
           "#19d3f3",
           "#FF6692",
           "#B6E880",
           "#FF97FF",
           "#FECB52"
          ],
          "font": {
           "color": "#2a3f5f"
          },
          "geo": {
           "bgcolor": "white",
           "lakecolor": "white",
           "landcolor": "#E5ECF6",
           "showlakes": true,
           "showland": true,
           "subunitcolor": "white"
          },
          "hoverlabel": {
           "align": "left"
          },
          "hovermode": "closest",
          "mapbox": {
           "style": "light"
          },
          "paper_bgcolor": "white",
          "plot_bgcolor": "#E5ECF6",
          "polar": {
           "angularaxis": {
            "gridcolor": "white",
            "linecolor": "white",
            "ticks": ""
           },
           "bgcolor": "#E5ECF6",
           "radialaxis": {
            "gridcolor": "white",
            "linecolor": "white",
            "ticks": ""
           }
          },
          "scene": {
           "xaxis": {
            "backgroundcolor": "#E5ECF6",
            "gridcolor": "white",
            "gridwidth": 2,
            "linecolor": "white",
            "showbackground": true,
            "ticks": "",
            "zerolinecolor": "white"
           },
           "yaxis": {
            "backgroundcolor": "#E5ECF6",
            "gridcolor": "white",
            "gridwidth": 2,
            "linecolor": "white",
            "showbackground": true,
            "ticks": "",
            "zerolinecolor": "white"
           },
           "zaxis": {
            "backgroundcolor": "#E5ECF6",
            "gridcolor": "white",
            "gridwidth": 2,
            "linecolor": "white",
            "showbackground": true,
            "ticks": "",
            "zerolinecolor": "white"
           }
          },
          "shapedefaults": {
           "line": {
            "color": "#2a3f5f"
           }
          },
          "ternary": {
           "aaxis": {
            "gridcolor": "white",
            "linecolor": "white",
            "ticks": ""
           },
           "baxis": {
            "gridcolor": "white",
            "linecolor": "white",
            "ticks": ""
           },
           "bgcolor": "#E5ECF6",
           "caxis": {
            "gridcolor": "white",
            "linecolor": "white",
            "ticks": ""
           }
          },
          "title": {
           "x": 0.05
          },
          "xaxis": {
           "automargin": true,
           "gridcolor": "white",
           "linecolor": "white",
           "ticks": "",
           "title": {
            "standoff": 15
           },
           "zerolinecolor": "white",
           "zerolinewidth": 2
          },
          "yaxis": {
           "automargin": true,
           "gridcolor": "white",
           "linecolor": "white",
           "ticks": "",
           "title": {
            "standoff": 15
           },
           "zerolinecolor": "white",
           "zerolinewidth": 2
          }
         }
        },
        "title": {
         "text": "Marten Hills Well Locations"
        },
        "xaxis": {
         "anchor": "y",
         "domain": [
          0,
          1
         ],
         "title": {
          "text": "Surface Longitude"
         }
        },
        "yaxis": {
         "anchor": "x",
         "domain": [
          0,
          1
         ],
         "scaleanchor": "x",
         "scaleratio": 1,
         "title": {
          "text": "Surface Latitude"
         }
        }
       }
      },
      "text/html": [
       "<div>                            <div id=\"9e73b1f6-0799-4d22-abf7-6bb71734d8bf\" class=\"plotly-graph-div\" style=\"height:525px; width:100%;\"></div>            <script type=\"text/javascript\">                require([\"plotly\"], function(Plotly) {                    window.PLOTLYENV=window.PLOTLYENV || {};                                    if (document.getElementById(\"9e73b1f6-0799-4d22-abf7-6bb71734d8bf\")) {                    Plotly.newPlot(                        \"9e73b1f6-0799-4d22-abf7-6bb71734d8bf\",                        [{\"customdata\":[[\"100112607323W400\"],[\"100093107324W400\"],[\"100113207324W400\"],[\"100113207324W402\"],[\"100113207324W403\"],[\"100011607325W400\"],[\"100011607325W402\"],[\"100011607325W403\"],[\"100011607325W404\"],[\"100122207325W400\"],[\"100122207325W402\"],[\"100122207325W403\"],[\"100153107325W400\"],[\"100153107325W402\"],[\"100053407325W400\"],[\"100053407325W402\"],[\"102053407325W400\"],[\"102053407325W402\"],[\"100153407325W400\"],[\"100083507325W400\"],[\"100083507325W402\"],[\"102083507325W400\"],[\"102083507325W402\"],[\"100113507326W400\"],[\"100012607301W500\"],[\"100083607301W500\"],[\"100083607301W502\"],[\"100150607423W400\"],[\"100150607423W402\"],[\"102150607423W400\"],[\"102150607423W402\"],[\"100150707423W400\"],[\"100150707423W402\"],[\"102150707423W400\"],[\"100121807423W400\"],[\"100121807423W402\"],[\"100132107423W400\"],[\"100112807423W400\"],[\"100112807423W402\"],[\"100122907423W400\"],[\"100122907423W402\"],[\"100122907423W403\"],[\"100133007423W403\"],[\"100103107423W402\"],[\"100103107423W403\"],[\"102103107423W400\"],[\"102103107423W402\"],[\"100123207423W400\"],[\"100123207423W402\"],[\"102123207423W400\"],[\"100113307423W400\"],[\"100110107424W400\"],[\"100110107424W402\"],[\"100110107424W403\"],[\"100090407424W403\"],[\"100090407424W404\"],[\"102090407424W400\"],[\"102090407424W402\"],[\"102090407424W403\"],[\"102090407424W404\"],[\"100120607424W400\"],[\"100120607424W402\"],[\"100120607424W403\"],[\"100120607424W404\"],[\"100100907424W402\"],[\"102100907424W404\"],[\"102100907424W405\"],[\"102100907424W406\"],[\"100091107424W400\"],[\"102091107424W400\"],[\"100101307424W400\"],[\"100101307424W402\"],[\"100071407424W400\"],[\"100121607424W400\"],[\"100121607424W402\"],[\"102121607424W400\"],[\"100162007424W400\"],[\"100162107424W400\"],[\"100062207424W400\"],[\"100092207424W400\"],[\"100042307424W400\"],[\"100042307424W402\"],[\"100042407424W400\"],[\"100042507424W400\"],[\"100152507424W400\"],[\"100152507424W402\"],[\"100042607424W400\"],[\"100062707424W400\"],[\"100102807424W400\"],[\"100092907424W400\"],[\"100162907424W400\"],[\"100013007424W400\"],[\"100013007424W402\"],[\"100013007424W403\"],[\"100103207424W400\"],[\"100103207424W402\"],[\"100103207424W403\"],[\"100143207424W400\"],[\"100143207424W402\"],[\"102143207424W400\"],[\"102143207424W402\"],[\"102143207424W403\"],[\"100073307424W400\"],[\"100103407424W400\"],[\"100103407424W402\"],[\"102103407424W400\"],[\"100033507424W400\"],[\"100033507424W402\"],[\"100033507424W403\"],[\"102033507424W400\"],[\"100103607424W400\"],[\"100103607424W402\"],[\"100130407425W400\"],[\"100130407425W402\"],[\"100110507425W402\"],[\"100020607425W400\"],[\"100020607425W402\"],[\"100020607425W403\"],[\"100020807425W402\"],[\"100050907425W400\"],[\"100050907425W402\"],[\"100081707425W400\"],[\"100161807425W403\"],[\"102161807425W400\"],[\"102161807425W402\"],[\"103161807425W400\"],[\"100112907425W402\"],[\"102112907425W400\"],[\"102112907425W402\"],[\"100023007425W400\"],[\"100023007425W402\"],[\"100113007425W400\"],[\"100133107425W400\"],[\"100063207425W403\"],[\"100063207425W404\"],[\"100143207425W400\"],[\"100070207426W400\"],[\"100070207426W402\"],[\"102070207426W400\"],[\"100040507426W402\"],[\"100091107426W400\"],[\"100091107426W402\"],[\"100121207426W400\"],[\"100121207426W402\"],[\"100021307426W403\"],[\"100061907426W400\"],[\"100132007426W400\"],[\"100162507426W400\"],[\"100122707426W405\"],[\"100122707426W407\"],[\"100122707426W408\"],[\"100103607426W400\"],[\"100163607426W400\"],[\"100160307401W500\"],[\"100121007401W503\"],[\"100111307401W500\"],[\"100072407401W500\"],[\"100140507402W500\"],[\"100140507402W502\"],[\"100121207402W500\"],[\"100131607402W500\"],[\"100131607402W502\"],[\"100131607402W503\"],[\"100121907402W500\"],[\"100061307403W502\"],[\"100061307403W503\"],[\"100112707403W500\"],[\"100153307403W500\"],[\"100033007522W400\"],[\"100033007522W402\"],[\"100033007522W403\"],[\"100153407522W400\"],[\"100053507522W400\"],[\"100020507523W400\"],[\"100020507523W402\"],[\"100040507523W400\"],[\"100040507523W402\"],[\"100050607523W400\"],[\"100050707523W400\"],[\"100070807523W400\"],[\"102030907523W400\"],[\"100141407523W400\"],[\"100111807523W400\"],[\"100111807523W402\"],[\"100041907523W400\"],[\"100112507523W400\"],[\"100112507523W402\"],[\"100032607523W400\"],[\"100032607523W402\"],[\"100082707523W400\"],[\"100082707523W402\"],[\"100082807523W400\"],[\"100082807523W402\"],[\"100093207523W403\"],[\"100063507523W400\"],[\"100063507523W402\"],[\"100070107524W402\"],[\"100070207524W400\"],[\"100070307524W400\"],[\"102070307524W400\"],[\"100060407524W402\"],[\"100110707524W400\"],[\"100100807524W400\"],[\"100100807524W402\"],[\"100120807524W400\"],[\"100120807524W402\"],[\"100101007524W400\"],[\"100061107524W400\"],[\"100121207524W400\"],[\"100101307524W400\"],[\"100091407524W400\"],[\"100121507524W400\"],[\"100091607524W400\"],[\"100121607524W400\"],[\"100121607524W402\"],[\"100041907524W400\"],[\"100041907524W402\"],[\"100082107524W400\"],[\"100072207524W400\"],[\"100142207524W403\"],[\"100012407524W400\"],[\"100112607524W400\"],[\"100112607524W402\"],[\"100142607524W400\"],[\"100052707524W400\"],[\"100052707524W402\"],[\"100052707524W403\"],[\"100053207524W402\"],[\"100163407524W400\"],[\"100163407524W402\"],[\"100063507524W402\"],[\"100073507524W400\"],[\"100113607524W400\"],[\"100113607524W402\"],[\"102113607524W400\"],[\"100130407525W402\"],[\"100050507525W400\"],[\"100090507525W400\"],[\"100070607525W400\"],[\"100070607525W403\"],[\"100160607525W400\"],[\"100090707525W400\"],[\"100050807525W400\"],[\"100100807525W400\"],[\"102100807525W400\"],[\"100021707525W400\"],[\"100061707525W400\"],[\"100101707525W400\"],[\"100101707525W402\"],[\"100101707525W403\"],[\"100051807525W400\"],[\"100011907525W400\"],[\"100011907525W402\"],[\"100101907525W400\"],[\"100042007525W400\"],[\"100122007525W400\"],[\"100062107525W400\"],[\"100112207525W400\"],[\"100052707525W400\"],[\"100122707525W400\"],[\"100162707525W400\"],[\"100162707525W402\"],[\"100162707525W403\"],[\"100032807525W400\"],[\"100082807525W400\"],[\"100082807525W402\"],[\"100082807525W403\"],[\"100033007525W400\"],[\"100083007525W400\"],[\"100093107525W400\"],[\"100093107525W402\"],[\"100113207525W400\"],[\"102113207525W402\"],[\"100093407525W403\"],[\"100103507525W400\"],[\"100103507525W402\"],[\"100082007526W400\"],[\"100062107526W400\"],[\"100062107526W402\"],[\"100112107526W400\"],[\"100032607526W400\"],[\"102102607526W400\"],[\"100132607526W400\"],[\"100062707526W400\"],[\"100082707526W400\"],[\"100072807526W400\"],[\"100072807526W402\"],[\"100102807526W400\"],[\"100102807526W402\"],[\"100082907526W400\"],[\"100063307526W400\"],[\"102063307526W400\"],[\"103063307526W400\"],[\"100083307526W402\"],[\"100053507526W400\"],[\"100053507526W402\"],[\"100050307501W500\"],[\"100080307501W500\"],[\"100080307501W502\"],[\"100080307501W503\"],[\"100070407501W500\"],[\"100090407501W500\"],[\"100090407501W503\"],[\"100070507501W500\"],[\"100080707501W500\"],[\"102080707501W500\"],[\"102070807501W502\"],[\"102010907501W500\"],[\"100151507501W500\"],[\"100161507501W500\"],[\"100161507501W502\"],[\"100161507501W503\"],[\"100161607501W500\"],[\"100091707501W500\"],[\"100111807501W500\"],[\"100111807501W502\"],[\"100141807501W500\"],[\"100071907501W500\"],[\"100081907501W500\"],[\"100081907501W502\"],[\"100081907501W503\"],[\"100081907501W504\"],[\"100111907501W503\"],[\"100052007501W502\"],[\"100052007501W503\"],[\"100062007501W500\"],[\"100062007501W502\"],[\"100032107501W500\"],[\"100032107501W502\"],[\"100032107501W503\"],[\"102032107501W500\"],[\"100072207501W500\"],[\"100072207501W502\"],[\"100072207501W503\"],[\"100072207501W504\"],[\"102072207501W500\"],[\"100062307501W500\"],[\"100082407501W500\"],[\"100142607501W500\"],[\"102082807501W500\"],[\"100142907501W500\"],[\"102043007501W500\"],[\"100063207501W500\"],[\"100053307501W500\"],[\"100053507501W500\"],[\"100083607501W500\"],[\"100060107502W502\"],[\"100151307502W500\"],[\"102101507502W500\"],[\"102101507502W502\"],[\"100102307502W500\"],[\"100022507502W500\"],[\"100022507502W502\"],[\"100100407503W500\"],[\"100100407503W502\"],[\"100083007503W500\"],[\"100073207503W503\"],[\"100073207503W504\"],[\"100110407622W400\"],[\"100030507622W400\"],[\"102030507622W400\"],[\"100160507622W400\"],[\"100160507622W402\"],[\"100030907622W400\"],[\"100030907622W402\"],[\"100151607622W400\"],[\"100151607622W402\"],[\"100022107622W403\"],[\"100072107622W400\"],[\"100072107622W402\"],[\"100072107622W403\"],[\"100060107623W400\"],[\"100120207623W400\"],[\"100070407623W400\"],[\"100070407623W402\"],[\"100090507623W400\"],[\"100070707623W400\"],[\"100070707623W402\"],[\"100100707623W400\"],[\"100120807623W400\"],[\"100120807623W402\"],[\"100130907623W400\"],[\"100130907623W402\"],[\"100130907623W403\"],[\"100031007623W402\"],[\"100031007623W403\"],[\"100131107623W400\"],[\"100151607623W403\"],[\"100151607623W404\"],[\"100161707623W400\"],[\"100161707623W402\"],[\"100012007623W400\"],[\"100012007623W402\"],[\"100022107623W400\"],[\"100032107623W400\"],[\"100032107623W402\"],[\"100042107623W402\"],[\"100042107623W403\"],[\"100030107624W400\"],[\"100100107624W400\"],[\"100120107624W400\"],[\"100120107624W402\"],[\"100060207624W400\"],[\"100060907624W400\"],[\"100061107624W400\"],[\"100061107624W402\"],[\"100071207624W402\"],[\"100071207624W403\"],[\"100061407624W400\"],[\"100072107624W402\"],[\"100072107624W403\"],[\"100072107624W404\"],[\"100162807624W400\"],[\"100162807624W402\"],[\"100162807624W403\"],[\"100022907624W400\"],[\"100132907624W400\"],[\"100132907624W402\"],[\"100070207625W400\"],[\"100070207625W402\"],[\"100070507625W400\"],[\"100070507625W402\"],[\"102070507625W400\"],[\"100030607625W400\"],[\"100060707625W400\"],[\"100100807625W400\"],[\"102100807625W400\"],[\"100110807625W400\"],[\"102110807625W400\"],[\"100120907625W400\"],[\"102120907625W400\"],[\"100111207625W403\"],[\"100111207625W404\"],[\"100111307625W400\"],[\"100111307625W402\"],[\"100061407625W400\"],[\"100061407625W402\"],[\"100061407625W403\"],[\"100071407625W400\"],[\"100101707625W402\"],[\"100111707625W400\"],[\"100111707625W402\"],[\"100101807625W400\"],[\"102101807625W400\"],[\"102101807625W402\"],[\"100061907625W400\"],[\"100111907625W402\"],[\"100122007625W402\"],[\"100112107625W400\"],[\"100112107625W402\"],[\"102112107625W400\"],[\"102112107625W402\"],[\"103112107625W402\"],[\"103112107625W403\"],[\"104112107625W400\"],[\"100072207625W400\"],[\"100032307625W400\"],[\"100072307625W402\"],[\"100052407625W400\"],[\"100052407625W402\"],[\"100043007625W400\"],[\"100143007625W400\"],[\"100143007625W402\"],[\"100013107625W400\"],[\"100013107625W402\"],[\"100050107626W400\"],[\"100050107626W402\"],[\"100070207626W400\"],[\"100070207626W403\"],[\"100070207626W404\"],[\"102070207626W400\"],[\"100050307626W400\"],[\"100050307626W402\"],[\"102050307626W400\"],[\"102050307626W402\"],[\"100080407626W400\"],[\"100080407626W402\"],[\"100080407626W403\"],[\"102080407626W400\"],[\"102080407626W402\"],[\"100070907626W400\"],[\"100070907626W402\"],[\"102070907626W400\"],[\"102070907626W402\"],[\"100031007626W400\"],[\"100031007626W402\"],[\"100031107626W400\"],[\"100031107626W402\"],[\"100061207626W400\"],[\"100061207626W402\"],[\"102061207626W400\"],[\"100101307626W400\"],[\"102101307626W400\"],[\"100051407626W400\"],[\"102051407626W400\"],[\"100101407626W400\"],[\"100101407626W402\"],[\"100141407626W400\"],[\"100101507626W400\"],[\"100101507626W402\"],[\"100101607626W400\"],[\"100072107626W400\"],[\"100072107626W402\"],[\"100072207626W400\"],[\"100112207626W400\"],[\"100072307626W400\"],[\"100102307626W400\"],[\"100102307626W402\"],[\"100102407626W400\"],[\"102102407626W400\"],[\"100122407626W400\"],[\"100072507626W402\"],[\"100102607626W400\"],[\"102102607626W400\"],[\"104102607626W400\"],[\"100142707626W400\"],[\"100082807626W400\"],[\"100082807626W402\"],[\"100063307626W403\"],[\"100033407626W400\"],[\"102033407626W400\"],[\"100013507626W400\"],[\"100033607626W400\"],[\"100070207601W505\"],[\"100140707601W500\"],[\"100140707601W502\"],[\"100101007601W502\"],[\"100041107601W502\"],[\"100041107601W503\"],[\"100041107601W504\"],[\"100041807601W500\"],[\"100041807601W502\"],[\"100041807601W503\"],[\"100023207601W500\"],[\"100023207601W502\"],[\"100023207601W503\"],[\"100023207601W504\"],[\"100063607601W504\"],[\"100150707602W500\"],[\"100140907602W500\"],[\"100140907602W502\"],[\"100111007602W500\"],[\"100111007602W503\"],[\"102111007602W500\"],[\"102111007602W502\"],[\"100121207602W500\"],[\"100121207602W502\"],[\"100121207602W503\"],[\"100011307602W500\"],[\"100121507602W500\"],[\"100121507602W502\"],[\"100121507602W503\"],[\"102121507602W500\"],[\"102121507602W502\"],[\"100141607602W500\"],[\"102141607602W500\"],[\"102141607602W502\"],[\"103141607602W500\"],[\"103141607602W502\"],[\"100061707602W500\"],[\"100061707602W502\"],[\"102061707602W500\"],[\"102061707602W502\"],[\"100061807602W500\"],[\"100061807602W502\"],[\"100151907602W500\"],[\"100151907602W502\"],[\"100151907602W503\"],[\"100062007602W500\"],[\"100062007602W502\"],[\"100062107602W500\"],[\"100072107602W502\"],[\"100072107602W503\"],[\"102072107602W500\"],[\"102072107602W502\"],[\"100102107602W500\"],[\"100102107602W502\"],[\"100062207602W502\"],[\"102062207602W500\"],[\"100053007602W500\"],[\"100063007602W500\"],[\"100123107602W500\"],[\"100123107602W502\"],[\"100093207602W500\"],[\"100043407602W502\"],[\"100101307603W500\"],[\"100151507603W500\"],[\"100151507603W502\"],[\"100151507603W503\"],[\"100101807603W500\"],[\"100101807603W502\"],[\"100012107603W502\"],[\"100112107603W500\"],[\"100102207603W500\"],[\"100102207603W502\"],[\"100102207603W503\"],[\"102102207603W500\"],[\"100152207603W500\"],[\"100092307603W500\"],[\"100112407603W502\"],[\"100042507603W502\"],[\"100152607603W502\"],[\"100152607603W503\"],[\"100072707603W500\"],[\"100072707603W502\"],[\"100072707603W503\"],[\"100132707603W500\"],[\"100092807603W500\"],[\"100092807603W502\"],[\"100063007603W502\"],[\"102063007603W500\"],[\"100133107603W500\"],[\"100013307603W500\"],[\"100013307603W502\"],[\"100053507603W503\"],[\"100063607603W500\"],[\"100121307604W500\"],[\"100121307604W502\"],[\"100071407604W500\"],[\"100092307604W503\"],[\"100092307604W504\"],[\"102092307604W500\"],[\"102092307604W502\"],[\"100122407604W500\"],[\"100122407604W502\"],[\"100042507604W500\"],[\"100012607604W502\"],[\"100012607604W503\"],[\"100140607724W403\"],[\"100140607724W404\"],[\"100070707724W400\"],[\"100070707724W402\"],[\"100141807724W400\"],[\"100141807724W402\"],[\"100141807724W403\"],[\"100141807724W404\"],[\"100141807724W405\"],[\"100060607725W400\"],[\"100050707725W403\"],[\"100101007725W400\"],[\"100051107725W400\"],[\"1W0121607725W400\"],[\"100031907725W400\"],[\"100121907725W400\"],[\"100121907725W402\"],[\"100072007725W400\"],[\"100072007725W402\"],[\"100012407725W400\"],[\"100012407725W402\"],[\"100012407725W403\"],[\"100092607725W400\"],[\"100112607725W400\"],[\"100112707725W400\"],[\"100052807725W400\"],[\"100082807725W400\"],[\"100102807725W400\"],[\"100112807725W400\"],[\"100162807725W400\"],[\"100092907725W400\"],[\"100083307725W400\"],[\"100163307725W400\"],[\"100013407725W400\"],[\"102013407725W400\"],[\"103013407725W400\"],[\"104013407725W400\"],[\"100023407725W400\"],[\"100063407725W400\"],[\"102073407725W400\"],[\"103073407725W400\"],[\"100083407725W400\"],[\"102083407725W400\"],[\"100093407725W400\"],[\"102093407725W400\"],[\"103093407725W400\"],[\"104093407725W400\"],[\"100103407725W400\"],[\"100143407725W400\"],[\"100153407725W400\"],[\"102153407725W400\"],[\"100163407725W400\"],[\"102163407725W400\"],[\"100013507725W400\"],[\"102013507725W400\"],[\"103013507725W400\"],[\"104013507725W400\"],[\"100023507725W400\"],[\"102023507725W400\"],[\"100033507725W400\"],[\"102033507725W400\"],[\"100043507725W400\"],[\"102043507725W400\"],[\"103043507725W400\"],[\"100053507725W400\"],[\"102053507725W400\"],[\"103053507725W400\"],[\"102063507725W400\"],[\"100073507725W400\"],[\"100083507725W400\"],[\"102083507725W400\"],[\"100093507725W400\"],[\"102093507725W400\"],[\"103093507725W400\"],[\"104093507725W400\"],[\"100103507725W400\"],[\"102103507725W400\"],[\"100113507725W400\"],[\"102113507725W400\"],[\"103113507725W400\"],[\"100123507725W400\"],[\"102123507725W400\"],[\"103123507725W400\"],[\"102133507725W400\"],[\"100143507725W400\"],[\"103143507725W400\"],[\"102153507725W400\"],[\"100163507725W400\"],[\"102163507725W400\"],[\"100143607725W400\"],[\"100153607725W400\"],[\"100153607725W402\"],[\"100160807726W400\"],[\"100160807726W402\"],[\"102160807726W400\"],[\"102160807726W402\"],[\"100060907726W400\"],[\"100151407726W400\"],[\"100151407726W402\"],[\"100151507726W402\"],[\"100151507726W404\"],[\"102151507726W400\"],[\"102151507726W402\"],[\"100011707726W400\"],[\"100011707726W402\"],[\"100011707726W403\"],[\"102102107726W400\"],[\"100072207726W400\"],[\"100092407726W400\"],[\"100092407726W402\"],[\"100102407726W402\"],[\"100102407726W403\"],[\"100012507726W400\"],[\"100012507726W402\"],[\"100042607726W400\"],[\"100042607726W402\"],[\"100042607726W403\"],[\"102062707726W400\"],[\"100103407726W400\"],[\"100103407726W402\"],[\"102113407726W400\"],[\"102113407726W402\"],[\"100123507726W400\"],[\"100070507701W503\"],[\"100161407701W502\"],[\"100161407701W504\"],[\"100030207702W500\"],[\"100070307702W500\"],[\"100040407702W500\"],[\"100100507702W502\"],[\"100030607702W500\"],[\"100030607702W502\"],[\"100010707702W500\"],[\"100010707702W502\"],[\"100130807702W500\"],[\"100040907702W500\"],[\"100101007702W500\"],[\"102051107702W500\"],[\"100090107703W500\"],[\"100010307703W500\"],[\"100100307703W500\"],[\"100080407703W503\"],[\"100080407703W504\"],[\"100100807703W500\"],[\"100071207703W500\"],[\"100081607703W500\"],[\"100081607703W502\"],[\"100061207826W400\"],[\"100061207826W402\"],[\"100151707826W400\"],[\"100151707826W402\"],[\"100163507826W400\"],[\"100103607826W400\"],[\"100123607826W400\"],[\"100143607826W400\"],[\"100163607826W400\"],[\"100013507526W400\"],[\"100012807725W400\"],[\"100022807725W400\"],[\"100072807725W400\"],[\"102082807725W400\"],[\"103092807725W400\"],[\"103102807725W400\"],[\"103152807725W400\"],[\"105162807725W400\"],[\"100103507826W400\"],[\"100082707526W402\"],[\"100012307325W400\"],[\"100043007324W400\"],[\"100092807826W400\"],[\"100012307325W404\"],[\"100012307325W403\"],[\"100012307325W402\"],[\"100043007324W404\"],[\"100043007324W403\"],[\"100043007324W402\"],[\"100071907501W502\"],[\"1AA093207725W400\"],[\"1AA151207826W400\"],[\"1AA121407826W400\"],[\"102140707601W500\"],[\"100081207504W500\"],[\"103121607424W400\"],[\"100131607424W400\"],[\"100032007424W400\"],[\"100142107424W400\"],[\"100131707425W400\"],[\"100023507425W400\"],[\"100012507325W400\"],[\"100023007324W400\"],[\"100142107424W404\"],[\"100142107424W403\"],[\"100142107424W402\"],[\"100131607424W404\"],[\"100131607424W403\"],[\"100131607424W402\"],[\"103121607424W404\"],[\"103121607424W403\"],[\"103121607424W402\"],[\"102023007324W400\"],[\"100031907324W400\"],[\"100032707526W400\"],[\"100160707525W400\"],[\"100042007425W400\"],[\"100111007525W400\"],[\"100113207425W400\"],[\"100111707625W403\"],[\"100083607425W405\"],[\"100083607425W404\"],[\"100083607425W403\"],[\"100083607425W402\"],[\"100131707425W404\"],[\"100131707425W403\"],[\"100131707425W402\"],[\"100032007424W404\"],[\"100032007424W403\"],[\"100032007424W402\"],[\"100012507325W404\"],[\"100012507325W403\"],[\"100012507325W402\"],[\"102033007324W405\"],[\"102033007324W404\"],[\"102033007324W403\"],[\"102033007324W402\"],[\"100033007324W404\"],[\"100033007324W403\"],[\"100033007324W402\"],[\"100023007324W404\"],[\"100023007324W403\"],[\"100023007324W402\"],[\"100123007425W400\"],[\"100032707526W403\"],[\"100042707526W402\"],[\"102050507525W400\"],[\"100101007525W409\"],[\"100091007525W408\"],[\"100101007525W407\"],[\"100091007525W406\"],[\"100091007525W405\"],[\"100091007525W404\"],[\"100101007525W403\"],[\"100071007525W402\"],[\"100160707525W408\"],[\"100160707525W407\"],[\"100160707525W406\"],[\"100160707525W405\"],[\"102090707525W404\"],[\"102090707525W403\"],[\"100160707525W402\"],[\"102143207425W408\"],[\"100113207425W407\"],[\"102143207425W406\"],[\"102143207425W405\"],[\"102143207425W404\"],[\"102143207425W403\"],[\"102143207425W402\"],[\"102113007425W407\"],[\"100123007425W406\"],[\"100123007425W405\"],[\"100123007425W404\"],[\"100123007425W403\"],[\"100123007425W402\"],[\"1W0123207425W400\"],[\"102103207425W400\"],[\"100150707525W400\"],[\"103023007324W400\"],[\"102012507325W400\"],[\"100022507325W400\"],[\"102032507325W400\"],[\"100032507325W400\"],[\"100042207325W400\"],[\"100032607325W400\"],[\"102032607325W400\"],[\"100042607325W400\"],[\"100010507525W400\"],[\"100161807525W400\"],[\"100150707525W408\"],[\"100150707525W407\"],[\"100150707525W406\"],[\"100150707525W405\"],[\"100150707525W404\"],[\"100150707525W403\"],[\"100150707525W402\"],[\"1W0123207425W408\"],[\"1W0123207425W407\"],[\"1W0123207425W406\"],[\"1W0123207425W405\"],[\"1W0123207425W404\"],[\"1W0123207425W403\"],[\"1W0123207425W402\"],[\"100123007425W408\"],[\"100151807525W400\"],[\"100013607425W400\"],[\"102042007425W400\"],[\"100052007425W400\"],[\"100162107526W400\"],[\"102080507525W409\"],[\"102080507525W408\"],[\"102080507525W407\"],[\"102080507525W406\"],[\"102080507525W405\"],[\"102080507525W404\"],[\"102080507525W403\"],[\"100080607525W402\"],[\"102103207425W408\"],[\"102103207425W407\"],[\"102103207425W406\"],[\"100093207425W405\"],[\"102103207425W404\"],[\"102103207425W403\"],[\"102103207425W402\"],[\"100132207526W400\"],[\"102052707526W400\"],[\"100161407325W400\"],[\"102161407325W400\"],[\"100091407325W400\"],[\"100013507325W400\"],[\"100161807525W408\"],[\"100161807525W407\"],[\"100161807525W406\"],[\"100161807525W405\"],[\"100161807525W404\"],[\"100161807525W403\"],[\"100161807525W402\"],[\"100042607325W404\"],[\"100042607325W403\"],[\"100042607325W402\"],[\"102032607325W405\"],[\"102032607325W404\"],[\"102032607325W403\"],[\"102032607325W402\"],[\"100142307325W404\"],[\"100032607325W403\"],[\"100032607325W402\"],[\"100133207324W400\"],[\"102133207324W400\"],[\"103133207324W400\"],[\"100143207324W400\"],[\"102143207324W400\"],[\"103143207324W400\"],[\"104143207324W400\"],[\"100153207324W400\"],[\"100102707325W400\"],[\"100163007424W400\"],[\"100153007424W400\"],[\"102083207501W500\"],[\"103083207501W500\"],[\"100051607424W400\"],[\"102091107526W400\"],[\"100091107526W400\"],[\"100101507603W500\"],[\"100151807525W408\"],[\"100151807525W407\"],[\"100151807525W406\"],[\"100151807525W405\"],[\"100151807525W404\"],[\"100151807525W403\"],[\"100151807525W402\"],[\"100013607425W408\"],[\"100013607425W407\"],[\"100013607425W406\"],[\"100013607425W405\"],[\"100013607425W404\"],[\"100013607425W403\"],[\"100013607425W402\"],[\"102042007425W404\"],[\"102042007425W403\"],[\"102042007425W402\"],[\"100042007425W406\"],[\"100042007425W405\"],[\"100042007425W404\"],[\"100042007425W403\"],[\"100042007425W402\"],[\"100022507325W406\"],[\"100022507325W405\"],[\"100022507325W404\"],[\"100022507325W403\"],[\"100022507325W402\"],[\"102012507325W406\"],[\"102012507325W405\"],[\"102012507325W404\"],[\"102012507325W403\"],[\"102012507325W402\"],[\"100042207325W404\"],[\"100042207325W403\"],[\"100042207325W402\"],[\"100132007425W400\"],[\"102132007425W400\"],[\"100151007525W400\"]],\"hovertemplate\":\"Surface Longitude=%{x}<br>Surface Latitude=%{y}<br>UWI=%{customdata[0]}<extra></extra>\",\"legendgroup\":\"\",\"marker\":{\"color\":\"#636efa\",\"symbol\":\"circle\"},\"mode\":\"markers\",\"name\":\"\",\"showlegend\":false,\"type\":\"scattergl\",\"x\":[-113.43127,-113.679664,-113.665375,-113.665375,-113.665375,-113.776619,-113.776619,-113.776619,-113.776619,-113.769683,-113.769683,-113.769683,-113.836738,-113.836738,-113.769758,-113.769758,-113.769879,-113.769879,-113.757386,-113.727944,-113.727944,-113.728179,-113.728179,-113.893575,-114.029075,-114.002119,-114.002119,-113.530654,-113.530654,-113.531138,-113.531138,-113.527713,-113.527713,-113.529724,-113.547812,-113.547812,-113.488696,-113.482195,-113.482195,-113.518126,-113.518126,-113.518126,-113.540624,-113.529006,-113.529006,-113.529111,-113.529111,-113.518377,-113.518377,-113.518385,-113.484696,-113.560929,-113.560929,-113.560929,-113.62395,-113.62395,-113.624203,-113.624203,-113.624203,-113.624203,-113.694497,-113.694497,-113.694497,-113.694497,-113.629435,-113.630888,-113.630888,-113.630888,-113.575762,-113.578146,-113.554676,-113.554676,-113.581137,-113.64377,-113.64377,-113.643776,-113.652669,-113.62393,-113.612298,-113.601055,-113.593758,-113.593758,-113.566076,-113.566795,-113.553712,-113.553712,-113.593409,-113.613808,-113.630992,-113.651067,-113.652685,-113.67585,-113.67585,-113.67585,-113.656992,-113.656992,-113.656992,-113.661147,-113.661147,-113.661581,-113.661581,-113.661581,-113.631536,-113.607534,-113.607534,-113.605669,-113.586357,-113.586357,-113.586357,-113.586069,-113.552338,-113.552338,-113.800777,-113.800777,-113.817499,-113.83671,-113.83671,-113.83671,-113.811549,-113.797425,-113.797425,-113.803957,-113.832169,-113.832256,-113.832256,-113.831971,-113.817327,-113.818328,-113.818328,-113.83465,-113.83465,-113.846163,-113.846206,-113.819236,-113.819236,-113.817921,-113.888178,-113.888178,-113.890107,-113.974778,-113.887802,-113.887802,-113.872923,-113.872923,-113.861849,-113.99791,-113.978224,-113.859017,-113.925011,-113.925011,-113.925011,-113.863594,-113.864424,-114.058417,-114.078712,-114.01982,-114.009862,-114.274393,-114.274393,-114.178103,-114.253848,-114.253848,-114.253848,-114.303257,-114.324156,-114.324156,-114.37544,-114.397749,-113.414451,-113.414451,-113.414451,-113.327993,-113.313077,-113.532451,-113.532451,-113.545151,-113.545151,-113.570529,-113.571452,-113.540218,-113.516313,-113.462212,-113.569729,-113.569729,-113.5705,-113.438349,-113.438349,-113.464604,-113.464604,-113.478227,-113.478227,-113.50437,-113.50437,-113.525714,-113.460588,-113.460588,-113.583734,-113.612191,-113.639134,-113.639252,-113.670461,-113.722934,-113.691786,-113.691786,-113.704996,-113.704996,-113.639035,-113.615751,-113.601994,-113.588598,-113.607863,-113.65113,-113.655836,-113.679862,-113.679862,-113.726811,-113.726811,-113.655344,-113.63772,-113.645996,-113.581893,-113.617408,-113.617408,-113.621853,-113.652725,-113.652725,-113.652725,-113.705637,-113.633789,-113.633789,-113.6156,-113.60987,-113.591475,-113.591475,-113.59086,-113.830135,-113.857028,-113.842565,-113.872212,-113.872212,-113.867681,-113.866185,-113.85412,-113.844618,-113.84533,-113.845192,-113.854714,-113.843373,-113.843373,-113.843373,-113.880114,-113.864769,-113.864769,-113.863826,-113.854926,-113.854918,-113.825741,-113.80002,-113.804664,-113.804349,-113.78801,-113.78801,-113.78801,-113.81504,-113.814727,-113.814727,-113.814727,-113.864436,-113.865389,-113.866473,-113.866473,-113.851617,-113.851508,-113.786818,-113.770755,-113.770755,-113.995881,-113.978447,-113.978447,-113.980999,-113.933905,-113.925516,-113.933874,-113.96118,-113.945841,-113.976786,-113.976786,-113.975894,-113.975894,-113.993629,-113.98168,-113.981642,-113.981637,-113.970184,-113.933867,-113.933867,-114.076798,-114.053845,-114.053845,-114.053845,-114.089039,-114.084674,-114.084674,-114.116396,-114.136098,-114.134596,-114.11452,-114.085218,-114.061248,-114.059682,-114.059682,-114.059682,-114.082706,-114.110172,-114.145753,-114.145753,-114.145337,-114.13767,-114.136067,-114.136067,-114.136067,-114.136067,-114.146096,-114.125079,-114.125079,-114.121734,-114.121734,-114.098267,-114.098267,-114.098267,-114.097,-114.061289,-114.061289,-114.061289,-114.061289,-114.062859,-114.042664,-114.007734,-114.044495,-114.083442,-114.119561,-114.153212,-114.121143,-114.105157,-114.049988,-114.004105,-114.174503,-114.165287,-114.216007,-114.216007,-114.190234,-114.164063,-114.164063,-114.397238,-114.397238,-114.443331,-114.427085,-114.427085,-113.359526,-113.383395,-113.38436,-113.369934,-113.369934,-113.360129,-113.360129,-113.35596,-113.35596,-113.352518,-113.352983,-113.352983,-113.352983,-113.434722,-113.470226,-113.506354,-113.506354,-113.528015,-113.558887,-113.558887,-113.559225,-113.546631,-113.546631,-113.519928,-113.519928,-113.519928,-113.487906,-113.487906,-113.46957,-113.511503,-113.511503,-113.529702,-113.529702,-113.530925,-113.530925,-113.509888,-113.518192,-113.518192,-113.518761,-113.518761,-113.596247,-113.586415,-113.601635,-113.601635,-113.61748,-113.67141,-113.618625,-113.618625,-113.589373,-113.589373,-113.619883,-113.664934,-113.664934,-113.664934,-113.657373,-113.657373,-113.657373,-113.68711,-113.702857,-113.702857,-113.767773,-113.767773,-113.845233,-113.845233,-113.845514,-113.883424,-113.879424,-113.848925,-113.844073,-113.851616,-113.853186,-113.831863,-113.831705,-113.745538,-113.745538,-113.749196,-113.749196,-113.773989,-113.773989,-113.773989,-113.768265,-113.845723,-113.850423,-113.850423,-113.870506,-113.869644,-113.869644,-113.877973,-113.877852,-113.859388,-113.827381,-113.827381,-113.827211,-113.827211,-113.827149,-113.827149,-113.833638,-113.791466,-113.774563,-113.767503,-113.752017,-113.752017,-113.883417,-113.876737,-113.876737,-113.86481,-113.86481,-113.907795,-113.907795,-113.92106,-113.92106,-113.92106,-113.921022,-113.958546,-113.958546,-113.958471,-113.958471,-113.969138,-113.969138,-113.969138,-113.969422,-113.969422,-113.974641,-113.974641,-113.974644,-113.974644,-113.954305,-113.954305,-113.929713,-113.929713,-113.902554,-113.902554,-113.902432,-113.896989,-113.897013,-113.935633,-113.93388,-113.923586,-113.923586,-113.930103,-113.948695,-113.948695,-113.974619,-113.974618,-113.974618,-113.948502,-113.955436,-113.921148,-113.922381,-113.922381,-113.896989,-113.897443,-113.907595,-113.896987,-113.922898,-113.922984,-113.922993,-113.954869,-113.970815,-113.970815,-113.980461,-113.957089,-113.954844,-113.911574,-113.911575,-114.035569,-114.14735,-114.14735,-114.059333,-114.052641,-114.052641,-114.052641,-114.153881,-114.153881,-114.153881,-114.117718,-114.117718,-114.117718,-114.117718,-114.014789,-114.29737,-114.251931,-114.251931,-114.224806,-114.224806,-114.22526,-114.22526,-114.181849,-114.181849,-114.181849,-114.161942,-114.230133,-114.230133,-114.230133,-114.230365,-114.230365,-114.250845,-114.250807,-114.250807,-114.250537,-114.250537,-114.273372,-114.273372,-114.273552,-114.273552,-114.299609,-114.299609,-114.297914,-114.297914,-114.297914,-114.277641,-114.277641,-114.248678,-114.246657,-114.246657,-114.246273,-114.246273,-114.241531,-114.241531,-114.221987,-114.222152,-114.311326,-114.300556,-114.306005,-114.306005,-114.262371,-114.229124,-114.320841,-114.373442,-114.373442,-114.373442,-114.447656,-114.447656,-114.395531,-114.403659,-114.37231,-114.37231,-114.37231,-114.375256,-114.371857,-114.342912,-114.326616,-114.333425,-114.349976,-114.349976,-114.372135,-114.372135,-114.372135,-114.385363,-114.395646,-114.395646,-114.455173,-114.454871,-114.461736,-114.395778,-114.395778,-114.357738,-114.329557,-114.490886,-114.490886,-114.500887,-114.498807,-114.498807,-114.498207,-114.498207,-114.49134,-114.49134,-114.486763,-114.498923,-114.498923,-113.722595,-113.722595,-113.711858,-113.711858,-113.722848,-113.722848,-113.722848,-113.722848,-113.722848,-113.875708,-113.87626,-113.790524,-113.777199,-113.835279,-113.879236,-113.884035,-113.884035,-113.846271,-113.846271,-113.741609,-113.741609,-113.741609,-113.765241,-113.777767,-113.798707,-113.831838,-113.815975,-113.822034,-113.828891,-113.814883,-113.83863,-113.813924,-113.813884,-113.793749,-113.793749,-113.793749,-113.793749,-113.793829,-113.800494,-113.793749,-113.793829,-113.793749,-113.793749,-113.792584,-113.792584,-113.792664,-113.792584,-113.792743,-113.800575,-113.792743,-113.792743,-113.792584,-113.792584,-113.767398,-113.767396,-113.767954,-113.767716,-113.768209,-113.768432,-113.777222,-113.777222,-113.777142,-113.777222,-113.777222,-113.777222,-113.777221,-113.777301,-113.777222,-113.76867,-113.767396,-113.767396,-113.766272,-113.766178,-113.766159,-113.766364,-113.766643,-113.766737,-113.777067,-113.776828,-113.77659,-113.777306,-113.777544,-113.777783,-113.778499,-113.778022,-113.77826,-113.766756,-113.766551,-113.766457,-113.75124,-113.740622,-113.740622,-113.992575,-113.992575,-113.995909,-113.995909,-113.978299,-113.923019,-113.923019,-113.94915,-113.94915,-113.947066,-113.947066,-113.996691,-113.996691,-113.996691,-113.971534,-113.948739,-113.887416,-113.887416,-113.896723,-113.896723,-113.892258,-113.892258,-113.934772,-113.934772,-113.934772,-113.955665,-113.946028,-113.946028,-113.955082,-113.955082,-113.938475,-114.117987,-114.031157,-114.031157,-114.197976,-114.215413,-114.255782,-114.268354,-114.303037,-114.303037,-114.291142,-114.291142,-114.285777,-114.259585,-114.221179,-114.206015,-114.317063,-114.369716,-114.372346,-114.39482,-114.39482,-114.427434,-114.321617,-114.393679,-114.393679,-113.900624,-113.900624,-114.00048,-114.00048,-113.916524,-113.897127,-113.909717,-113.903381,-113.892694,-113.919482,-113.815949,-113.815959,-113.815988,-113.815978,-113.814864,-113.814855,-113.814893,-113.814883,-113.922829,-113.945841,-113.699589,-113.699589,-113.96959,-113.699589,-113.699589,-113.699589,-113.699589,-113.699589,-113.699589,-114.13767,-113.836596,-113.896212,-113.938544,-114.146862,-114.470239,-113.617887,-113.617729,-113.663905,-113.663751,-113.856214,-113.736473,-113.699598,-113.686503,-113.663751,-113.663751,-113.663751,-113.617729,-113.617729,-113.617729,-113.617887,-113.617887,-113.617887,-113.686503,-113.686503,-113.933963,-113.867886,-113.856348,-113.759899,-113.817237,-113.850423,-113.736473,-113.736473,-113.736473,-113.736473,-113.856214,-113.856214,-113.856214,-113.663905,-113.663905,-113.663905,-113.699598,-113.699598,-113.699598,-113.686503,-113.686503,-113.686503,-113.686503,-113.686503,-113.686503,-113.686503,-113.686503,-113.686503,-113.686503,-113.817364,-113.933963,-113.933963,-113.872217,-113.759899,-113.759899,-113.759899,-113.759899,-113.759899,-113.759899,-113.759899,-113.759899,-113.867886,-113.867886,-113.867886,-113.867886,-113.867886,-113.867886,-113.867886,-113.817237,-113.817237,-113.817237,-113.817237,-113.817237,-113.817237,-113.817237,-113.817364,-113.817364,-113.817364,-113.817364,-113.817364,-113.817364,-113.817492,-113.817116,-113.868022,-113.686499,-113.710247,-113.710404,-113.710562,-113.710719,-113.742403,-113.741931,-113.742088,-113.742246,-113.87222,-113.866362,-113.868022,-113.868022,-113.868022,-113.868022,-113.868022,-113.868022,-113.868022,-113.817492,-113.817492,-113.817492,-113.817492,-113.817492,-113.817492,-113.817492,-113.817364,-113.866521,-113.73661,-113.856227,-113.856239,-114.000943,-113.872217,-113.872217,-113.872217,-113.872217,-113.872217,-113.872217,-113.872217,-113.872217,-113.817116,-113.817116,-113.817116,-113.817116,-113.817116,-113.817116,-113.817116,-113.933957,-113.933954,-113.70083,-113.700827,-113.700824,-113.696025,-113.866362,-113.866362,-113.866362,-113.866362,-113.866362,-113.866362,-113.866362,-113.742246,-113.742246,-113.742246,-113.742088,-113.742088,-113.742088,-113.742088,-113.741931,-113.741931,-113.741931,-113.663235,-113.663239,-113.663082,-113.663077,-113.662919,-113.662924,-113.662762,-113.662766,-113.758797,-113.682386,-113.682385,-114.138926,-114.138926,-113.61749,-113.945618,-113.917835,-114.342831,-113.866521,-113.866521,-113.866521,-113.866521,-113.866521,-113.866521,-113.866521,-113.73661,-113.73661,-113.73661,-113.73661,-113.73661,-113.73661,-113.73661,-113.856227,-113.856227,-113.856227,-113.856348,-113.856348,-113.856348,-113.856348,-113.856348,-113.710404,-113.710404,-113.710404,-113.710404,-113.710404,-113.710247,-113.710247,-113.710247,-113.710247,-113.710247,-113.742403,-113.742403,-113.742403,-113.855945,-113.855945,-113.761178],\"xaxis\":\"x\",\"y\":[55.352564,55.369891,55.366968,55.366968,55.366968,55.318591,55.318591,55.318591,55.318591,55.337387,55.337387,55.337387,55.373365,55.373365,55.363911,55.363911,55.363864,55.363864,55.370396,55.365779,55.365779,55.365791,55.365791,55.367838,55.347729,55.365919,55.365919,55.386959,55.386959,55.386169,55.386169,55.4016,55.4016,55.401425,55.41154,55.41154,55.428244,55.441485,55.441485,55.442294,55.442294,55.442294,55.443412,55.455363,55.455363,55.455388,55.455388,55.453621,55.453621,55.452596,55.453736,55.382149,55.382149,55.382149,55.38341,55.38341,55.383394,55.383394,55.383394,55.383394,55.382792,55.382792,55.382792,55.382792,55.397964,55.397722,55.397722,55.397722,55.397908,55.397893,55.411706,55.411706,55.408087,55.412178,55.412178,55.411435,55.428909,55.430057,55.423005,55.424709,55.420545,55.420545,55.419352,55.433987,55.443491,55.443491,55.434103,55.436434,55.440587,55.439851,55.443359,55.434087,55.434087,55.434087,55.455556,55.455556,55.455556,55.457935,55.457935,55.457935,55.457935,55.457935,55.451926,55.455423,55.455423,55.455441,55.448542,55.448542,55.448542,55.448542,55.453888,55.453888,55.386319,55.386319,55.383019,55.3767,55.3767,55.3767,55.390998,55.395109,55.395109,55.406429,55.416269,55.416512,55.416512,55.416412,55.440918,55.44257,55.44257,55.43446,55.43446,55.44248,55.458183,55.451298,55.451298,55.457462,55.379515,55.379515,55.37938,55.375161,55.396903,55.396903,55.398977,55.398977,55.403438,55.421824,55.430432,55.44275,55.442021,55.442021,55.442021,55.456155,55.453908,55.387592,55.398166,55.412993,55.421944,55.385838,55.385838,55.396996,55.415028,55.415028,55.415028,55.426868,55.408075,55.408075,55.440175,55.460546,55.522184,55.522184,55.522184,55.545264,55.540655,55.463822,55.463822,55.464112,55.464112,55.465896,55.481534,55.479664,55.478539,55.501667,55.497642,55.497642,55.50775,55.526333,55.526333,55.520935,55.520935,55.524986,55.524986,55.523446,55.523446,55.542413,55.540466,55.540466,55.465155,55.466152,55.466332,55.466205,55.466447,55.484095,55.484035,55.484035,55.483819,55.483819,55.484259,55.48251,55.484425,55.497252,55.49756,55.497446,55.497432,55.497295,55.497295,55.506563,55.506563,55.51033,55.509932,55.516559,55.507332,55.526608,55.526608,55.533448,55.524717,55.524717,55.524717,55.54044,55.546327,55.546327,55.540646,55.54073,55.54114,55.54114,55.54293,55.475037,55.465797,55.47327,55.4654,55.4654,55.471833,55.484671,55.478403,55.484444,55.484444,55.491852,55.493662,55.499943,55.499943,55.499943,55.492678,55.505088,55.505088,55.515784,55.508041,55.51481,55.509915,55.513531,55.524768,55.529721,55.531501,55.531501,55.531501,55.525701,55.525704,55.525704,55.525704,55.526124,55.526134,55.542024,55.542024,55.542611,55.542746,55.54208,55.540984,55.540984,55.511864,55.511872,55.511872,55.513854,55.522855,55.527146,55.528158,55.522327,55.522363,55.525701,55.525701,55.526412,55.526412,55.525333,55.538961,55.538833,55.538081,55.539681,55.539098,55.539098,55.466498,55.466916,55.466916,55.466916,55.466859,55.470751,55.470751,55.467353,55.481217,55.481623,55.480795,55.478081,55.50219,55.502328,55.502328,55.502328,55.501311,55.499896,55.500998,55.500998,55.501757,55.509687,55.509687,55.509687,55.509687,55.509687,55.513883,55.511486,55.511486,55.509709,55.509709,55.507876,55.507876,55.507876,55.507924,55.511148,55.511148,55.511148,55.511148,55.511024,55.510293,55.511886,55.533545,55.523579,55.530696,55.520183,55.539049,55.537948,55.53904,55.539099,55.465466,55.502803,55.501158,55.501158,55.513411,55.52243,55.52243,55.470626,55.470626,55.523192,55.539606,55.539606,55.556843,55.550704,55.549698,55.560662,55.560662,55.565522,55.565522,55.588792,55.588792,55.59494,55.596171,55.596171,55.596171,55.552398,55.556051,55.55538,55.55538,55.556601,55.568019,55.568019,55.571685,55.571326,55.571326,55.574361,55.574361,55.574361,55.560879,55.560879,55.575489,55.588971,55.588971,55.589606,55.589606,55.594598,55.594598,55.594642,55.594592,55.594592,55.594751,55.594751,55.548714,55.557231,55.557052,55.557052,55.553014,55.56933,55.56735,55.56735,55.566295,55.566295,55.581846,55.596904,55.596904,55.596904,55.618709,55.618709,55.618709,55.606489,55.619225,55.619225,55.552958,55.552958,55.553644,55.553644,55.553506,55.553417,55.566276,55.57184,55.573689,55.571699,55.57139,55.57177,55.571769,55.569961,55.569961,55.584926,55.584926,55.582732,55.582732,55.582732,55.582552,55.58633,55.585908,55.585908,55.587059,55.586109,55.586109,55.59717,55.596867,55.599394,55.599797,55.599797,55.599655,55.599655,55.599527,55.599527,55.599407,55.595393,55.595183,55.595463,55.596745,55.596745,55.609961,55.619148,55.619148,55.624065,55.624065,55.554708,55.554708,55.553875,55.553875,55.553875,55.553783,55.554265,55.554265,55.554421,55.554421,55.554262,55.554262,55.554262,55.554361,55.554361,55.566957,55.566957,55.566778,55.566778,55.566455,55.566455,55.565891,55.565891,55.568138,55.568138,55.568213,55.586352,55.586034,55.583026,55.583751,55.58645,55.58645,55.591448,55.586397,55.586397,55.586621,55.597309,55.597309,55.598969,55.60101,55.597196,55.600898,55.600898,55.601169,55.601392,55.600442,55.611835,55.615532,55.615608,55.615942,55.619471,55.611481,55.611481,55.626704,55.622478,55.622179,55.622086,55.622041,55.55408,55.574607,55.574607,55.572251,55.563068,55.563068,55.563068,55.580483,55.580483,55.580483,55.622263,55.622263,55.622263,55.622263,55.628138,55.574233,55.577322,55.577322,55.572616,55.572616,55.572407,55.572407,55.57152,55.57152,55.57152,55.57777,55.587906,55.587906,55.587906,55.587759,55.587759,55.589134,55.589267,55.589267,55.589198,55.589198,55.582998,55.582998,55.582827,55.582827,55.584682,55.584682,55.603698,55.603698,55.603698,55.598611,55.598611,55.597909,55.597863,55.597863,55.597874,55.597874,55.601912,55.601912,55.597693,55.597899,55.611681,55.612167,55.630966,55.630966,55.62846,55.623986,55.587523,55.590552,55.590552,55.590552,55.586859,55.586859,55.595165,55.60121,55.602922,55.602922,55.602922,55.600843,55.603115,55.601803,55.601108,55.609098,55.61828,55.61828,55.612076,55.612076,55.612076,55.618233,55.614875,55.614875,55.612556,55.612548,55.632679,55.624197,55.624197,55.626972,55.62706,55.58592,55.58592,55.582032,55.601438,55.601438,55.602076,55.602076,55.601244,55.601244,55.609408,55.609444,55.609444,55.646542,55.646542,55.65607,55.65607,55.672756,55.672756,55.672756,55.672756,55.672756,55.641455,55.654712,55.659754,55.655216,55.67065,55.680014,55.688784,55.688784,55.683782,55.683782,55.684164,55.684164,55.684164,55.706111,55.705577,55.702689,55.697724,55.698198,55.70236,55.703554,55.70568,55.704369,55.712069,55.721028,55.712433,55.712029,55.711894,55.712298,55.712837,55.713939,55.712163,55.711759,55.712702,55.712568,55.719594,55.719459,55.719325,55.719729,55.718921,55.719695,55.719055,55.71919,55.719998,55.719864,55.713403,55.713268,55.713134,55.713134,55.713134,55.713135,55.711977,55.711842,55.712785,55.712381,55.712516,55.712246,55.712651,55.711707,55.712112,55.713135,55.713672,55.713537,55.719371,55.719247,55.719105,55.719495,55.719867,55.719991,55.719992,55.719992,55.719992,55.719993,55.719993,55.719993,55.719993,55.719993,55.719993,55.720133,55.719743,55.719619,55.719178,55.722066,55.722066,55.661923,55.661923,55.664585,55.664585,55.654802,55.678294,55.678294,55.677783,55.677783,55.67646,55.67646,55.666174,55.666174,55.666174,55.689941,55.684637,55.687502,55.687502,55.687661,55.687661,55.696424,55.696424,55.696028,55.696028,55.696028,55.698621,55.717266,55.717266,55.717367,55.717367,55.717771,55.642962,55.676459,55.676459,55.637844,55.641875,55.638362,55.645778,55.637861,55.637861,55.653118,55.653118,55.664502,55.653286,55.659511,55.65519,55.645544,55.638317,55.643796,55.642469,55.642469,55.659923,55.655521,55.67097,55.67097,55.742476,55.742476,55.765278,55.765278,55.807476,55.805416,55.804696,55.806729,55.808109,55.539183,55.69792,55.698054,55.698458,55.698324,55.705532,55.705397,55.705936,55.705801,55.804493,55.522363,55.327814,55.327725,55.79106,55.327814,55.327814,55.327814,55.327725,55.327725,55.327725,55.509687,55.717008,55.750126,55.759625,55.575668,55.481159,55.412318,55.41232,55.433784,55.433805,55.419656,55.448647,55.328264,55.330392,55.433805,55.433805,55.433805,55.41232,55.41232,55.41232,55.412318,55.412318,55.412318,55.330482,55.330302,55.52274,55.471759,55.419508,55.487085,55.440058,55.585908,55.448647,55.448647,55.448647,55.448647,55.419656,55.419656,55.419656,55.433829,55.433829,55.433829,55.328264,55.328264,55.328264,55.330302,55.330302,55.330302,55.330302,55.330482,55.330482,55.330482,55.330392,55.330392,55.330392,55.440066,55.52274,55.52274,55.465271,55.487085,55.487085,55.487085,55.487085,55.487085,55.487085,55.487085,55.487085,55.471759,55.471759,55.471759,55.471759,55.471759,55.471759,55.471759,55.440058,55.440058,55.440058,55.440058,55.440058,55.440058,55.440058,55.440066,55.440066,55.440066,55.440066,55.440066,55.440066,55.440075,55.440049,55.471714,55.330212,55.329416,55.328168,55.328168,55.328168,55.326679,55.326679,55.326679,55.326679,55.465234,55.484667,55.471714,55.471714,55.471714,55.471714,55.471714,55.471714,55.471714,55.440075,55.440075,55.440075,55.440075,55.440075,55.440075,55.440075,55.440066,55.484667,55.448691,55.419745,55.419047,55.515365,55.465271,55.465271,55.465271,55.465271,55.465271,55.465271,55.465271,55.465271,55.440049,55.440049,55.440049,55.440049,55.440049,55.440049,55.440049,55.521177,55.521177,55.324506,55.324372,55.324237,55.357261,55.484667,55.484667,55.484667,55.484667,55.484667,55.484667,55.484667,55.326679,55.326679,55.326679,55.326679,55.326679,55.326679,55.326679,55.326679,55.326679,55.326679,55.353664,55.353664,55.353664,55.353664,55.353664,55.353664,55.353664,55.353664,55.371727,55.430165,55.429902,55.539286,55.539286,55.412321,55.48513,55.484807,55.590311,55.484667,55.484667,55.484667,55.484667,55.484667,55.484667,55.484667,55.448691,55.448691,55.448691,55.448691,55.448691,55.448691,55.448691,55.419745,55.419745,55.419745,55.419508,55.419508,55.419508,55.419508,55.419508,55.329412,55.329412,55.329412,55.329412,55.329412,55.329416,55.329416,55.329416,55.329416,55.329416,55.326679,55.326679,55.326679,55.426275,55.426275,55.488046],\"yaxis\":\"y\"}],                        {\"legend\":{\"tracegroupgap\":0},\"template\":{\"data\":{\"bar\":[{\"error_x\":{\"color\":\"#2a3f5f\"},\"error_y\":{\"color\":\"#2a3f5f\"},\"marker\":{\"line\":{\"color\":\"#E5ECF6\",\"width\":0.5},\"pattern\":{\"fillmode\":\"overlay\",\"size\":10,\"solidity\":0.2}},\"type\":\"bar\"}],\"barpolar\":[{\"marker\":{\"line\":{\"color\":\"#E5ECF6\",\"width\":0.5},\"pattern\":{\"fillmode\":\"overlay\",\"size\":10,\"solidity\":0.2}},\"type\":\"barpolar\"}],\"carpet\":[{\"aaxis\":{\"endlinecolor\":\"#2a3f5f\",\"gridcolor\":\"white\",\"linecolor\":\"white\",\"minorgridcolor\":\"white\",\"startlinecolor\":\"#2a3f5f\"},\"baxis\":{\"endlinecolor\":\"#2a3f5f\",\"gridcolor\":\"white\",\"linecolor\":\"white\",\"minorgridcolor\":\"white\",\"startlinecolor\":\"#2a3f5f\"},\"type\":\"carpet\"}],\"choropleth\":[{\"colorbar\":{\"outlinewidth\":0,\"ticks\":\"\"},\"type\":\"choropleth\"}],\"contour\":[{\"colorbar\":{\"outlinewidth\":0,\"ticks\":\"\"},\"colorscale\":[[0.0,\"#0d0887\"],[0.1111111111111111,\"#46039f\"],[0.2222222222222222,\"#7201a8\"],[0.3333333333333333,\"#9c179e\"],[0.4444444444444444,\"#bd3786\"],[0.5555555555555556,\"#d8576b\"],[0.6666666666666666,\"#ed7953\"],[0.7777777777777778,\"#fb9f3a\"],[0.8888888888888888,\"#fdca26\"],[1.0,\"#f0f921\"]],\"type\":\"contour\"}],\"contourcarpet\":[{\"colorbar\":{\"outlinewidth\":0,\"ticks\":\"\"},\"type\":\"contourcarpet\"}],\"heatmap\":[{\"colorbar\":{\"outlinewidth\":0,\"ticks\":\"\"},\"colorscale\":[[0.0,\"#0d0887\"],[0.1111111111111111,\"#46039f\"],[0.2222222222222222,\"#7201a8\"],[0.3333333333333333,\"#9c179e\"],[0.4444444444444444,\"#bd3786\"],[0.5555555555555556,\"#d8576b\"],[0.6666666666666666,\"#ed7953\"],[0.7777777777777778,\"#fb9f3a\"],[0.8888888888888888,\"#fdca26\"],[1.0,\"#f0f921\"]],\"type\":\"heatmap\"}],\"heatmapgl\":[{\"colorbar\":{\"outlinewidth\":0,\"ticks\":\"\"},\"colorscale\":[[0.0,\"#0d0887\"],[0.1111111111111111,\"#46039f\"],[0.2222222222222222,\"#7201a8\"],[0.3333333333333333,\"#9c179e\"],[0.4444444444444444,\"#bd3786\"],[0.5555555555555556,\"#d8576b\"],[0.6666666666666666,\"#ed7953\"],[0.7777777777777778,\"#fb9f3a\"],[0.8888888888888888,\"#fdca26\"],[1.0,\"#f0f921\"]],\"type\":\"heatmapgl\"}],\"histogram\":[{\"marker\":{\"pattern\":{\"fillmode\":\"overlay\",\"size\":10,\"solidity\":0.2}},\"type\":\"histogram\"}],\"histogram2d\":[{\"colorbar\":{\"outlinewidth\":0,\"ticks\":\"\"},\"colorscale\":[[0.0,\"#0d0887\"],[0.1111111111111111,\"#46039f\"],[0.2222222222222222,\"#7201a8\"],[0.3333333333333333,\"#9c179e\"],[0.4444444444444444,\"#bd3786\"],[0.5555555555555556,\"#d8576b\"],[0.6666666666666666,\"#ed7953\"],[0.7777777777777778,\"#fb9f3a\"],[0.8888888888888888,\"#fdca26\"],[1.0,\"#f0f921\"]],\"type\":\"histogram2d\"}],\"histogram2dcontour\":[{\"colorbar\":{\"outlinewidth\":0,\"ticks\":\"\"},\"colorscale\":[[0.0,\"#0d0887\"],[0.1111111111111111,\"#46039f\"],[0.2222222222222222,\"#7201a8\"],[0.3333333333333333,\"#9c179e\"],[0.4444444444444444,\"#bd3786\"],[0.5555555555555556,\"#d8576b\"],[0.6666666666666666,\"#ed7953\"],[0.7777777777777778,\"#fb9f3a\"],[0.8888888888888888,\"#fdca26\"],[1.0,\"#f0f921\"]],\"type\":\"histogram2dcontour\"}],\"mesh3d\":[{\"colorbar\":{\"outlinewidth\":0,\"ticks\":\"\"},\"type\":\"mesh3d\"}],\"parcoords\":[{\"line\":{\"colorbar\":{\"outlinewidth\":0,\"ticks\":\"\"}},\"type\":\"parcoords\"}],\"pie\":[{\"automargin\":true,\"type\":\"pie\"}],\"scatter\":[{\"marker\":{\"colorbar\":{\"outlinewidth\":0,\"ticks\":\"\"}},\"type\":\"scatter\"}],\"scatter3d\":[{\"line\":{\"colorbar\":{\"outlinewidth\":0,\"ticks\":\"\"}},\"marker\":{\"colorbar\":{\"outlinewidth\":0,\"ticks\":\"\"}},\"type\":\"scatter3d\"}],\"scattercarpet\":[{\"marker\":{\"colorbar\":{\"outlinewidth\":0,\"ticks\":\"\"}},\"type\":\"scattercarpet\"}],\"scattergeo\":[{\"marker\":{\"colorbar\":{\"outlinewidth\":0,\"ticks\":\"\"}},\"type\":\"scattergeo\"}],\"scattergl\":[{\"marker\":{\"colorbar\":{\"outlinewidth\":0,\"ticks\":\"\"}},\"type\":\"scattergl\"}],\"scattermapbox\":[{\"marker\":{\"colorbar\":{\"outlinewidth\":0,\"ticks\":\"\"}},\"type\":\"scattermapbox\"}],\"scatterpolar\":[{\"marker\":{\"colorbar\":{\"outlinewidth\":0,\"ticks\":\"\"}},\"type\":\"scatterpolar\"}],\"scatterpolargl\":[{\"marker\":{\"colorbar\":{\"outlinewidth\":0,\"ticks\":\"\"}},\"type\":\"scatterpolargl\"}],\"scatterternary\":[{\"marker\":{\"colorbar\":{\"outlinewidth\":0,\"ticks\":\"\"}},\"type\":\"scatterternary\"}],\"surface\":[{\"colorbar\":{\"outlinewidth\":0,\"ticks\":\"\"},\"colorscale\":[[0.0,\"#0d0887\"],[0.1111111111111111,\"#46039f\"],[0.2222222222222222,\"#7201a8\"],[0.3333333333333333,\"#9c179e\"],[0.4444444444444444,\"#bd3786\"],[0.5555555555555556,\"#d8576b\"],[0.6666666666666666,\"#ed7953\"],[0.7777777777777778,\"#fb9f3a\"],[0.8888888888888888,\"#fdca26\"],[1.0,\"#f0f921\"]],\"type\":\"surface\"}],\"table\":[{\"cells\":{\"fill\":{\"color\":\"#EBF0F8\"},\"line\":{\"color\":\"white\"}},\"header\":{\"fill\":{\"color\":\"#C8D4E3\"},\"line\":{\"color\":\"white\"}},\"type\":\"table\"}]},\"layout\":{\"annotationdefaults\":{\"arrowcolor\":\"#2a3f5f\",\"arrowhead\":0,\"arrowwidth\":1},\"autotypenumbers\":\"strict\",\"coloraxis\":{\"colorbar\":{\"outlinewidth\":0,\"ticks\":\"\"}},\"colorscale\":{\"diverging\":[[0,\"#8e0152\"],[0.1,\"#c51b7d\"],[0.2,\"#de77ae\"],[0.3,\"#f1b6da\"],[0.4,\"#fde0ef\"],[0.5,\"#f7f7f7\"],[0.6,\"#e6f5d0\"],[0.7,\"#b8e186\"],[0.8,\"#7fbc41\"],[0.9,\"#4d9221\"],[1,\"#276419\"]],\"sequential\":[[0.0,\"#0d0887\"],[0.1111111111111111,\"#46039f\"],[0.2222222222222222,\"#7201a8\"],[0.3333333333333333,\"#9c179e\"],[0.4444444444444444,\"#bd3786\"],[0.5555555555555556,\"#d8576b\"],[0.6666666666666666,\"#ed7953\"],[0.7777777777777778,\"#fb9f3a\"],[0.8888888888888888,\"#fdca26\"],[1.0,\"#f0f921\"]],\"sequentialminus\":[[0.0,\"#0d0887\"],[0.1111111111111111,\"#46039f\"],[0.2222222222222222,\"#7201a8\"],[0.3333333333333333,\"#9c179e\"],[0.4444444444444444,\"#bd3786\"],[0.5555555555555556,\"#d8576b\"],[0.6666666666666666,\"#ed7953\"],[0.7777777777777778,\"#fb9f3a\"],[0.8888888888888888,\"#fdca26\"],[1.0,\"#f0f921\"]]},\"colorway\":[\"#636efa\",\"#EF553B\",\"#00cc96\",\"#ab63fa\",\"#FFA15A\",\"#19d3f3\",\"#FF6692\",\"#B6E880\",\"#FF97FF\",\"#FECB52\"],\"font\":{\"color\":\"#2a3f5f\"},\"geo\":{\"bgcolor\":\"white\",\"lakecolor\":\"white\",\"landcolor\":\"#E5ECF6\",\"showlakes\":true,\"showland\":true,\"subunitcolor\":\"white\"},\"hoverlabel\":{\"align\":\"left\"},\"hovermode\":\"closest\",\"mapbox\":{\"style\":\"light\"},\"paper_bgcolor\":\"white\",\"plot_bgcolor\":\"#E5ECF6\",\"polar\":{\"angularaxis\":{\"gridcolor\":\"white\",\"linecolor\":\"white\",\"ticks\":\"\"},\"bgcolor\":\"#E5ECF6\",\"radialaxis\":{\"gridcolor\":\"white\",\"linecolor\":\"white\",\"ticks\":\"\"}},\"scene\":{\"xaxis\":{\"backgroundcolor\":\"#E5ECF6\",\"gridcolor\":\"white\",\"gridwidth\":2,\"linecolor\":\"white\",\"showbackground\":true,\"ticks\":\"\",\"zerolinecolor\":\"white\"},\"yaxis\":{\"backgroundcolor\":\"#E5ECF6\",\"gridcolor\":\"white\",\"gridwidth\":2,\"linecolor\":\"white\",\"showbackground\":true,\"ticks\":\"\",\"zerolinecolor\":\"white\"},\"zaxis\":{\"backgroundcolor\":\"#E5ECF6\",\"gridcolor\":\"white\",\"gridwidth\":2,\"linecolor\":\"white\",\"showbackground\":true,\"ticks\":\"\",\"zerolinecolor\":\"white\"}},\"shapedefaults\":{\"line\":{\"color\":\"#2a3f5f\"}},\"ternary\":{\"aaxis\":{\"gridcolor\":\"white\",\"linecolor\":\"white\",\"ticks\":\"\"},\"baxis\":{\"gridcolor\":\"white\",\"linecolor\":\"white\",\"ticks\":\"\"},\"bgcolor\":\"#E5ECF6\",\"caxis\":{\"gridcolor\":\"white\",\"linecolor\":\"white\",\"ticks\":\"\"}},\"title\":{\"x\":0.05},\"xaxis\":{\"automargin\":true,\"gridcolor\":\"white\",\"linecolor\":\"white\",\"ticks\":\"\",\"title\":{\"standoff\":15},\"zerolinecolor\":\"white\",\"zerolinewidth\":2},\"yaxis\":{\"automargin\":true,\"gridcolor\":\"white\",\"linecolor\":\"white\",\"ticks\":\"\",\"title\":{\"standoff\":15},\"zerolinecolor\":\"white\",\"zerolinewidth\":2}}},\"title\":{\"text\":\"Marten Hills Well Locations\"},\"xaxis\":{\"anchor\":\"y\",\"domain\":[0.0,1.0],\"title\":{\"text\":\"Surface Longitude\"}},\"yaxis\":{\"anchor\":\"x\",\"domain\":[0.0,1.0],\"scaleanchor\":\"x\",\"scaleratio\":1,\"title\":{\"text\":\"Surface Latitude\"}}},                        {\"responsive\": true}                    ).then(function(){\n",
       "                            \n",
       "var gd = document.getElementById('9e73b1f6-0799-4d22-abf7-6bb71734d8bf');\n",
       "var x = new MutationObserver(function (mutations, observer) {{\n",
       "        var display = window.getComputedStyle(gd).display;\n",
       "        if (!display || display === 'none') {{\n",
       "            console.log([gd, 'removed!']);\n",
       "            Plotly.purge(gd);\n",
       "            observer.disconnect();\n",
       "        }}\n",
       "}});\n",
       "\n",
       "// Listen for the removal of the full notebook cells\n",
       "var notebookContainer = gd.closest('#notebook-container');\n",
       "if (notebookContainer) {{\n",
       "    x.observe(notebookContainer, {childList: true});\n",
       "}}\n",
       "\n",
       "// Listen for the clearing of the current output cell\n",
       "var outputEl = gd.closest('.output');\n",
       "if (outputEl) {{\n",
       "    x.observe(outputEl, {childList: true});\n",
       "}}\n",
       "\n",
       "                        })                };                });            </script>        </div>"
      ]
     },
     "metadata": {},
     "output_type": "display_data"
    }
   ],
   "source": [
    "'''\n",
    "Plotly is a powerful interactive visualization library. Unfortunately Plotly maps dont\n",
    "\n",
    "'''\n",
    "\n",
    "import plotly.express as px\n",
    "\n",
    "fig = px.scatter(wells_df, \n",
    "                 x='Surface Longitude', \n",
    "                 y='Surface Latitude', \n",
    "                 hover_data=['UWI'],\n",
    "                 title='Marten Hills Well Locations')\n",
    "fig.update_yaxes(\n",
    "    scaleanchor = \"x\",\n",
    "    scaleratio = 1,\n",
    "  )\n",
    "fig.show()"
   ]
  },
  {
   "cell_type": "code",
   "execution_count": 1,
   "id": "71bd41e4",
   "metadata": {},
   "outputs": [
    {
     "ename": "ModuleNotFoundError",
     "evalue": "No module named 'bigbirnd'",
     "output_type": "error",
     "traceback": [
      "\u001b[1;31m---------------------------------------------------------------------------\u001b[0m",
      "\u001b[1;31mModuleNotFoundError\u001b[0m                       Traceback (most recent call last)",
      "\u001b[1;32m~\\AppData\\Local\\Temp/ipykernel_1948/300009229.py\u001b[0m in \u001b[0;36m<module>\u001b[1;34m\u001b[0m\n\u001b[1;32m----> 1\u001b[1;33m \u001b[1;32mimport\u001b[0m \u001b[0mbigbirnd\u001b[0m\u001b[1;33m\u001b[0m\u001b[1;33m\u001b[0m\u001b[0m\n\u001b[0m",
      "\u001b[1;31mModuleNotFoundError\u001b[0m: No module named 'bigbirnd'"
     ]
    }
   ],
   "source": [
    "import bigbirnd"
   ]
  }
 ],
 "metadata": {
  "kernelspec": {
   "display_name": "Python 3 (ipykernel)",
   "language": "python",
   "name": "python3"
  },
  "language_info": {
   "codemirror_mode": {
    "name": "ipython",
    "version": 3
   },
   "file_extension": ".py",
   "mimetype": "text/x-python",
   "name": "python",
   "nbconvert_exporter": "python",
   "pygments_lexer": "ipython3",
   "version": "3.8.8"
  }
 },
 "nbformat": 4,
 "nbformat_minor": 5
}
