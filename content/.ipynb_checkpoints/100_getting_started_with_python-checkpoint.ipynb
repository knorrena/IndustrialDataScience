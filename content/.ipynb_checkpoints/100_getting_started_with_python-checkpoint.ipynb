{
 "cells": [
  {
   "cell_type": "markdown",
   "id": "28b4b50f",
   "metadata": {},
   "source": [
    "Getting Started With Python"
   ]
  }
 ],
 "metadata": {
  "kernelspec": {
   "display_name": "Python 3 (ipykernel)",
   "language": "python",
   "name": "python3"
  },
  "language_info": {
   "codemirror_mode": {
    "name": "ipython",
    "version": 3
   },
   "file_extension": ".py",
   "mimetype": "text/x-python",
   "name": "python",
   "nbconvert_exporter": "python",
   "pygments_lexer": "ipython3",
   "version": "3.8.8"
  }
 },
 "nbformat": 4,
 "nbformat_minor": 5
}
