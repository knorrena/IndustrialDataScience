{
 "cells": [
  {
   "cell_type": "markdown",
   "metadata": {},
   "source": [
    "[Home](https://knorrena.github.io/IndustrialDataScience/)  \n",
    "[Teaching](https://knorrena.github.io/IndustrialDataScience/content/2-Teaching.html)\n",
    "\n",
    "# Python for Oil and Gas Session 2 Control Statements and Data Structures\n",
    "\n",
    "\n",
    "## TOC:\n",
    "- Control Statements\n",
    "- Iteration\n",
    "- Lists\n",
    "- Dictionaries\n",
    "- Tuples\n",
    "\n",
    "\n",
    "## Introduction\n",
    "\n",
    "\n",
    "This session we'll focus on developing core programming skills in Python. Control statements are ubiquitous across all programming languages. For example, previously we plotted a simple map of well locations. The map isnt very informative in that it just posts the surface locations. It would be helpful if we could filter the locations by well type and show only producing locations, or perhaps color the locations by formation. As we progress into more sophisticated data science and machine learnign topics we will also need to know how to perform repeated calculations or manipulations over a loop.\n",
    "\n",
    "\n"
   ]
  },
  {
   "cell_type": "markdown",
   "metadata": {},
   "source": [
    "# Control Statements in Python\n",
    "\n",
    "Control statements are how data are discriminated and filtered.\n",
    "\n",
    "- Boolean expressions\n",
    "- Logical operators (`is`, `is not`, `and`, and `or`)\n",
    "- `if`/`elif`/`else` statements\n",
    "- `for` and `while` loops"
   ]
  },
  {
   "cell_type": "markdown",
   "metadata": {},
   "source": [
    "## Boolean Expressions\n",
    "\n",
    "Recall that we previously discussed a boolean *variable*, which is a variable that is assigned either of the values `True` or `False`. We also discussed *statements*, which are lines of code that are read by the interpreter. A **boolean expression** is then, by extension, a statement that results in either of the truth values `True` or `False`.\n",
    "\n",
    "Here is an example."
   ]
  },
  {
   "cell_type": "code",
   "execution_count": 1,
   "metadata": {},
   "outputs": [
    {
     "data": {
      "text/plain": [
       "True"
      ]
     },
     "execution_count": 1,
     "metadata": {},
     "output_type": "execute_result"
    }
   ],
   "source": [
    "15 > 1"
   ]
  },
  {
   "cell_type": "markdown",
   "metadata": {},
   "source": [
    "In the preceding code snippet, I wrote the expression `15 > 1`. The mathematical comparison `>` is exactly as we learned it in grade school. We are saying that '15 is greater than 1'. Python knows that this is true, and so outputs the value `True`. Let's see another example."
   ]
  },
  {
   "cell_type": "code",
   "execution_count": 2,
   "metadata": {},
   "outputs": [
    {
     "data": {
      "text/plain": [
       "False"
      ]
     },
     "execution_count": 2,
     "metadata": {},
     "output_type": "execute_result"
    }
   ],
   "source": [
    "15 > 30"
   ]
  },
  {
   "cell_type": "markdown",
   "metadata": {},
   "source": [
    "15 is not greater than 30, so the interpreter output a `False` value.\n",
    "\n",
    "Let's try comparing two variables to see if they are equal. We must remember that the symbol `=` is used in variable assignment. If we try to compare two variables with `=`, the interpreter should get confused. Let's try it out."
   ]
  },
  {
   "cell_type": "code",
   "execution_count": 10,
   "metadata": {},
   "outputs": [
    {
     "ename": "SyntaxError",
     "evalue": "cannot assign to literal (Temp/ipykernel_16504/2359669884.py, line 1)",
     "output_type": "error",
     "traceback": [
      "\u001b[1;36m  File \u001b[1;32m\"C:\\Users\\karln\\AppData\\Local\\Temp/ipykernel_16504/2359669884.py\"\u001b[1;36m, line \u001b[1;32m1\u001b[0m\n\u001b[1;33m    5=5\u001b[0m\n\u001b[1;37m    ^\u001b[0m\n\u001b[1;31mSyntaxError\u001b[0m\u001b[1;31m:\u001b[0m cannot assign to literal\n"
     ]
    }
   ],
   "source": [
    "5=5"
   ]
  },
  {
   "cell_type": "markdown",
   "metadata": {},
   "source": [
    "Of course this won't work because the interpreter thinks that we are trying to assign the variable named '5' a value of 5. We can't use numbers as variable names. So what if we use the word 'five' instead?"
   ]
  },
  {
   "cell_type": "code",
   "execution_count": 9,
   "metadata": {},
   "outputs": [
    {
     "ename": "TypeError",
     "evalue": "'five' is an invalid keyword argument for print()",
     "output_type": "error",
     "traceback": [
      "\u001b[1;31m---------------------------------------------------------------------------\u001b[0m",
      "\u001b[1;31mTypeError\u001b[0m                                 Traceback (most recent call last)",
      "\u001b[1;32m~\\AppData\\Local\\Temp/ipykernel_16504/3368946323.py\u001b[0m in \u001b[0;36m<module>\u001b[1;34m\u001b[0m\n\u001b[0;32m      1\u001b[0m \u001b[0mfive\u001b[0m \u001b[1;33m=\u001b[0m \u001b[1;36m5\u001b[0m\u001b[1;33m\u001b[0m\u001b[1;33m\u001b[0m\u001b[0m\n\u001b[0;32m      2\u001b[0m \u001b[0mfive\u001b[0m \u001b[1;33m=\u001b[0m \u001b[0mfive\u001b[0m\u001b[1;33m\u001b[0m\u001b[1;33m\u001b[0m\u001b[0m\n\u001b[1;32m----> 3\u001b[1;33m \u001b[0mprint\u001b[0m\u001b[1;33m(\u001b[0m\u001b[0mfive\u001b[0m \u001b[1;33m=\u001b[0m \u001b[0mfive\u001b[0m\u001b[1;33m)\u001b[0m\u001b[1;33m\u001b[0m\u001b[1;33m\u001b[0m\u001b[0m\n\u001b[0m",
      "\u001b[1;31mTypeError\u001b[0m: 'five' is an invalid keyword argument for print()"
     ]
    }
   ],
   "source": [
    "five = 5\n",
    "five = five\n",
    "print(five = five)"
   ]
  },
  {
   "cell_type": "markdown",
   "metadata": {},
   "source": [
    "The interpreter got angry and output an error message. The problem here is that we are asking the interpreter to print out a variable assignment, not a boolean expression. \n",
    "\n",
    "We can compare the values of two variables using the `==` symbol for equality. For inequality, we use `!=`."
   ]
  },
  {
   "cell_type": "code",
   "execution_count": 11,
   "metadata": {},
   "outputs": [
    {
     "name": "stdout",
     "output_type": "stream",
     "text": [
      "True\n",
      "False\n"
     ]
    }
   ],
   "source": [
    "five = 5\n",
    "print(five == five)\n",
    "print(five == 6)"
   ]
  },
  {
   "cell_type": "markdown",
   "metadata": {},
   "source": [
    "The complete list of Python's relational operators for comparing variables are found in the next table. We'll call the variable or value that comes first in a comparison the 'first operand' and the variable that comes after the operator the 'second operand'. This table is adapted from *Murach's Python Programming* by Michael Urban and Joel Murach.\n",
    "\n",
    "|Operator|Name|Way it works|\n",
    "|---|---|---|\n",
    "|`>`|Greater than|Returns `True` if first operand is greater than the second operand|\n",
    "|`<`|Less than|Returns `True` if first operand is less than the second operand|\n",
    "|`>=`|Greater than or equal to|Returns `True` if first operand is greater than or equal to the second operand|\n",
    "|`<=`|Less than or equal to|Returns `True` if first operand is less than or equal to the second operand|\n",
    "|`==`|Equals|Returns `True` if both operands are equal|\n",
    "|`!=`|Not equal|Returns `True` if operands are not equal|\n",
    "\n",
    "**Note:** We discussed declaring variables with `float` type. When we do comparisons, we should not compare the equality of a  `float` with another `float`. This is because Python doesn't use exact values for variable of `float` type."
   ]
  },
  {
   "cell_type": "markdown",
   "metadata": {},
   "source": [
    "## Logical Operators\n",
    "\n",
    "Python also has a convenient syntax for chaining boolean statements together. You can use the `and` and `or` operators as illustrated in the next examples."
   ]
  },
  {
   "cell_type": "code",
   "execution_count": 12,
   "metadata": {},
   "outputs": [
    {
     "data": {
      "text/plain": [
       "True"
      ]
     },
     "execution_count": 12,
     "metadata": {},
     "output_type": "execute_result"
    }
   ],
   "source": [
    "3 >= 2 and 5 < 7"
   ]
  },
  {
   "cell_type": "code",
   "execution_count": 13,
   "metadata": {},
   "outputs": [
    {
     "data": {
      "text/plain": [
       "False"
      ]
     },
     "execution_count": 13,
     "metadata": {},
     "output_type": "execute_result"
    }
   ],
   "source": [
    "3 >= 2 and 5 > 7"
   ]
  },
  {
   "cell_type": "markdown",
   "metadata": {},
   "source": [
    "While using the `and` operator, both statements on either side of `and` must be `True`. In the second example above, I wrote `3 >= 2 and 5 > 7`. The first boolean statement, `3 >=2`, is certainly `True`. However, the second statement `5 > 7` is `False`, so the overall statement is `False`.\n",
    "\n",
    "Let's see how the same statements would work if we used the `or` operator instead of `and`."
   ]
  },
  {
   "cell_type": "code",
   "execution_count": 14,
   "metadata": {},
   "outputs": [
    {
     "data": {
      "text/plain": [
       "True"
      ]
     },
     "execution_count": 14,
     "metadata": {},
     "output_type": "execute_result"
    }
   ],
   "source": [
    "3 >= 2 or 5 < 7"
   ]
  },
  {
   "cell_type": "code",
   "execution_count": 15,
   "metadata": {},
   "outputs": [
    {
     "data": {
      "text/plain": [
       "True"
      ]
     },
     "execution_count": 15,
     "metadata": {},
     "output_type": "execute_result"
    }
   ],
   "source": [
    "3 >= 2 or 5 > 7"
   ]
  },
  {
   "cell_type": "markdown",
   "metadata": {},
   "source": [
    "From this example, we see that only *one* of the statements on either side of the `or` operator must be `True` in order for the whole statement to be `True`. If neither the first statement nor the second statement are `True`, the overall statement will be `False`, as seen in the next example."
   ]
  },
  {
   "cell_type": "code",
   "execution_count": 16,
   "metadata": {},
   "outputs": [
    {
     "data": {
      "text/plain": [
       "False"
      ]
     },
     "execution_count": 16,
     "metadata": {},
     "output_type": "execute_result"
    }
   ],
   "source": [
    "3 <= 2 or 5 > 7"
   ]
  },
  {
   "cell_type": "markdown",
   "metadata": {},
   "source": [
    "Python has another way of comparing equality and inequality which will be very important when we talk about conditional control. Instead of writing `==`, there are some situations in which we should be writing `is`. Similarly, there are situations where writing `is not` is preferable to writing `!=`.\n",
    "\n",
    "For now, we'll look at examples of how the `is` and `is not` operators work."
   ]
  },
  {
   "cell_type": "code",
   "execution_count": 19,
   "metadata": {},
   "outputs": [
    {
     "name": "stdout",
     "output_type": "stream",
     "text": [
      "True\n",
      "False\n"
     ]
    },
    {
     "name": "stderr",
     "output_type": "stream",
     "text": [
      "<>:4: SyntaxWarning: \"is\" with a literal. Did you mean \"==\"?\n",
      "<>:7: SyntaxWarning: \"is\" with a literal. Did you mean \"==\"?\n",
      "<>:4: SyntaxWarning: \"is\" with a literal. Did you mean \"==\"?\n",
      "<>:7: SyntaxWarning: \"is\" with a literal. Did you mean \"==\"?\n",
      "C:\\Users\\karln\\AppData\\Local\\Temp/ipykernel_16504/4233309066.py:4: SyntaxWarning: \"is\" with a literal. Did you mean \"==\"?\n",
      "  print(six is 6)\n",
      "C:\\Users\\karln\\AppData\\Local\\Temp/ipykernel_16504/4233309066.py:7: SyntaxWarning: \"is\" with a literal. Did you mean \"==\"?\n",
      "  print(six is 5)\n"
     ]
    }
   ],
   "source": [
    "six = 6\n",
    "\n",
    "# This should print out 'True'.\n",
    "print(six is 6)\n",
    "\n",
    "# This should print out 'False'.\n",
    "print(six is 5)"
   ]
  },
  {
   "cell_type": "code",
   "execution_count": 20,
   "metadata": {},
   "outputs": [
    {
     "name": "stdout",
     "output_type": "stream",
     "text": [
      "False\n",
      "True\n"
     ]
    },
    {
     "name": "stderr",
     "output_type": "stream",
     "text": [
      "<>:2: SyntaxWarning: \"is not\" with a literal. Did you mean \"!=\"?\n",
      "<>:5: SyntaxWarning: \"is not\" with a literal. Did you mean \"!=\"?\n",
      "<>:5: SyntaxWarning: \"is not\" with a literal. Did you mean \"!=\"?\n",
      "<>:2: SyntaxWarning: \"is not\" with a literal. Did you mean \"!=\"?\n",
      "<>:5: SyntaxWarning: \"is not\" with a literal. Did you mean \"!=\"?\n",
      "<>:5: SyntaxWarning: \"is not\" with a literal. Did you mean \"!=\"?\n",
      "C:\\Users\\karln\\AppData\\Local\\Temp/ipykernel_16504/3887942329.py:2: SyntaxWarning: \"is not\" with a literal. Did you mean \"!=\"?\n",
      "  print(six is not 6)\n",
      "C:\\Users\\karln\\AppData\\Local\\Temp/ipykernel_16504/3887942329.py:5: SyntaxWarning: \"is not\" with a literal. Did you mean \"!=\"?\n",
      "  print(six is not 5 and six is not 7)\n",
      "C:\\Users\\karln\\AppData\\Local\\Temp/ipykernel_16504/3887942329.py:5: SyntaxWarning: \"is not\" with a literal. Did you mean \"!=\"?\n",
      "  print(six is not 5 and six is not 7)\n"
     ]
    }
   ],
   "source": [
    "# This should print out 'False'.\n",
    "print(six is not 6)\n",
    "\n",
    "# This should print out 'True'.\n",
    "print(six is not 5 and six is not 7)"
   ]
  },
  {
   "cell_type": "markdown",
   "metadata": {},
   "source": [
    "We can also use parentheses to chain together boolean statements in more creative and useful ways. Similarly, we can chain together several compound statements to form even larger compound statements. Let's look at some examples."
   ]
  },
  {
   "cell_type": "code",
   "execution_count": 21,
   "metadata": {},
   "outputs": [
    {
     "name": "stdout",
     "output_type": "stream",
     "text": [
      "True\n",
      "True\n"
     ]
    }
   ],
   "source": [
    "age = 36\n",
    "handedness = 'right'\n",
    "city = 'Calgary'\n",
    "\n",
    "# Chain of booleans using 'and' with parentheses.\n",
    "print((age < 45 and handedness == 'right') and (age < 36 or handedness != 'left'))\n",
    "\n",
    "# Using parentheses to create compound statement.\n",
    "print((age < 34 or city == 'Calgary') and handedness == 'right')"
   ]
  },
  {
   "cell_type": "markdown",
   "metadata": {},
   "source": [
    "## Comparing Strings\n",
    "\n",
    "Variables of the type `str` are different than the numerical variables of type `int` and `float`. In this section, we'll make sense of statements such as `'hello' < 'Hello'`, with the intention of avoiding semantic errors in the future.\n",
    "\n",
    "The interpreter reads a string from left to right and the characters are compared one at a time. In Python, the hierarchy (also called the 'sort sequence') of characters is given by:\n",
    "\n",
    "1. Lowercase letters, alphabetically ordered\n",
    "2. Uppercase letters, alphabetically ordered\n",
    "3. Special characters\n",
    "4. Digits 0-9\n",
    "\n",
    "Therefore, lower case characters are considered as having the 'top' value. Next in value are the upper case characters, followed by digits. Here are some examples.\n",
    "\n",
    "**Note:** As stated above, this is most useful for avoiding semantic errors. In practice, we usually only compare string equality."
   ]
  },
  {
   "cell_type": "code",
   "execution_count": 22,
   "metadata": {},
   "outputs": [
    {
     "data": {
      "text/plain": [
       "False"
      ]
     },
     "execution_count": 22,
     "metadata": {},
     "output_type": "execute_result"
    }
   ],
   "source": [
    "'hello' < 'hEllo'"
   ]
  },
  {
   "cell_type": "code",
   "execution_count": 23,
   "metadata": {},
   "outputs": [
    {
     "data": {
      "text/plain": [
       "True"
      ]
     },
     "execution_count": 23,
     "metadata": {},
     "output_type": "execute_result"
    }
   ],
   "source": [
    "'1hello' < '2hello'"
   ]
  },
  {
   "cell_type": "code",
   "execution_count": 24,
   "metadata": {},
   "outputs": [
    {
     "data": {
      "text/plain": [
       "True"
      ]
     },
     "execution_count": 24,
     "metadata": {},
     "output_type": "execute_result"
    }
   ],
   "source": [
    "'apple' > 'Apple'"
   ]
  },
  {
   "cell_type": "code",
   "execution_count": 25,
   "metadata": {},
   "outputs": [
    {
     "data": {
      "text/plain": [
       "False"
      ]
     },
     "execution_count": 25,
     "metadata": {},
     "output_type": "execute_result"
    }
   ],
   "source": [
    "'0' > 'A' or 'A' > 'a'"
   ]
  },
  {
   "cell_type": "code",
   "execution_count": 26,
   "metadata": {},
   "outputs": [
    {
     "data": {
      "text/plain": [
       "True"
      ]
     },
     "execution_count": 26,
     "metadata": {},
     "output_type": "execute_result"
    }
   ],
   "source": [
    "'#' < '@'"
   ]
  },
  {
   "cell_type": "code",
   "execution_count": 1,
   "metadata": {},
   "outputs": [
    {
     "name": "stderr",
     "output_type": "stream",
     "text": [
      "<>:1: SyntaxWarning: \"is\" with a literal. Did you mean \"==\"?\n",
      "<>:1: SyntaxWarning: \"is\" with a literal. Did you mean \"==\"?\n",
      "C:\\Users\\karln\\AppData\\Local\\Temp/ipykernel_11628/4220432193.py:1: SyntaxWarning: \"is\" with a literal. Did you mean \"==\"?\n",
      "  'hello' is 'hello'\n"
     ]
    },
    {
     "data": {
      "text/plain": [
       "True"
      ]
     },
     "execution_count": 1,
     "metadata": {},
     "output_type": "execute_result"
    }
   ],
   "source": [
    "'hello' is 'hello'"
   ]
  },
  {
   "cell_type": "markdown",
   "metadata": {},
   "source": [
    "We can use one of Python's most powerful features to manipulate strings. This is something we hinted at last week, and we'll continue to hint at until we finally start to define our own objects.\n",
    "\n",
    "In Python, *everything* is an object. You may have encountered object-oriented programming in past experiences with other programming languages. The short introduction to an object is this: objects have **attributes** and **methods**. An **attribute** is some defined property of the object, and a **method** is a function specific to the object.\n",
    "\n",
    "Let's remove some of the mystery around objects. Our first example of an object is the `str` data type. We can access the 'uppercase-ness' of a string by typing `string_name.isupper()`."
   ]
  },
  {
   "cell_type": "code",
   "execution_count": 2,
   "metadata": {},
   "outputs": [
    {
     "data": {
      "text/plain": [
       "False"
      ]
     },
     "execution_count": 2,
     "metadata": {},
     "output_type": "execute_result"
    }
   ],
   "source": [
    "'string'.isupper()"
   ]
  },
  {
   "cell_type": "markdown",
   "metadata": {},
   "source": [
    "Not surprisingly, the interpreter says that `'string'` is not uppercase. We called the `isupper()` method by using dot notation `.`.\n",
    "\n",
    "Let's call two other useful methods, `lower()` and `upper()`."
   ]
  },
  {
   "cell_type": "code",
   "execution_count": 31,
   "metadata": {},
   "outputs": [
    {
     "name": "stdout",
     "output_type": "stream",
     "text": [
      "STRING\n",
      "string\n"
     ]
    }
   ],
   "source": [
    "print('string'.upper())\n",
    "print('STRING'.lower())"
   ]
  },
  {
   "cell_type": "markdown",
   "metadata": {},
   "source": [
    "When comparing strings, it is often most helpful to change the strings to either uppercase or lowercase due to the confusing values given to characters."
   ]
  },
  {
   "cell_type": "markdown",
   "metadata": {},
   "source": [
    "## Conditional Control\n",
    "\n",
    "Here is where things get really interesting. What we did above with boolean statements and compound statements is necessary to understand the language of Python. However, they don't tell us much about *programming*. That is to say, they don't help us put statements and expressions together to accomplish various tasks. This is where we introduce conditional control, which is a way for a program to use boolean statements to decide what to do next.\n",
    "\n",
    "These control statements are present in every programming language. Here is an example of how Python handles them."
   ]
  },
  {
   "cell_type": "code",
   "execution_count": 32,
   "metadata": {},
   "outputs": [
    {
     "name": "stdout",
     "output_type": "stream",
     "text": [
      "This is my message.\n"
     ]
    }
   ],
   "source": [
    "msg = 'This is my message.'\n",
    "decision_value = 5\n",
    "\n",
    "# Here is the control statement.\n",
    "if decision_value > 4:\n",
    "    print(msg)"
   ]
  },
  {
   "cell_type": "code",
   "execution_count": 33,
   "metadata": {},
   "outputs": [],
   "source": [
    "msg = 'This is my message.'\n",
    "decision_value = 3\n",
    "\n",
    "# Here is the control statement.\n",
    "if decision_value > 4:\n",
    "    print(msg)"
   ]
  },
  {
   "cell_type": "markdown",
   "metadata": {},
   "source": [
    "In a conditional `if` statement, the line containing the keyword `if` always must end with a colon `:`. Note that it makes no difference if we place the entire conditional statement on the same line."
   ]
  },
  {
   "cell_type": "code",
   "execution_count": 34,
   "metadata": {},
   "outputs": [],
   "source": [
    "if decision_value > 4: print(msg)"
   ]
  },
  {
   "cell_type": "markdown",
   "metadata": {},
   "source": [
    "This is, however, bad practice. Long blocks of code with conditional statements written in this way are difficult to read and maintain. For example, if you encountered the following code, you might not immediately see what the `if` statement is really doing."
   ]
  },
  {
   "cell_type": "code",
   "execution_count": 35,
   "metadata": {},
   "outputs": [
    {
     "name": "stdout",
     "output_type": "stream",
     "text": [
      "Fatal error: formatting hard drive now...\n"
     ]
    }
   ],
   "source": [
    "msg = 'Fatal error: formatting hard drive now...'\n",
    "msg1 = 'Program executed successfully.'\n",
    "decision = 3\n",
    "\n",
    "if decision > 4: print(msg1)\n",
    "print(msg)"
   ]
  },
  {
   "cell_type": "markdown",
   "metadata": {},
   "source": [
    "Earlier we discussed comparing numerical values with the relational operators `>`, `<`, `>=`, `<=`, `==`, and `!=`. These operators are combined with a conditional `if` statement to direct Python programs, as in the following example."
   ]
  },
  {
   "cell_type": "code",
   "execution_count": 36,
   "metadata": {},
   "outputs": [
    {
     "name": "stdout",
     "output_type": "stream",
     "text": [
      "Not enough votes to win.\n"
     ]
    }
   ],
   "source": [
    "votes_to_win = 50\n",
    "votes = 45\n",
    "\n",
    "if 0 < votes and votes < votes_to_win:\n",
    "    print('Not enough votes to win.')"
   ]
  },
  {
   "cell_type": "markdown",
   "metadata": {},
   "source": [
    "The previous example is purely illustrational. Python allows relational operators to be chained arbitrarily. This greatly simplifies the `if` statement in the previous example."
   ]
  },
  {
   "cell_type": "code",
   "execution_count": 37,
   "metadata": {},
   "outputs": [
    {
     "name": "stdout",
     "output_type": "stream",
     "text": [
      "Not enough votes to win.\n"
     ]
    }
   ],
   "source": [
    "votes_to_win = 50\n",
    "votes = 45\n",
    "\n",
    "if 0 < votes < votes_to_win:\n",
    "    print('Not enough votes to win.')"
   ]
  },
  {
   "cell_type": "markdown",
   "metadata": {},
   "source": [
    "It is also best practice to avoid comparing a variable directly to a boolean value. By default, most values in Python are considered `True`. \n",
    "\n",
    "Values considered `False` by default include `False`, `None`, `0`, and `0.`, among others that we will discuss next week. \n",
    "\n",
    "Not comparing variables directly to boolean values avoids problems brought on by Python's dynamic typing. Recall that we may declare an `int` variable and then change it arbitrarily to the `str` type. This can result in confusion, as shown in the next example."
   ]
  },
  {
   "cell_type": "code",
   "execution_count": 38,
   "metadata": {},
   "outputs": [
    {
     "name": "stdout",
     "output_type": "stream",
     "text": [
      "This is confusing.\n"
     ]
    }
   ],
   "source": [
    "var = 0\n",
    "\n",
    "if var == False:\n",
    "    print('This is confusing.')\n",
    "    \n",
    "var = '0'\n",
    "\n",
    "if var == False:\n",
    "    print('This is also confusing.')"
   ]
  },
  {
   "cell_type": "markdown",
   "metadata": {},
   "source": [
    "The confusion arises because it may be that we wanted `var` to be `False`, but changing it to a `str` made its boolean value `True`. \n",
    "\n",
    "Therefore, to check a boolean value, instead of writing `if var == False:`, we write `if not var:`.\n",
    "\n",
    "Similarly, instead of writing `if var == True:`, we write `if var:`.\n",
    "\n",
    "Also, when using the `==` operator, Python simply checks if the two variables have the same *value*. Using `is` instead of `==` results in Python checking if the two variables are *the same object*. "
   ]
  },
  {
   "cell_type": "code",
   "execution_count": 39,
   "metadata": {},
   "outputs": [
    {
     "name": "stdout",
     "output_type": "stream",
     "text": [
      "This is less confusing.\n",
      "Ahh, much better.\n",
      "And less characters in the code makes it easier to read.\n"
     ]
    },
    {
     "name": "stderr",
     "output_type": "stream",
     "text": [
      "<>:11: SyntaxWarning: \"is\" with a literal. Did you mean \"==\"?\n",
      "<>:11: SyntaxWarning: \"is\" with a literal. Did you mean \"==\"?\n",
      "C:\\Users\\karln\\AppData\\Local\\Temp/ipykernel_16504/4043964686.py:11: SyntaxWarning: \"is\" with a literal. Did you mean \"==\"?\n",
      "  if var is 1:\n"
     ]
    }
   ],
   "source": [
    "var = 0\n",
    "\n",
    "if not var:\n",
    "    print('This is less confusing.')\n",
    "    \n",
    "var = 1\n",
    "\n",
    "if var:\n",
    "    print('Ahh, much better.')\n",
    "\n",
    "if var is 1:\n",
    "    print('And less characters in the code makes it easier to read.')"
   ]
  },
  {
   "cell_type": "markdown",
   "metadata": {},
   "source": [
    "### *Further examples*"
   ]
  },
  {
   "cell_type": "code",
   "execution_count": 40,
   "metadata": {},
   "outputs": [
    {
     "data": {
      "text/plain": [
       "True"
      ]
     },
     "execution_count": 40,
     "metadata": {},
     "output_type": "execute_result"
    }
   ],
   "source": [
    "str(0) == '0'"
   ]
  },
  {
   "cell_type": "code",
   "execution_count": 41,
   "metadata": {},
   "outputs": [
    {
     "name": "stderr",
     "output_type": "stream",
     "text": [
      "<>:1: SyntaxWarning: \"is\" with a literal. Did you mean \"==\"?\n",
      "<>:1: SyntaxWarning: \"is\" with a literal. Did you mean \"==\"?\n",
      "C:\\Users\\karln\\AppData\\Local\\Temp/ipykernel_16504/1932126565.py:1: SyntaxWarning: \"is\" with a literal. Did you mean \"==\"?\n",
      "  str(0) is '0'\n"
     ]
    },
    {
     "data": {
      "text/plain": [
       "False"
      ]
     },
     "execution_count": 41,
     "metadata": {},
     "output_type": "execute_result"
    }
   ],
   "source": [
    "str(0) is '0'"
   ]
  },
  {
   "cell_type": "code",
   "execution_count": 42,
   "metadata": {},
   "outputs": [
    {
     "name": "stderr",
     "output_type": "stream",
     "text": [
      "<>:1: SyntaxWarning: \"is\" with a literal. Did you mean \"==\"?\n",
      "<>:1: SyntaxWarning: \"is\" with a literal. Did you mean \"==\"?\n",
      "C:\\Users\\karln\\AppData\\Local\\Temp/ipykernel_16504/4179069019.py:1: SyntaxWarning: \"is\" with a literal. Did you mean \"==\"?\n",
      "  '0' is '0'\n"
     ]
    },
    {
     "data": {
      "text/plain": [
       "True"
      ]
     },
     "execution_count": 42,
     "metadata": {},
     "output_type": "execute_result"
    }
   ],
   "source": [
    "'0' is '0'"
   ]
  },
  {
   "cell_type": "code",
   "execution_count": 43,
   "metadata": {
    "scrolled": true
   },
   "outputs": [
    {
     "name": "stdout",
     "output_type": "stream",
     "text": [
      "0x269bdc5d230\n",
      "0x269b96d41f0\n"
     ]
    }
   ],
   "source": [
    "print(hex(id(str(0))))\n",
    "print(hex(id('0')))"
   ]
  },
  {
   "cell_type": "code",
   "execution_count": 44,
   "metadata": {},
   "outputs": [
    {
     "name": "stderr",
     "output_type": "stream",
     "text": [
      "<>:1: SyntaxWarning: \"is\" with a literal. Did you mean \"==\"?\n",
      "<>:1: SyntaxWarning: \"is\" with a literal. Did you mean \"==\"?\n",
      "C:\\Users\\karln\\AppData\\Local\\Temp/ipykernel_16504/3844484394.py:1: SyntaxWarning: \"is\" with a literal. Did you mean \"==\"?\n",
      "  str('0') is '0'\n"
     ]
    },
    {
     "data": {
      "text/plain": [
       "True"
      ]
     },
     "execution_count": 44,
     "metadata": {},
     "output_type": "execute_result"
    }
   ],
   "source": [
    "str('0') is '0'"
   ]
  },
  {
   "cell_type": "code",
   "execution_count": 45,
   "metadata": {},
   "outputs": [
    {
     "name": "stdout",
     "output_type": "stream",
     "text": [
      "0x269b96d41f0\n",
      "0x269b96d41f0\n"
     ]
    }
   ],
   "source": [
    "print(hex(id(str('0'))))\n",
    "print(hex(id('0')))"
   ]
  },
  {
   "cell_type": "markdown",
   "metadata": {},
   "source": [
    "For writing alternate decisions in Python, we use the `elif` (else if) and `else` keywords. Here is an example."
   ]
  },
  {
   "cell_type": "code",
   "execution_count": 4,
   "metadata": {
    "scrolled": true
   },
   "outputs": [
    {
     "name": "stdout",
     "output_type": "stream",
     "text": [
      "What is the acronym for steam assisted gravity drainage?SAGD\n",
      "The answer is SAGD\n"
     ]
    }
   ],
   "source": [
    "user_var = input('What is the acronym for steam assisted gravity drainage?').lower()\n",
    "\n",
    "if user_var == 'SAGD':\n",
    "    print('Excellent!')\n",
    "elif user_var == 'sad':\n",
    "    print('Nope, thats not it')\n",
    "else:\n",
    "    print('The answer is SAGD')"
   ]
  },
  {
   "cell_type": "markdown",
   "metadata": {},
   "source": [
    "## Computing through Repetition: Iteration\n",
    "\n",
    "It is almost always necessary to repeat tasks when writing code to do any programming task. For example, a music player shouldn't just play a single song and then shut down. We accomplish the repetition of programming tasks through *iteration*. The most basic methods for iteration are the `while` and `for` loops.\n",
    "\n",
    "### `while` Loops\n",
    "\n",
    "A `while` loop is commonly used when it is unknown when a given task should terminate. For example, in numerical analysis, a branch of applied mathematics, a given procedure will terminate when a specific error estimate is below a given threshold. \n",
    "\n",
    "Here's a simple example of a `while` loop using [Stochcheck's approximation of $\\pi$](http://mathworld.wolfram.com/PiApproximations.html). This loop continues iterating until the difference between the variable `pi_estimate` and Python's computation of $\\pi$ is within $10^{-3}$. In other words, until $|\\text{pi_estimate} - \\pi| \\leq 10^{-3}$."
   ]
  },
  {
   "cell_type": "code",
   "execution_count": 5,
   "metadata": {},
   "outputs": [
    {
     "name": "stdout",
     "output_type": "stream",
     "text": [
      "Stoscheck's approximation to pi is 3.1411042944785277.\n",
      "The value of pi given by Python is 3.141592653589793.\n",
      "The procedure repeated 9 times.\n"
     ]
    }
   ],
   "source": [
    "import math\n",
    "\n",
    "# Stoscheck's approximation of pi.\n",
    "power = 0\n",
    "DENOMINATOR = 163\n",
    "TOLERANCE = 10e-3\n",
    "\n",
    "pi_estimate = 2**power/DENOMINATOR\n",
    "\n",
    "while abs(pi_estimate - math.pi) > TOLERANCE:\n",
    "    power = power + 1\n",
    "    # You can also write power += 1\n",
    "    pi_estimate = 2**power/DENOMINATOR\n",
    "\n",
    "print(\"Stoscheck's approximation to pi is {}.\".format(pi_estimate))\n",
    "print(\"The value of pi given by Python is {}.\".format(math.pi))\n",
    "print(\"The procedure repeated {} times.\".format(power))"
   ]
  },
  {
   "cell_type": "markdown",
   "metadata": {},
   "source": [
    "### A Caution about `while` Loops\n",
    "\n",
    "Python, and computers in general, lack the decision-making power to do anything but what we tell them. Therefore, when you write a `while` loop, you need to ensure that there is some condition included so that the loop will eventually stop. If you don't do this, you will create an **infinite loop**. Valuable memory resources will be taken up by this infinite (non-terminating) loop and your program won't continue.\n",
    "\n",
    "To avoid this in `while` loops, you can declare a 'counter' variable that keeps track of the current iteration of the loop. You can include an `if` clause containing a `break` statement so that the `while` loop terminates when a specified iteration is reached."
   ]
  },
  {
   "cell_type": "code",
   "execution_count": null,
   "metadata": {},
   "outputs": [],
   "source": [
    "a = 5\n",
    "counter = 0\n",
    "\n",
    "while a > 4:\n",
    "    print('This is an infinite loop. I hope it ends soon...')\n",
    "    counter += 1\n",
    "    if counter > 5:\n",
    "        break"
   ]
  },
  {
   "cell_type": "code",
   "execution_count": null,
   "metadata": {
    "scrolled": true
   },
   "outputs": [],
   "source": [
    "a = 5\n",
    "counter = 0\n",
    "\n",
    "while a > 4:\n",
    "    print('This is an infinite loop. I hope it ends soon...')\n",
    "    counter += 1"
   ]
  },
  {
   "cell_type": "markdown",
   "metadata": {},
   "source": [
    "## `for` Loops\n",
    "\n",
    "This style of loop is more commonly used than a `while` loop in most applications. The upper limit for iteration is set before the `for` loop begins. Use a `for` loop when you know how many times a given procedure must be completed.\n",
    "\n",
    "### The `range()` Variable\n",
    "The range variable is like an alias to a loop. \n"
   ]
  },
  {
   "cell_type": "code",
   "execution_count": 8,
   "metadata": {
    "scrolled": true
   },
   "outputs": [
    {
     "name": "stdout",
     "output_type": "stream",
     "text": [
      "0 1 2 3 4 5 6 7 8 9\n"
     ]
    }
   ],
   "source": [
    "print(*range(0,10))"
   ]
  },
  {
   "cell_type": "markdown",
   "metadata": {},
   "source": [
    "The purpose of the `for` loop in the previous cell is to compute some procedure 10 times. The same `for` loop is written in Python using the `range(<int>)` function. The programmer specifies the upper limit for iterations (or terminating index) as the argument to the `range()` function. Let's see the Python `for` loop."
   ]
  },
  {
   "cell_type": "code",
   "execution_count": 10,
   "metadata": {
    "scrolled": true
   },
   "outputs": [
    {
     "name": "stdout",
     "output_type": "stream",
     "text": [
      "0\n",
      "1\n",
      "2\n",
      "3\n",
      "4\n",
      "5\n",
      "6\n",
      "7\n",
      "8\n",
      "9\n"
     ]
    }
   ],
   "source": [
    "for index in range(10):\n",
    "    # compute some task here\n",
    "    print(index)"
   ]
  },
  {
   "cell_type": "markdown",
   "metadata": {},
   "source": [
    "Just to make it more clear what's going on, let's print the iteration index at each iteration."
   ]
  },
  {
   "cell_type": "code",
   "execution_count": 12,
   "metadata": {
    "scrolled": false
   },
   "outputs": [
    {
     "name": "stdout",
     "output_type": "stream",
     "text": [
      "0\n",
      "1\n",
      "2\n",
      "3\n",
      "4\n",
      "5\n",
      "6\n",
      "7\n",
      "8\n",
      "9\n"
     ]
    }
   ],
   "source": [
    "for index in range(10):\n",
    "    print(index)"
   ]
  },
  {
   "cell_type": "markdown",
   "metadata": {},
   "source": [
    "You can also use a custom-defined `range()`."
   ]
  },
  {
   "cell_type": "code",
   "execution_count": 11,
   "metadata": {
    "scrolled": true
   },
   "outputs": [
    {
     "name": "stdout",
     "output_type": "stream",
     "text": [
      "2\n",
      "3\n",
      "4\n",
      "5\n",
      "6\n",
      "7\n",
      "8\n",
      "9\n",
      "10\n",
      "11\n"
     ]
    }
   ],
   "source": [
    "for i in range(2,12):\n",
    "    print(i)"
   ]
  },
  {
   "cell_type": "markdown",
   "metadata": {},
   "source": [
    "The general format for the `range()` function is `range(start,end,increment)`. The default values are `start = 0`, `end = <user-defined integer>`, and `increment = 1`. Any non-integer upper range limit causes an error."
   ]
  },
  {
   "cell_type": "code",
   "execution_count": null,
   "metadata": {},
   "outputs": [],
   "source": [
    "for i in range(10.1):\n",
    "    print(i)"
   ]
  },
  {
   "cell_type": "markdown",
   "metadata": {},
   "source": [
    "You'll notice that the upper limit of the `range()` is never reached. This is because Python is a **zero-indexed** language. This means that the `range()` variable starts at 0 by default. **Zero-indexing** will take on more meaning next week when we talk about lists and dictionaries. For now, it means that any iteration index will start at 0 by default. So, instead of a loop starting at the 'first' iteration, the loop starts at the 'zero-th' iteration.\n",
    "\n",
    "Therefore, when we call `range(10)`, we're saying that we want 10 iterations **starting at 0**. This naturally gives the iteration indices 0, 1, 2, 3, 4, 5, 6, 7, 8, and 9.\n",
    "\n",
    "Perhaps a more useful example of using the `for` loop with a conditional expression is given in the next cell. This short program uses the `random` module that comes packaged with Python. The program begins by generating a random integer between 1 and 10. Iterating through the `range()`, the program stops when the iteration index is the same number as the randomly generated integer."
   ]
  },
  {
   "cell_type": "code",
   "execution_count": 13,
   "metadata": {},
   "outputs": [
    {
     "name": "stdout",
     "output_type": "stream",
     "text": [
      "0\n",
      "1\n",
      "2\n",
      "3\n",
      "4\n",
      "5\n",
      "6\n",
      "7\n",
      "8\n",
      "9\n",
      "10\n",
      "I found the random integer! It was 10.\n"
     ]
    }
   ],
   "source": [
    "import random\n",
    "\n",
    "# Generate the random integer.\n",
    "random_int = random.randint(1,10)\n",
    "\n",
    "# Loop until we find the random integer.\n",
    "for i in range(11):\n",
    "    print(i)\n",
    "    if i == random_int:\n",
    "        print('I found the random integer! It was {}.'.format(i))\n",
    "        break"
   ]
  },
  {
   "cell_type": "markdown",
   "metadata": {},
   "source": [
    "This short program illustrates a few new concepts. First, we imported the `random` module, which will be very useful for your first assignment.\n",
    "\n",
    "Second, we used the `break` statement. This statement exits the `for` loop when it is called. In our example, the `break` statement is called when the iteration index matches the value of the random integer.\n",
    "\n",
    "Similar to the `break` statement is the `continue` statement. However, instead of exiting the `for` loop, the `continue` statement 'cancels' the current iteration and moves on, or 'continues' to the next iteration. An example of this is in the next cell."
   ]
  },
  {
   "cell_type": "code",
   "execution_count": 14,
   "metadata": {
    "scrolled": true
   },
   "outputs": [
    {
     "name": "stdout",
     "output_type": "stream",
     "text": [
      "0\n",
      "1\n",
      "2\n",
      "3\n",
      "4\n",
      "6\n",
      "7\n",
      "8\n",
      "9\n"
     ]
    }
   ],
   "source": [
    "for i in range(10):\n",
    "    if i == 5:\n",
    "        continue\n",
    "    else:\n",
    "        print(i)"
   ]
  },
  {
   "cell_type": "markdown",
   "metadata": {},
   "source": [
    "You can see in the output how the 5th iteration was skipped."
   ]
  },
  {
   "cell_type": "markdown",
   "metadata": {},
   "source": [
    "### String Methods\n",
    "\n",
    "- The `str` type is one example of an object in Python.\n",
    "- String methods can be accessed using dot notation. Some useful methods for the `str` object are:\n",
    "\n",
    "|Method|Use|Example|\n",
    "|---|---|---|\n",
    "|`isupper()`|Returns `True` if the string is uppercase.|`'string'.isupper()` will return `False`|\n",
    "|`islower()`|Return `True` if the string is lowercase.|`'string.islower()` will return `True`|\n",
    "|`upper()`|Converts a string to uppercase.|`'string'.upper()` becomes `'STRING'`|\n",
    "|`lower()`|Converts a string to lowercase.|`'HELLO'.lower()` becomes `'hello'`|\n",
    "|`format()`|Replaces `{}` within the string to the argument of `format()`|`'Hello {}'.format('world!')` gives `'Hello world!'`|"
   ]
  },
  {
   "cell_type": "markdown",
   "metadata": {},
   "source": [
    "## Lists\n",
    "Lists are declared using square brackets: []\n",
    "Lists can have contain strings, integers, floats, and logicals all in one list. \n"
   ]
  },
  {
   "cell_type": "code",
   "execution_count": null,
   "metadata": {},
   "outputs": [],
   "source": [
    "this_list = ['lists', 22, 3.14, True]\n",
    "print(this_list)"
   ]
  },
  {
   "cell_type": "markdown",
   "metadata": {},
   "source": [
    "Adding entries to a list is quite easy. See below:"
   ]
  },
  {
   "cell_type": "code",
   "execution_count": null,
   "metadata": {},
   "outputs": [],
   "source": [
    "this_list.append('gamma')\n",
    "print(this_list)\n",
    "\n",
    "this_list.append(['porosity','permeability','water_saturation'])\n",
    "print(this_list)"
   ]
  },
  {
   "cell_type": "markdown",
   "metadata": {},
   "source": [
    "Lists of lists are essential concepts and are used frequently in Python."
   ]
  },
  {
   "cell_type": "code",
   "execution_count": null,
   "metadata": {},
   "outputs": [],
   "source": [
    "another_list = [['resistivity','gamma'],[1.65,2.67]]\n",
    "another_list.append(['sand','shale'])\n",
    "print(another_list)"
   ]
  },
  {
   "cell_type": "markdown",
   "metadata": {},
   "source": [
    "Indexing lists"
   ]
  },
  {
   "cell_type": "code",
   "execution_count": null,
   "metadata": {},
   "outputs": [],
   "source": [
    "print(this_list[1])\n",
    "print(another_list[0][1])\n",
    "print(another_list[0])"
   ]
  },
  {
   "cell_type": "markdown",
   "metadata": {},
   "source": [
    "Strings are lists too, and can be indexed in the same way as a list. "
   ]
  },
  {
   "cell_type": "code",
   "execution_count": null,
   "metadata": {},
   "outputs": [],
   "source": [
    "this_string = 'Strings are lists too'\n",
    "\n",
    "print(this_string[0:7])\n",
    "print(this_string[8:])"
   ]
  },
  {
   "cell_type": "markdown",
   "metadata": {},
   "source": [
    "## Dictionaries\n",
    "Dictionaries are a very useful data structure and are relied on in many Python packages for defining inputs. \n",
    "\n",
    "Dictionaries are declared using curly brackets: {}\n",
    "\n",
    "and the basic structure is: {'UWI':'16-09-010-09W1', 'proppant_placed': 120, 'stages':32}\n",
    "\n",
    "A very popular data type is a json and a geojson. These are just dictionaries accornding to Python."
   ]
  },
  {
   "cell_type": "code",
   "execution_count": 16,
   "metadata": {},
   "outputs": [
    {
     "name": "stdout",
     "output_type": "stream",
     "text": [
      "{'UWI': '16-09-010-09W1', 'proppant_placed': 120, 'stages': 32}\n"
     ]
    }
   ],
   "source": [
    "well_dict =  {'UWI':'16-09-010-09W1', 'proppant_placed': 120, 'stages':32}\n",
    "print(well_dict)"
   ]
  },
  {
   "cell_type": "markdown",
   "metadata": {},
   "source": [
    "We can print just the keys of the dict"
   ]
  },
  {
   "cell_type": "code",
   "execution_count": 17,
   "metadata": {},
   "outputs": [
    {
     "name": "stdout",
     "output_type": "stream",
     "text": [
      "dict_keys(['UWI', 'proppant_placed', 'stages'])\n"
     ]
    }
   ],
   "source": [
    "print(well_dict.keys())"
   ]
  },
  {
   "cell_type": "markdown",
   "metadata": {},
   "source": [
    "Nested Dictionaries, json, and geojson"
   ]
  },
  {
   "cell_type": "code",
   "execution_count": 21,
   "metadata": {},
   "outputs": [
    {
     "name": "stdout",
     "output_type": "stream",
     "text": [
      "dict_keys(['16-09-010-09W1', '16-09-012-09W1'])\n"
     ]
    }
   ],
   "source": [
    "nested_dict = { '16-09-010-09W1': {'proppant_placed': 120, 'stages':32},\n",
    "                '16-09-012-09W1': {'proppant_placed': 88, 'stages':24}}\n",
    "print(nested_dict.keys())\n"
   ]
  },
  {
   "cell_type": "markdown",
   "metadata": {},
   "source": [
    "Indexing dictionaries works very similarly to lists"
   ]
  },
  {
   "cell_type": "code",
   "execution_count": 31,
   "metadata": {},
   "outputs": [
    {
     "name": "stdout",
     "output_type": "stream",
     "text": [
      "120\n"
     ]
    }
   ],
   "source": [
    "print(nested_dict['16-09-010-09W1']['proppant_placed'])"
   ]
  },
  {
   "cell_type": "markdown",
   "metadata": {},
   "source": [
    "We can add elements to the dict using this syntax."
   ]
  },
  {
   "cell_type": "code",
   "execution_count": 33,
   "metadata": {},
   "outputs": [
    {
     "name": "stdout",
     "output_type": "stream",
     "text": [
      "{'16-09-010-09W1': {'proppant_placed': 120, 'stages': 32}, '16-09-012-09W1': {'proppant_placed': 88, 'stages': 24}, '16-09-013-09W1': {'proppant_placed': 92, 'stages': 29}}\n"
     ]
    }
   ],
   "source": [
    "nested_dict['16-09-013-09W1'] = {}\n",
    "\n",
    "nested_dict['16-09-013-09W1']['proppant_placed'] = 92\n",
    "nested_dict['16-09-013-09W1']['stages'] = 29\n",
    "\n",
    "print(nested_dict)"
   ]
  },
  {
   "cell_type": "markdown",
   "metadata": {},
   "source": [
    "## Tuples\n",
    "A tuple is a list, but unlike a list, once a tuple is created it cant be modified. "
   ]
  },
  {
   "cell_type": "code",
   "execution_count": 35,
   "metadata": {},
   "outputs": [
    {
     "name": "stdout",
     "output_type": "stream",
     "text": [
      "()\n",
      "(1, 2, 3)\n"
     ]
    }
   ],
   "source": [
    "# Empty tuple\n",
    "facies_tuple = ()\n",
    "print(facies_tuple)\n",
    "\n",
    "# Tuple having integers\n",
    "facies_tuple = (1, 2, 3)\n",
    "print(facies_tuple)"
   ]
  },
  {
   "cell_type": "markdown",
   "metadata": {},
   "source": [
    "# Data Types\n",
    "We will be working with a variety of data types and the ML and AI packages we will be working with have specific requirements for data type. Also, some packages modify the output from the input data type to another. Its wise to check what type of data types we are working with.\n",
    "\n",
    "The method is called type()"
   ]
  },
  {
   "cell_type": "code",
   "execution_count": 37,
   "metadata": {},
   "outputs": [
    {
     "name": "stdout",
     "output_type": "stream",
     "text": [
      "<class 'tuple'>\n",
      "<class 'dict'>\n"
     ]
    }
   ],
   "source": [
    "print(type(facies_tuple))\n",
    "print(type(well_dict))"
   ]
  },
  {
   "cell_type": "markdown",
   "metadata": {},
   "source": [
    "Its wise to name objects with the type of data associated. It just makes keeping track of data "
   ]
  },
  {
   "cell_type": "markdown",
   "metadata": {},
   "source": [
    "# When Things Go Wrong\n",
    "\n",
    "The risk with process loops is that it is possible to make a loop that runs continuously without stopping and we need a way to stop it. Lets investigate how to do that. \n",
    "\n",
    "## Python Kernels\n",
    "\n",
    "A python Kernel is the computational engine that runs the code in a notebook or a script. Every evaluated cell in the notebook adds onto the kernel, so previous evaluated cells provide the computational footing for subsequent cells in a waterfall fashion. \n",
    "\n",
    "To stop a chunk of code that has a loop with no end the kernel is interupted. This collapses the computational engine and all of the data held in memory collapses and is flushed. To continue working the kernel must be rebuilt or restarted.\n",
    "\n",
    "At the top of a Jupyter notebook there is a drop down menu titled Kernel. The menu provides the ability to to stop, pause, and restart the kernel."
   ]
  },
  {
   "cell_type": "markdown",
   "metadata": {},
   "source": [
    "# Summary\n",
    "\n",
    "### Comparisons, Logical Operators, and Conditional Control\n",
    "\n",
    "- In Python, the comparison operators are:\n",
    "\n",
    "|Operator|Name|Way it works|\n",
    "|---|---|---|\n",
    "|`a > b`|Greater than|Returns `True` if `a` has value greater than `b`|\n",
    "|`a < b`|Less than|Returns `True` if `a` has value less than `b`|\n",
    "|`a >= b`|Greater than or equal to|Returns `True` if `a` has value greater than or equal to `b`|\n",
    "|`a <= b`|Less than or equal to|Returns `True` if `a` has value less than or equal to `b`|\n",
    "|`a == b`|Equals|Returns `True` if `a` and `b` have the same value|\n",
    "|`a != b`|Not equal|Returns `True` if `a` and `b` have different value|\n",
    "|`a is b`|`is`|Returns `True` if `a` and `b` occupy the same space in memory; `a` and `b` are the same object|\n",
    "|`a is not b`|`is not`|Returns `True` if `a` and `b` occupy distinct spaces in memory|\n",
    "\n",
    "- We should not use `==` or `!=` to compare floats.\n",
    "- We can chain together boolean expressions using the `and` and `or` keywords.\n",
    "- Conditional expressions are written using the following syntax:\n",
    "\n",
    "```\n",
    "if <condition 1>:\n",
    "    # <do this if condition 1 is met>\n",
    "elif <condition 2>:\n",
    "    # <do this if condition 2 is met>\n",
    "else:\n",
    "    # <do this>\n",
    "```"
   ]
  },
  {
   "cell_type": "markdown",
   "metadata": {},
   "source": [
    "### Iteration\n",
    "\n",
    "- Use `while` loops when the program requires an unknown number of iterations.\n",
    "- Use `for` loops when the program requires a known number of iterations.\n",
    "- The `range()` variable sets a number of iterations for a `for` loop. By default, `range(<number>)` gives iterations from `0` to `<number> - 1`.\n",
    "- The syntax for a `while` loop is as follows:\n",
    "\n",
    "```\n",
    "while <condition>:\n",
    "    # <do this as long as the condition is met>\n",
    "```\n",
    "\n",
    "- The syntax for a `for` loop is as follows. **Note:** *Any* variable name may be used for the index variable. Using `i` or `index` is just a convention:\n",
    "\n",
    "```\n",
    "for index in range(start = 0, end = 10, increment = 1):\n",
    "    # <do this for every index in the above range>\n",
    "```\n",
    "\n",
    "- The `break` command exits a `while` or `for` loop.\n",
    "- The `continue` command cancels the current iteration of a loop.\n",
    "\n",
    "### Lists\n",
    "- Use [] around anything to turn it into a list\n",
    "- Use [ : ] for indexing\n",
    "- Use append to add lists \n",
    "- Use pop to drop elements\n",
    "\n",
    "### Dicts\n",
    "- Use {} and key:element to define a dict\n",
    "- Use the dict name and a [] ot index\n",
    "\n",
    "### Tuples\n",
    "- Use () for tuples, and tuples can be string or numeric\n",
    "- Tuples cant be modified once struck, but can be over wrtitten\n",
    "\n",
    "### Data Types\n",
    "- Use the type method to check data types\n",
    "- Name objects according to the data type it should be for easy reference"
   ]
  },
  {
   "cell_type": "markdown",
   "metadata": {},
   "source": [
    "# Questions"
   ]
  },
  {
   "cell_type": "code",
   "execution_count": null,
   "metadata": {},
   "outputs": [],
   "source": []
  }
 ],
 "metadata": {
  "kernelspec": {
   "display_name": "Python 3 (ipykernel)",
   "language": "python",
   "name": "python3"
  },
  "language_info": {
   "codemirror_mode": {
    "name": "ipython",
    "version": 3
   },
   "file_extension": ".py",
   "mimetype": "text/x-python",
   "name": "python",
   "nbconvert_exporter": "python",
   "pygments_lexer": "ipython3",
   "version": "3.8.8"
  }
 },
 "nbformat": 4,
 "nbformat_minor": 2
}
