{
 "cells": [
  {
   "cell_type": "markdown",
   "id": "8c8a1f43",
   "metadata": {},
   "source": [
    "[Home](https://knorrena.github.io/IndustrialDataScience/)\n",
    "[Teaching](https://knorrena.github.io/IndustrialDataScience/content/2-Teaching.html)\n",
    "\n",
    "\n",
    "# Getting Started With Python\n",
    "Welcome. \n",
    "\n",
    "## Terminology\n",
    "### Python \n",
    "Python is ...\n",
    "Good resources: \n",
    "\n",
    "### Anaconda\n",
    "[Anaconda Installer](https://www.anaconda.com/)\n",
    "\n",
    "#### How to install\n",
    "Go to the products page and download the \n",
    "\n",
    "### Environments\n",
    "\n",
    "### Notebooks\n",
    "\n",
    "### Spyder, VS Code\n",
    "I use Spyder the most. Its light and does almost everything \n"
   ]
  }
 ],
 "metadata": {
  "kernelspec": {
   "display_name": "Python 3 (ipykernel)",
   "language": "python",
   "name": "python3"
  },
  "language_info": {
   "codemirror_mode": {
    "name": "ipython",
    "version": 3
   },
   "file_extension": ".py",
   "mimetype": "text/x-python",
   "name": "python",
   "nbconvert_exporter": "python",
   "pygments_lexer": "ipython3",
   "version": "3.8.8"
  }
 },
 "nbformat": 4,
 "nbformat_minor": 5
}
